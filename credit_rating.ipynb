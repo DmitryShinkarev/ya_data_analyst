{
 "cells": [
  {
   "cell_type": "code",
   "execution_count": 6,
   "metadata": {},
   "outputs": [],
   "source": [
    "import pandas as pd"
   ]
  },
  {
   "cell_type": "markdown",
   "metadata": {},
   "source": [
    "Прочитаем и выведем таблицу для первичного ознакомления"
   ]
  },
  {
   "cell_type": "code",
   "execution_count": 7,
   "metadata": {},
   "outputs": [
    {
     "name": "stdout",
     "output_type": "stream",
     "text": [
      "   children  days_employed  dob_days education  education_id  \\\n",
      "0         1   -8437.673028        42    высшее             0   \n",
      "1         1   -4024.803754        36   среднее             1   \n",
      "2         0   -5623.422610        33   Среднее             1   \n",
      "3         3   -4124.747207        32   среднее             1   \n",
      "4         0  340266.072047        53   среднее             1   \n",
      "\n",
      "      family_status  family_status_id gender income_type  debt   total_income  \\\n",
      "0   женат / замужем                 0      F   сотрудник     0  253875.639453   \n",
      "1   женат / замужем                 0      F   сотрудник     0  112080.014102   \n",
      "2   женат / замужем                 0      M   сотрудник     0  145885.952297   \n",
      "3   женат / замужем                 0      M   сотрудник     0  267628.550329   \n",
      "4  гражданский брак                 1      F   пенсионер     0  158616.077870   \n",
      "\n",
      "                      purpose  \n",
      "0               покупка жилья  \n",
      "1     приобретение автомобиля  \n",
      "2               покупка жилья  \n",
      "3  дополнительное образование  \n",
      "4             сыграть свадьбу  \n"
     ]
    }
   ],
   "source": [
    "df = pd.read_csv('/datasets/data.csv')\n",
    "print(df.head())"
   ]
  },
  {
   "cell_type": "markdown",
   "metadata": {},
   "source": [
    "Для работы по поставленному заданию потребуются библиотеки pymystem3 и collections\n",
    "Загружаем нужные функции"
   ]
  },
  {
   "cell_type": "code",
   "execution_count": 3,
   "metadata": {},
   "outputs": [],
   "source": [
    "from collections import Counter\n",
    "from pymystem3 import Mystem"
   ]
  },
  {
   "cell_type": "markdown",
   "metadata": {},
   "source": [
    "Для начала приведем в опрядок название столбцов таблицы чтобы они были более читаемы\n",
    "    * Колонку dob_days называем просто как Old"
   ]
  },
  {
   "cell_type": "code",
   "execution_count": 8,
   "metadata": {},
   "outputs": [
    {
     "name": "stdout",
     "output_type": "stream",
     "text": [
      "Index(['children', 'days_employed', 'old', 'education', 'education_id',\n",
      "       'family_status', 'family_status_id', 'gender', 'income_type', 'debt',\n",
      "       'total_income', 'purpose'],\n",
      "      dtype='object')\n"
     ]
    }
   ],
   "source": [
    "new_names = ['children','days_employed','old','education','education_id','family_status','family_status_id','gender','income_type','debt','total_income','purpose']\n",
    "df.set_axis(new_names, axis = 'columns', inplace = True)\n",
    "# Проверяем, что колонки назвались в соответствие в назначеными названиями\n",
    "print(df.columns)\n"
   ]
  },
  {
   "cell_type": "markdown",
   "metadata": {},
   "source": [
    "Вызываем информацию о таблице чтобы понять в каких типах храняться измерения"
   ]
  },
  {
   "cell_type": "code",
   "execution_count": 9,
   "metadata": {},
   "outputs": [
    {
     "name": "stdout",
     "output_type": "stream",
     "text": [
      "<class 'pandas.core.frame.DataFrame'>\n",
      "RangeIndex: 21525 entries, 0 to 21524\n",
      "Data columns (total 12 columns):\n",
      "children            21525 non-null int64\n",
      "days_employed       19351 non-null float64\n",
      "old                 21525 non-null int64\n",
      "education           21525 non-null object\n",
      "education_id        21525 non-null int64\n",
      "family_status       21525 non-null object\n",
      "family_status_id    21525 non-null int64\n",
      "gender              21525 non-null object\n",
      "income_type         21525 non-null object\n",
      "debt                21525 non-null int64\n",
      "total_income        19351 non-null float64\n",
      "purpose             21525 non-null object\n",
      "dtypes: float64(2), int64(5), object(5)\n",
      "memory usage: 2.0+ MB\n"
     ]
    }
   ],
   "source": [
    "df.info()"
   ]
  },
  {
   "cell_type": "markdown",
   "metadata": {},
   "source": [
    "Заметим, что в таблице присутствуют NaN по этому запросим сколько их и в каких столбцах"
   ]
  },
  {
   "cell_type": "code",
   "execution_count": 10,
   "metadata": {},
   "outputs": [
    {
     "name": "stdout",
     "output_type": "stream",
     "text": [
      "children               0\n",
      "days_employed       2174\n",
      "old                    0\n",
      "education              0\n",
      "education_id           0\n",
      "family_status          0\n",
      "family_status_id       0\n",
      "gender                 0\n",
      "income_type            0\n",
      "debt                   0\n",
      "total_income        2174\n",
      "purpose                0\n",
      "dtype: int64\n"
     ]
    }
   ],
   "source": [
    "print(df.isnull().sum())"
   ]
  },
  {
   "cell_type": "markdown",
   "metadata": {},
   "source": [
    " После исследования можно заметить, что значение Null применимо только для 2 столбцов таблицы а именно: \"трудовой стаж\" и \"доход\".\n",
    " Так как я вижу столбец доход а он для задачи определяющий, проверку я начну с него"
   ]
  },
  {
   "cell_type": "code",
   "execution_count": 11,
   "metadata": {
    "scrolled": true
   },
   "outputs": [
    {
     "name": "stdout",
     "output_type": "stream",
     "text": [
      "       days_employed  total_income\n",
      "12               NaN           NaN\n",
      "26               NaN           NaN\n",
      "29               NaN           NaN\n",
      "41               NaN           NaN\n",
      "55               NaN           NaN\n",
      "65               NaN           NaN\n",
      "67               NaN           NaN\n",
      "72               NaN           NaN\n",
      "82               NaN           NaN\n",
      "83               NaN           NaN\n",
      "90               NaN           NaN\n",
      "94               NaN           NaN\n",
      "96               NaN           NaN\n",
      "97               NaN           NaN\n",
      "120              NaN           NaN\n",
      "121              NaN           NaN\n",
      "135              NaN           NaN\n",
      "141              NaN           NaN\n",
      "145              NaN           NaN\n",
      "174              NaN           NaN\n",
      "181              NaN           NaN\n",
      "189              NaN           NaN\n",
      "205              NaN           NaN\n",
      "220              NaN           NaN\n",
      "241              NaN           NaN\n",
      "242              NaN           NaN\n",
      "247              NaN           NaN\n",
      "250              NaN           NaN\n",
      "264              NaN           NaN\n",
      "278              NaN           NaN\n",
      "...              ...           ...\n",
      "21226            NaN           NaN\n",
      "21242            NaN           NaN\n",
      "21251            NaN           NaN\n",
      "21258            NaN           NaN\n",
      "21268            NaN           NaN\n",
      "21271            NaN           NaN\n",
      "21281            NaN           NaN\n",
      "21294            NaN           NaN\n",
      "21300            NaN           NaN\n",
      "21305            NaN           NaN\n",
      "21308            NaN           NaN\n",
      "21311            NaN           NaN\n",
      "21321            NaN           NaN\n",
      "21350            NaN           NaN\n",
      "21364            NaN           NaN\n",
      "21369            NaN           NaN\n",
      "21390            NaN           NaN\n",
      "21391            NaN           NaN\n",
      "21407            NaN           NaN\n",
      "21414            NaN           NaN\n",
      "21415            NaN           NaN\n",
      "21423            NaN           NaN\n",
      "21426            NaN           NaN\n",
      "21432            NaN           NaN\n",
      "21463            NaN           NaN\n",
      "21489            NaN           NaN\n",
      "21495            NaN           NaN\n",
      "21497            NaN           NaN\n",
      "21502            NaN           NaN\n",
      "21510            NaN           NaN\n",
      "\n",
      "[2174 rows x 2 columns]\n"
     ]
    }
   ],
   "source": [
    "df_null = df[(df['total_income'].isnull())]\n",
    "print(df_null[['days_employed','total_income']])"
   ]
  },
  {
   "cell_type": "markdown",
   "metadata": {},
   "source": [
    "Проверка показала, что все значения NaN столбика \"year_employed\" коррелируются с значением NaN столбика \"total_income\"\n",
    "Удалям все значения Null\n",
    "\n",
    "Это скорее всего отказы по кредитам"
   ]
  },
  {
   "cell_type": "markdown",
   "metadata": {},
   "source": [
    "<font color='green'> Я решил удалить все значения так как поле \"сумма заработка\" определяющее для решения о выдачи кредита в дальнейшем. Его конечно можно заменить на усредненные значения даже разбив по группам, что то вроде: Вот выборка госслужащих вот их массив окладов и возьмем среднее так же и по стажу, но эти данные могут сильно повлиять на конечный вывод так как строк давольно много (10.1%) для данного статистического анализа. Кто это? и почему данные такие, вредя ли можно понять с той точностью с которой можно дальше использовать в анализе</font>"
   ]
  },
  {
   "cell_type": "code",
   "execution_count": 12,
   "metadata": {},
   "outputs": [
    {
     "data": {
      "text/html": [
       "<div>\n",
       "<style scoped>\n",
       "    .dataframe tbody tr th:only-of-type {\n",
       "        vertical-align: middle;\n",
       "    }\n",
       "\n",
       "    .dataframe tbody tr th {\n",
       "        vertical-align: top;\n",
       "    }\n",
       "\n",
       "    .dataframe thead th {\n",
       "        text-align: right;\n",
       "    }\n",
       "</style>\n",
       "<table border=\"1\" class=\"dataframe\">\n",
       "  <thead>\n",
       "    <tr style=\"text-align: right;\">\n",
       "      <th></th>\n",
       "      <th>children</th>\n",
       "      <th>days_employed</th>\n",
       "      <th>old</th>\n",
       "      <th>education</th>\n",
       "      <th>education_id</th>\n",
       "      <th>family_status</th>\n",
       "      <th>family_status_id</th>\n",
       "      <th>gender</th>\n",
       "      <th>income_type</th>\n",
       "      <th>debt</th>\n",
       "      <th>total_income</th>\n",
       "      <th>purpose</th>\n",
       "    </tr>\n",
       "  </thead>\n",
       "  <tbody>\n",
       "    <tr>\n",
       "      <th>0</th>\n",
       "      <td>1</td>\n",
       "      <td>-8437.673028</td>\n",
       "      <td>42</td>\n",
       "      <td>высшее</td>\n",
       "      <td>0</td>\n",
       "      <td>женат / замужем</td>\n",
       "      <td>0</td>\n",
       "      <td>F</td>\n",
       "      <td>сотрудник</td>\n",
       "      <td>0</td>\n",
       "      <td>253875.639453</td>\n",
       "      <td>покупка жилья</td>\n",
       "    </tr>\n",
       "    <tr>\n",
       "      <th>1</th>\n",
       "      <td>1</td>\n",
       "      <td>-4024.803754</td>\n",
       "      <td>36</td>\n",
       "      <td>среднее</td>\n",
       "      <td>1</td>\n",
       "      <td>женат / замужем</td>\n",
       "      <td>0</td>\n",
       "      <td>F</td>\n",
       "      <td>сотрудник</td>\n",
       "      <td>0</td>\n",
       "      <td>112080.014102</td>\n",
       "      <td>приобретение автомобиля</td>\n",
       "    </tr>\n",
       "    <tr>\n",
       "      <th>2</th>\n",
       "      <td>0</td>\n",
       "      <td>-5623.422610</td>\n",
       "      <td>33</td>\n",
       "      <td>Среднее</td>\n",
       "      <td>1</td>\n",
       "      <td>женат / замужем</td>\n",
       "      <td>0</td>\n",
       "      <td>M</td>\n",
       "      <td>сотрудник</td>\n",
       "      <td>0</td>\n",
       "      <td>145885.952297</td>\n",
       "      <td>покупка жилья</td>\n",
       "    </tr>\n",
       "    <tr>\n",
       "      <th>3</th>\n",
       "      <td>3</td>\n",
       "      <td>-4124.747207</td>\n",
       "      <td>32</td>\n",
       "      <td>среднее</td>\n",
       "      <td>1</td>\n",
       "      <td>женат / замужем</td>\n",
       "      <td>0</td>\n",
       "      <td>M</td>\n",
       "      <td>сотрудник</td>\n",
       "      <td>0</td>\n",
       "      <td>267628.550329</td>\n",
       "      <td>дополнительное образование</td>\n",
       "    </tr>\n",
       "    <tr>\n",
       "      <th>4</th>\n",
       "      <td>0</td>\n",
       "      <td>340266.072047</td>\n",
       "      <td>53</td>\n",
       "      <td>среднее</td>\n",
       "      <td>1</td>\n",
       "      <td>гражданский брак</td>\n",
       "      <td>1</td>\n",
       "      <td>F</td>\n",
       "      <td>пенсионер</td>\n",
       "      <td>0</td>\n",
       "      <td>158616.077870</td>\n",
       "      <td>сыграть свадьбу</td>\n",
       "    </tr>\n",
       "    <tr>\n",
       "      <th>5</th>\n",
       "      <td>0</td>\n",
       "      <td>-926.185831</td>\n",
       "      <td>27</td>\n",
       "      <td>высшее</td>\n",
       "      <td>0</td>\n",
       "      <td>гражданский брак</td>\n",
       "      <td>1</td>\n",
       "      <td>M</td>\n",
       "      <td>компаньон</td>\n",
       "      <td>0</td>\n",
       "      <td>255763.565419</td>\n",
       "      <td>покупка жилья</td>\n",
       "    </tr>\n",
       "    <tr>\n",
       "      <th>6</th>\n",
       "      <td>0</td>\n",
       "      <td>-2879.202052</td>\n",
       "      <td>43</td>\n",
       "      <td>высшее</td>\n",
       "      <td>0</td>\n",
       "      <td>женат / замужем</td>\n",
       "      <td>0</td>\n",
       "      <td>F</td>\n",
       "      <td>компаньон</td>\n",
       "      <td>0</td>\n",
       "      <td>240525.971920</td>\n",
       "      <td>операции с жильем</td>\n",
       "    </tr>\n",
       "    <tr>\n",
       "      <th>7</th>\n",
       "      <td>0</td>\n",
       "      <td>-152.779569</td>\n",
       "      <td>50</td>\n",
       "      <td>СРЕДНЕЕ</td>\n",
       "      <td>1</td>\n",
       "      <td>женат / замужем</td>\n",
       "      <td>0</td>\n",
       "      <td>M</td>\n",
       "      <td>сотрудник</td>\n",
       "      <td>0</td>\n",
       "      <td>135823.934197</td>\n",
       "      <td>образование</td>\n",
       "    </tr>\n",
       "    <tr>\n",
       "      <th>8</th>\n",
       "      <td>2</td>\n",
       "      <td>-6929.865299</td>\n",
       "      <td>35</td>\n",
       "      <td>ВЫСШЕЕ</td>\n",
       "      <td>0</td>\n",
       "      <td>гражданский брак</td>\n",
       "      <td>1</td>\n",
       "      <td>F</td>\n",
       "      <td>сотрудник</td>\n",
       "      <td>0</td>\n",
       "      <td>95856.832424</td>\n",
       "      <td>на проведение свадьбы</td>\n",
       "    </tr>\n",
       "    <tr>\n",
       "      <th>9</th>\n",
       "      <td>0</td>\n",
       "      <td>-2188.756445</td>\n",
       "      <td>41</td>\n",
       "      <td>среднее</td>\n",
       "      <td>1</td>\n",
       "      <td>женат / замужем</td>\n",
       "      <td>0</td>\n",
       "      <td>M</td>\n",
       "      <td>сотрудник</td>\n",
       "      <td>0</td>\n",
       "      <td>144425.938277</td>\n",
       "      <td>покупка жилья для семьи</td>\n",
       "    </tr>\n",
       "    <tr>\n",
       "      <th>10</th>\n",
       "      <td>2</td>\n",
       "      <td>-4171.483647</td>\n",
       "      <td>36</td>\n",
       "      <td>высшее</td>\n",
       "      <td>0</td>\n",
       "      <td>женат / замужем</td>\n",
       "      <td>0</td>\n",
       "      <td>M</td>\n",
       "      <td>компаньон</td>\n",
       "      <td>0</td>\n",
       "      <td>113943.491460</td>\n",
       "      <td>покупка недвижимости</td>\n",
       "    </tr>\n",
       "    <tr>\n",
       "      <th>11</th>\n",
       "      <td>0</td>\n",
       "      <td>-792.701887</td>\n",
       "      <td>40</td>\n",
       "      <td>среднее</td>\n",
       "      <td>1</td>\n",
       "      <td>женат / замужем</td>\n",
       "      <td>0</td>\n",
       "      <td>F</td>\n",
       "      <td>сотрудник</td>\n",
       "      <td>0</td>\n",
       "      <td>77069.234271</td>\n",
       "      <td>покупка коммерческой недвижимости</td>\n",
       "    </tr>\n",
       "    <tr>\n",
       "      <th>12</th>\n",
       "      <td>0</td>\n",
       "      <td>-1846.641941</td>\n",
       "      <td>54</td>\n",
       "      <td>неоконченное высшее</td>\n",
       "      <td>2</td>\n",
       "      <td>женат / замужем</td>\n",
       "      <td>0</td>\n",
       "      <td>F</td>\n",
       "      <td>сотрудник</td>\n",
       "      <td>0</td>\n",
       "      <td>130458.228857</td>\n",
       "      <td>приобретение автомобиля</td>\n",
       "    </tr>\n",
       "    <tr>\n",
       "      <th>13</th>\n",
       "      <td>0</td>\n",
       "      <td>-1844.956182</td>\n",
       "      <td>56</td>\n",
       "      <td>высшее</td>\n",
       "      <td>0</td>\n",
       "      <td>гражданский брак</td>\n",
       "      <td>1</td>\n",
       "      <td>F</td>\n",
       "      <td>компаньон</td>\n",
       "      <td>1</td>\n",
       "      <td>165127.911772</td>\n",
       "      <td>покупка жилой недвижимости</td>\n",
       "    </tr>\n",
       "    <tr>\n",
       "      <th>14</th>\n",
       "      <td>1</td>\n",
       "      <td>-972.364419</td>\n",
       "      <td>26</td>\n",
       "      <td>среднее</td>\n",
       "      <td>1</td>\n",
       "      <td>женат / замужем</td>\n",
       "      <td>0</td>\n",
       "      <td>F</td>\n",
       "      <td>сотрудник</td>\n",
       "      <td>0</td>\n",
       "      <td>116820.904450</td>\n",
       "      <td>строительство собственной недвижимости</td>\n",
       "    </tr>\n",
       "    <tr>\n",
       "      <th>15</th>\n",
       "      <td>0</td>\n",
       "      <td>-1719.934226</td>\n",
       "      <td>35</td>\n",
       "      <td>среднее</td>\n",
       "      <td>1</td>\n",
       "      <td>женат / замужем</td>\n",
       "      <td>0</td>\n",
       "      <td>F</td>\n",
       "      <td>сотрудник</td>\n",
       "      <td>0</td>\n",
       "      <td>289202.704229</td>\n",
       "      <td>недвижимость</td>\n",
       "    </tr>\n",
       "    <tr>\n",
       "      <th>16</th>\n",
       "      <td>0</td>\n",
       "      <td>-2369.999720</td>\n",
       "      <td>33</td>\n",
       "      <td>высшее</td>\n",
       "      <td>0</td>\n",
       "      <td>гражданский брак</td>\n",
       "      <td>1</td>\n",
       "      <td>M</td>\n",
       "      <td>сотрудник</td>\n",
       "      <td>0</td>\n",
       "      <td>90410.586745</td>\n",
       "      <td>строительство недвижимости</td>\n",
       "    </tr>\n",
       "    <tr>\n",
       "      <th>17</th>\n",
       "      <td>0</td>\n",
       "      <td>400281.136913</td>\n",
       "      <td>53</td>\n",
       "      <td>среднее</td>\n",
       "      <td>1</td>\n",
       "      <td>вдовец / вдова</td>\n",
       "      <td>2</td>\n",
       "      <td>F</td>\n",
       "      <td>пенсионер</td>\n",
       "      <td>0</td>\n",
       "      <td>56823.777243</td>\n",
       "      <td>на покупку подержанного автомобиля</td>\n",
       "    </tr>\n",
       "    <tr>\n",
       "      <th>18</th>\n",
       "      <td>0</td>\n",
       "      <td>-10038.818549</td>\n",
       "      <td>48</td>\n",
       "      <td>СРЕДНЕЕ</td>\n",
       "      <td>1</td>\n",
       "      <td>в разводе</td>\n",
       "      <td>3</td>\n",
       "      <td>F</td>\n",
       "      <td>сотрудник</td>\n",
       "      <td>0</td>\n",
       "      <td>242831.107982</td>\n",
       "      <td>на покупку своего автомобиля</td>\n",
       "    </tr>\n",
       "    <tr>\n",
       "      <th>19</th>\n",
       "      <td>1</td>\n",
       "      <td>-1311.604166</td>\n",
       "      <td>36</td>\n",
       "      <td>среднее</td>\n",
       "      <td>1</td>\n",
       "      <td>женат / замужем</td>\n",
       "      <td>0</td>\n",
       "      <td>M</td>\n",
       "      <td>сотрудник</td>\n",
       "      <td>0</td>\n",
       "      <td>209552.644578</td>\n",
       "      <td>недвижимость</td>\n",
       "    </tr>\n",
       "    <tr>\n",
       "      <th>20</th>\n",
       "      <td>1</td>\n",
       "      <td>-253.685166</td>\n",
       "      <td>33</td>\n",
       "      <td>среднее</td>\n",
       "      <td>1</td>\n",
       "      <td>гражданский брак</td>\n",
       "      <td>1</td>\n",
       "      <td>F</td>\n",
       "      <td>сотрудник</td>\n",
       "      <td>0</td>\n",
       "      <td>131812.203909</td>\n",
       "      <td>приобретение автомобиля</td>\n",
       "    </tr>\n",
       "    <tr>\n",
       "      <th>21</th>\n",
       "      <td>1</td>\n",
       "      <td>-1766.644138</td>\n",
       "      <td>24</td>\n",
       "      <td>среднее</td>\n",
       "      <td>1</td>\n",
       "      <td>гражданский брак</td>\n",
       "      <td>1</td>\n",
       "      <td>F</td>\n",
       "      <td>сотрудник</td>\n",
       "      <td>0</td>\n",
       "      <td>149681.140731</td>\n",
       "      <td>на покупку подержанного автомобиля</td>\n",
       "    </tr>\n",
       "    <tr>\n",
       "      <th>22</th>\n",
       "      <td>0</td>\n",
       "      <td>-272.981385</td>\n",
       "      <td>21</td>\n",
       "      <td>высшее</td>\n",
       "      <td>0</td>\n",
       "      <td>гражданский брак</td>\n",
       "      <td>1</td>\n",
       "      <td>M</td>\n",
       "      <td>сотрудник</td>\n",
       "      <td>0</td>\n",
       "      <td>128265.720871</td>\n",
       "      <td>сыграть свадьбу</td>\n",
       "    </tr>\n",
       "    <tr>\n",
       "      <th>23</th>\n",
       "      <td>1</td>\n",
       "      <td>338551.952911</td>\n",
       "      <td>57</td>\n",
       "      <td>среднее</td>\n",
       "      <td>1</td>\n",
       "      <td>Не женат / не замужем</td>\n",
       "      <td>4</td>\n",
       "      <td>F</td>\n",
       "      <td>пенсионер</td>\n",
       "      <td>0</td>\n",
       "      <td>290547.235997</td>\n",
       "      <td>операции с коммерческой недвижимостью</td>\n",
       "    </tr>\n",
       "    <tr>\n",
       "      <th>24</th>\n",
       "      <td>0</td>\n",
       "      <td>363548.489348</td>\n",
       "      <td>67</td>\n",
       "      <td>среднее</td>\n",
       "      <td>1</td>\n",
       "      <td>женат / замужем</td>\n",
       "      <td>0</td>\n",
       "      <td>M</td>\n",
       "      <td>пенсионер</td>\n",
       "      <td>0</td>\n",
       "      <td>55112.757732</td>\n",
       "      <td>покупка недвижимости</td>\n",
       "    </tr>\n",
       "    <tr>\n",
       "      <th>25</th>\n",
       "      <td>0</td>\n",
       "      <td>-529.191635</td>\n",
       "      <td>28</td>\n",
       "      <td>высшее</td>\n",
       "      <td>0</td>\n",
       "      <td>женат / замужем</td>\n",
       "      <td>0</td>\n",
       "      <td>M</td>\n",
       "      <td>сотрудник</td>\n",
       "      <td>0</td>\n",
       "      <td>308848.983691</td>\n",
       "      <td>строительство собственной недвижимости</td>\n",
       "    </tr>\n",
       "    <tr>\n",
       "      <th>26</th>\n",
       "      <td>1</td>\n",
       "      <td>-717.274324</td>\n",
       "      <td>26</td>\n",
       "      <td>высшее</td>\n",
       "      <td>0</td>\n",
       "      <td>женат / замужем</td>\n",
       "      <td>0</td>\n",
       "      <td>F</td>\n",
       "      <td>сотрудник</td>\n",
       "      <td>0</td>\n",
       "      <td>187863.237306</td>\n",
       "      <td>строительство собственной недвижимости</td>\n",
       "    </tr>\n",
       "    <tr>\n",
       "      <th>27</th>\n",
       "      <td>1</td>\n",
       "      <td>335581.668515</td>\n",
       "      <td>62</td>\n",
       "      <td>среднее</td>\n",
       "      <td>1</td>\n",
       "      <td>женат / замужем</td>\n",
       "      <td>0</td>\n",
       "      <td>F</td>\n",
       "      <td>пенсионер</td>\n",
       "      <td>0</td>\n",
       "      <td>171456.067993</td>\n",
       "      <td>операции с коммерческой недвижимостью</td>\n",
       "    </tr>\n",
       "    <tr>\n",
       "      <th>28</th>\n",
       "      <td>0</td>\n",
       "      <td>-1682.083438</td>\n",
       "      <td>47</td>\n",
       "      <td>начальное</td>\n",
       "      <td>3</td>\n",
       "      <td>женат / замужем</td>\n",
       "      <td>0</td>\n",
       "      <td>F</td>\n",
       "      <td>сотрудник</td>\n",
       "      <td>0</td>\n",
       "      <td>275485.684538</td>\n",
       "      <td>жилье</td>\n",
       "    </tr>\n",
       "    <tr>\n",
       "      <th>29</th>\n",
       "      <td>0</td>\n",
       "      <td>-4649.910832</td>\n",
       "      <td>34</td>\n",
       "      <td>СРЕДНЕЕ</td>\n",
       "      <td>1</td>\n",
       "      <td>гражданский брак</td>\n",
       "      <td>1</td>\n",
       "      <td>F</td>\n",
       "      <td>сотрудник</td>\n",
       "      <td>1</td>\n",
       "      <td>139057.464207</td>\n",
       "      <td>на проведение свадьбы</td>\n",
       "    </tr>\n",
       "    <tr>\n",
       "      <th>...</th>\n",
       "      <td>...</td>\n",
       "      <td>...</td>\n",
       "      <td>...</td>\n",
       "      <td>...</td>\n",
       "      <td>...</td>\n",
       "      <td>...</td>\n",
       "      <td>...</td>\n",
       "      <td>...</td>\n",
       "      <td>...</td>\n",
       "      <td>...</td>\n",
       "      <td>...</td>\n",
       "      <td>...</td>\n",
       "    </tr>\n",
       "    <tr>\n",
       "      <th>19321</th>\n",
       "      <td>20</td>\n",
       "      <td>-173.954460</td>\n",
       "      <td>27</td>\n",
       "      <td>среднее</td>\n",
       "      <td>1</td>\n",
       "      <td>женат / замужем</td>\n",
       "      <td>0</td>\n",
       "      <td>F</td>\n",
       "      <td>сотрудник</td>\n",
       "      <td>0</td>\n",
       "      <td>155520.899688</td>\n",
       "      <td>на покупку подержанного автомобиля</td>\n",
       "    </tr>\n",
       "    <tr>\n",
       "      <th>19322</th>\n",
       "      <td>0</td>\n",
       "      <td>-1618.645283</td>\n",
       "      <td>54</td>\n",
       "      <td>среднее</td>\n",
       "      <td>1</td>\n",
       "      <td>женат / замужем</td>\n",
       "      <td>0</td>\n",
       "      <td>M</td>\n",
       "      <td>компаньон</td>\n",
       "      <td>0</td>\n",
       "      <td>295234.214807</td>\n",
       "      <td>покупка жилой недвижимости</td>\n",
       "    </tr>\n",
       "    <tr>\n",
       "      <th>19323</th>\n",
       "      <td>1</td>\n",
       "      <td>-1214.858885</td>\n",
       "      <td>38</td>\n",
       "      <td>среднее</td>\n",
       "      <td>1</td>\n",
       "      <td>женат / замужем</td>\n",
       "      <td>0</td>\n",
       "      <td>F</td>\n",
       "      <td>сотрудник</td>\n",
       "      <td>0</td>\n",
       "      <td>147502.599329</td>\n",
       "      <td>покупка жилья для семьи</td>\n",
       "    </tr>\n",
       "    <tr>\n",
       "      <th>19324</th>\n",
       "      <td>0</td>\n",
       "      <td>-960.095747</td>\n",
       "      <td>39</td>\n",
       "      <td>среднее</td>\n",
       "      <td>1</td>\n",
       "      <td>гражданский брак</td>\n",
       "      <td>1</td>\n",
       "      <td>M</td>\n",
       "      <td>компаньон</td>\n",
       "      <td>1</td>\n",
       "      <td>176369.594491</td>\n",
       "      <td>дополнительное образование</td>\n",
       "    </tr>\n",
       "    <tr>\n",
       "      <th>19325</th>\n",
       "      <td>1</td>\n",
       "      <td>-759.680851</td>\n",
       "      <td>31</td>\n",
       "      <td>среднее</td>\n",
       "      <td>1</td>\n",
       "      <td>женат / замужем</td>\n",
       "      <td>0</td>\n",
       "      <td>F</td>\n",
       "      <td>сотрудник</td>\n",
       "      <td>0</td>\n",
       "      <td>119392.620079</td>\n",
       "      <td>на покупку автомобиля</td>\n",
       "    </tr>\n",
       "    <tr>\n",
       "      <th>19326</th>\n",
       "      <td>1</td>\n",
       "      <td>-1330.627998</td>\n",
       "      <td>32</td>\n",
       "      <td>среднее</td>\n",
       "      <td>1</td>\n",
       "      <td>гражданский брак</td>\n",
       "      <td>1</td>\n",
       "      <td>M</td>\n",
       "      <td>сотрудник</td>\n",
       "      <td>0</td>\n",
       "      <td>240767.575887</td>\n",
       "      <td>сыграть свадьбу</td>\n",
       "    </tr>\n",
       "    <tr>\n",
       "      <th>19327</th>\n",
       "      <td>0</td>\n",
       "      <td>-9929.015065</td>\n",
       "      <td>57</td>\n",
       "      <td>среднее</td>\n",
       "      <td>1</td>\n",
       "      <td>гражданский брак</td>\n",
       "      <td>1</td>\n",
       "      <td>M</td>\n",
       "      <td>компаньон</td>\n",
       "      <td>0</td>\n",
       "      <td>157553.158589</td>\n",
       "      <td>свадьба</td>\n",
       "    </tr>\n",
       "    <tr>\n",
       "      <th>19328</th>\n",
       "      <td>0</td>\n",
       "      <td>-578.082757</td>\n",
       "      <td>26</td>\n",
       "      <td>неоконченное высшее</td>\n",
       "      <td>2</td>\n",
       "      <td>Не женат / не замужем</td>\n",
       "      <td>4</td>\n",
       "      <td>M</td>\n",
       "      <td>компаньон</td>\n",
       "      <td>0</td>\n",
       "      <td>77813.293365</td>\n",
       "      <td>операции с коммерческой недвижимостью</td>\n",
       "    </tr>\n",
       "    <tr>\n",
       "      <th>19329</th>\n",
       "      <td>0</td>\n",
       "      <td>334343.096304</td>\n",
       "      <td>57</td>\n",
       "      <td>среднее</td>\n",
       "      <td>1</td>\n",
       "      <td>женат / замужем</td>\n",
       "      <td>0</td>\n",
       "      <td>F</td>\n",
       "      <td>пенсионер</td>\n",
       "      <td>0</td>\n",
       "      <td>86232.126549</td>\n",
       "      <td>жилье</td>\n",
       "    </tr>\n",
       "    <tr>\n",
       "      <th>19330</th>\n",
       "      <td>0</td>\n",
       "      <td>-3096.881131</td>\n",
       "      <td>58</td>\n",
       "      <td>среднее</td>\n",
       "      <td>1</td>\n",
       "      <td>женат / замужем</td>\n",
       "      <td>0</td>\n",
       "      <td>F</td>\n",
       "      <td>сотрудник</td>\n",
       "      <td>0</td>\n",
       "      <td>264250.997662</td>\n",
       "      <td>заняться образованием</td>\n",
       "    </tr>\n",
       "    <tr>\n",
       "      <th>19331</th>\n",
       "      <td>0</td>\n",
       "      <td>355235.728158</td>\n",
       "      <td>68</td>\n",
       "      <td>среднее</td>\n",
       "      <td>1</td>\n",
       "      <td>женат / замужем</td>\n",
       "      <td>0</td>\n",
       "      <td>F</td>\n",
       "      <td>пенсионер</td>\n",
       "      <td>0</td>\n",
       "      <td>80566.321329</td>\n",
       "      <td>дополнительное образование</td>\n",
       "    </tr>\n",
       "    <tr>\n",
       "      <th>19332</th>\n",
       "      <td>0</td>\n",
       "      <td>338904.866406</td>\n",
       "      <td>53</td>\n",
       "      <td>среднее</td>\n",
       "      <td>1</td>\n",
       "      <td>гражданский брак</td>\n",
       "      <td>1</td>\n",
       "      <td>M</td>\n",
       "      <td>пенсионер</td>\n",
       "      <td>0</td>\n",
       "      <td>75439.993167</td>\n",
       "      <td>сыграть свадьбу</td>\n",
       "    </tr>\n",
       "    <tr>\n",
       "      <th>19333</th>\n",
       "      <td>1</td>\n",
       "      <td>-1556.249906</td>\n",
       "      <td>33</td>\n",
       "      <td>ВЫСШЕЕ</td>\n",
       "      <td>0</td>\n",
       "      <td>гражданский брак</td>\n",
       "      <td>1</td>\n",
       "      <td>F</td>\n",
       "      <td>сотрудник</td>\n",
       "      <td>0</td>\n",
       "      <td>145541.993320</td>\n",
       "      <td>свадьба</td>\n",
       "    </tr>\n",
       "    <tr>\n",
       "      <th>19334</th>\n",
       "      <td>1</td>\n",
       "      <td>-79.832064</td>\n",
       "      <td>32</td>\n",
       "      <td>среднее</td>\n",
       "      <td>1</td>\n",
       "      <td>гражданский брак</td>\n",
       "      <td>1</td>\n",
       "      <td>F</td>\n",
       "      <td>госслужащий</td>\n",
       "      <td>0</td>\n",
       "      <td>98180.279152</td>\n",
       "      <td>сделка с подержанным автомобилем</td>\n",
       "    </tr>\n",
       "    <tr>\n",
       "      <th>19335</th>\n",
       "      <td>0</td>\n",
       "      <td>386497.714078</td>\n",
       "      <td>62</td>\n",
       "      <td>среднее</td>\n",
       "      <td>1</td>\n",
       "      <td>женат / замужем</td>\n",
       "      <td>0</td>\n",
       "      <td>M</td>\n",
       "      <td>пенсионер</td>\n",
       "      <td>0</td>\n",
       "      <td>72638.590915</td>\n",
       "      <td>недвижимость</td>\n",
       "    </tr>\n",
       "    <tr>\n",
       "      <th>19336</th>\n",
       "      <td>0</td>\n",
       "      <td>362161.054124</td>\n",
       "      <td>59</td>\n",
       "      <td>высшее</td>\n",
       "      <td>0</td>\n",
       "      <td>женат / замужем</td>\n",
       "      <td>0</td>\n",
       "      <td>M</td>\n",
       "      <td>пенсионер</td>\n",
       "      <td>0</td>\n",
       "      <td>73029.059379</td>\n",
       "      <td>операции с недвижимостью</td>\n",
       "    </tr>\n",
       "    <tr>\n",
       "      <th>19337</th>\n",
       "      <td>0</td>\n",
       "      <td>-612.569129</td>\n",
       "      <td>29</td>\n",
       "      <td>высшее</td>\n",
       "      <td>0</td>\n",
       "      <td>гражданский брак</td>\n",
       "      <td>1</td>\n",
       "      <td>F</td>\n",
       "      <td>сотрудник</td>\n",
       "      <td>1</td>\n",
       "      <td>140068.472941</td>\n",
       "      <td>покупка жилья для сдачи</td>\n",
       "    </tr>\n",
       "    <tr>\n",
       "      <th>19338</th>\n",
       "      <td>0</td>\n",
       "      <td>-165.377752</td>\n",
       "      <td>26</td>\n",
       "      <td>высшее</td>\n",
       "      <td>0</td>\n",
       "      <td>Не женат / не замужем</td>\n",
       "      <td>4</td>\n",
       "      <td>M</td>\n",
       "      <td>компаньон</td>\n",
       "      <td>0</td>\n",
       "      <td>147301.457769</td>\n",
       "      <td>получение дополнительного образования</td>\n",
       "    </tr>\n",
       "    <tr>\n",
       "      <th>19339</th>\n",
       "      <td>0</td>\n",
       "      <td>-1166.216789</td>\n",
       "      <td>35</td>\n",
       "      <td>среднее</td>\n",
       "      <td>1</td>\n",
       "      <td>женат / замужем</td>\n",
       "      <td>0</td>\n",
       "      <td>F</td>\n",
       "      <td>сотрудник</td>\n",
       "      <td>0</td>\n",
       "      <td>250986.142309</td>\n",
       "      <td>покупка жилья</td>\n",
       "    </tr>\n",
       "    <tr>\n",
       "      <th>19340</th>\n",
       "      <td>0</td>\n",
       "      <td>-280.469996</td>\n",
       "      <td>27</td>\n",
       "      <td>неоконченное высшее</td>\n",
       "      <td>2</td>\n",
       "      <td>Не женат / не замужем</td>\n",
       "      <td>4</td>\n",
       "      <td>M</td>\n",
       "      <td>компаньон</td>\n",
       "      <td>0</td>\n",
       "      <td>355988.407188</td>\n",
       "      <td>строительство недвижимости</td>\n",
       "    </tr>\n",
       "    <tr>\n",
       "      <th>19341</th>\n",
       "      <td>1</td>\n",
       "      <td>-467.685130</td>\n",
       "      <td>28</td>\n",
       "      <td>среднее</td>\n",
       "      <td>1</td>\n",
       "      <td>женат / замужем</td>\n",
       "      <td>0</td>\n",
       "      <td>F</td>\n",
       "      <td>сотрудник</td>\n",
       "      <td>1</td>\n",
       "      <td>109486.327999</td>\n",
       "      <td>заняться образованием</td>\n",
       "    </tr>\n",
       "    <tr>\n",
       "      <th>19342</th>\n",
       "      <td>0</td>\n",
       "      <td>-914.391429</td>\n",
       "      <td>42</td>\n",
       "      <td>высшее</td>\n",
       "      <td>0</td>\n",
       "      <td>женат / замужем</td>\n",
       "      <td>0</td>\n",
       "      <td>F</td>\n",
       "      <td>компаньон</td>\n",
       "      <td>0</td>\n",
       "      <td>322807.776603</td>\n",
       "      <td>покупка своего жилья</td>\n",
       "    </tr>\n",
       "    <tr>\n",
       "      <th>19343</th>\n",
       "      <td>0</td>\n",
       "      <td>-404.679034</td>\n",
       "      <td>42</td>\n",
       "      <td>высшее</td>\n",
       "      <td>0</td>\n",
       "      <td>гражданский брак</td>\n",
       "      <td>1</td>\n",
       "      <td>F</td>\n",
       "      <td>компаньон</td>\n",
       "      <td>0</td>\n",
       "      <td>178059.553491</td>\n",
       "      <td>на покупку своего автомобиля</td>\n",
       "    </tr>\n",
       "    <tr>\n",
       "      <th>19344</th>\n",
       "      <td>0</td>\n",
       "      <td>373995.710838</td>\n",
       "      <td>59</td>\n",
       "      <td>СРЕДНЕЕ</td>\n",
       "      <td>1</td>\n",
       "      <td>женат / замужем</td>\n",
       "      <td>0</td>\n",
       "      <td>F</td>\n",
       "      <td>пенсионер</td>\n",
       "      <td>0</td>\n",
       "      <td>153864.650328</td>\n",
       "      <td>сделка с автомобилем</td>\n",
       "    </tr>\n",
       "    <tr>\n",
       "      <th>19345</th>\n",
       "      <td>1</td>\n",
       "      <td>-2351.431934</td>\n",
       "      <td>37</td>\n",
       "      <td>ученая степень</td>\n",
       "      <td>4</td>\n",
       "      <td>в разводе</td>\n",
       "      <td>3</td>\n",
       "      <td>M</td>\n",
       "      <td>сотрудник</td>\n",
       "      <td>0</td>\n",
       "      <td>115949.039788</td>\n",
       "      <td>покупка коммерческой недвижимости</td>\n",
       "    </tr>\n",
       "    <tr>\n",
       "      <th>19346</th>\n",
       "      <td>1</td>\n",
       "      <td>-4529.316663</td>\n",
       "      <td>43</td>\n",
       "      <td>среднее</td>\n",
       "      <td>1</td>\n",
       "      <td>гражданский брак</td>\n",
       "      <td>1</td>\n",
       "      <td>F</td>\n",
       "      <td>компаньон</td>\n",
       "      <td>0</td>\n",
       "      <td>224791.862382</td>\n",
       "      <td>операции с жильем</td>\n",
       "    </tr>\n",
       "    <tr>\n",
       "      <th>19347</th>\n",
       "      <td>0</td>\n",
       "      <td>343937.404131</td>\n",
       "      <td>67</td>\n",
       "      <td>среднее</td>\n",
       "      <td>1</td>\n",
       "      <td>женат / замужем</td>\n",
       "      <td>0</td>\n",
       "      <td>F</td>\n",
       "      <td>пенсионер</td>\n",
       "      <td>0</td>\n",
       "      <td>155999.806512</td>\n",
       "      <td>сделка с автомобилем</td>\n",
       "    </tr>\n",
       "    <tr>\n",
       "      <th>19348</th>\n",
       "      <td>1</td>\n",
       "      <td>-2113.346888</td>\n",
       "      <td>38</td>\n",
       "      <td>среднее</td>\n",
       "      <td>1</td>\n",
       "      <td>гражданский брак</td>\n",
       "      <td>1</td>\n",
       "      <td>M</td>\n",
       "      <td>сотрудник</td>\n",
       "      <td>1</td>\n",
       "      <td>89672.561153</td>\n",
       "      <td>недвижимость</td>\n",
       "    </tr>\n",
       "    <tr>\n",
       "      <th>19349</th>\n",
       "      <td>3</td>\n",
       "      <td>-3112.481705</td>\n",
       "      <td>38</td>\n",
       "      <td>среднее</td>\n",
       "      <td>1</td>\n",
       "      <td>женат / замужем</td>\n",
       "      <td>0</td>\n",
       "      <td>M</td>\n",
       "      <td>сотрудник</td>\n",
       "      <td>1</td>\n",
       "      <td>244093.050500</td>\n",
       "      <td>на покупку своего автомобиля</td>\n",
       "    </tr>\n",
       "    <tr>\n",
       "      <th>19350</th>\n",
       "      <td>2</td>\n",
       "      <td>-1984.507589</td>\n",
       "      <td>40</td>\n",
       "      <td>среднее</td>\n",
       "      <td>1</td>\n",
       "      <td>женат / замужем</td>\n",
       "      <td>0</td>\n",
       "      <td>F</td>\n",
       "      <td>сотрудник</td>\n",
       "      <td>0</td>\n",
       "      <td>82047.418899</td>\n",
       "      <td>на покупку автомобиля</td>\n",
       "    </tr>\n",
       "  </tbody>\n",
       "</table>\n",
       "<p>19351 rows × 12 columns</p>\n",
       "</div>"
      ],
      "text/plain": [
       "       children  days_employed  old            education  education_id  \\\n",
       "0             1   -8437.673028   42               высшее             0   \n",
       "1             1   -4024.803754   36              среднее             1   \n",
       "2             0   -5623.422610   33              Среднее             1   \n",
       "3             3   -4124.747207   32              среднее             1   \n",
       "4             0  340266.072047   53              среднее             1   \n",
       "5             0    -926.185831   27               высшее             0   \n",
       "6             0   -2879.202052   43               высшее             0   \n",
       "7             0    -152.779569   50              СРЕДНЕЕ             1   \n",
       "8             2   -6929.865299   35               ВЫСШЕЕ             0   \n",
       "9             0   -2188.756445   41              среднее             1   \n",
       "10            2   -4171.483647   36               высшее             0   \n",
       "11            0    -792.701887   40              среднее             1   \n",
       "12            0   -1846.641941   54  неоконченное высшее             2   \n",
       "13            0   -1844.956182   56               высшее             0   \n",
       "14            1    -972.364419   26              среднее             1   \n",
       "15            0   -1719.934226   35              среднее             1   \n",
       "16            0   -2369.999720   33               высшее             0   \n",
       "17            0  400281.136913   53              среднее             1   \n",
       "18            0  -10038.818549   48              СРЕДНЕЕ             1   \n",
       "19            1   -1311.604166   36              среднее             1   \n",
       "20            1    -253.685166   33              среднее             1   \n",
       "21            1   -1766.644138   24              среднее             1   \n",
       "22            0    -272.981385   21               высшее             0   \n",
       "23            1  338551.952911   57              среднее             1   \n",
       "24            0  363548.489348   67              среднее             1   \n",
       "25            0    -529.191635   28               высшее             0   \n",
       "26            1    -717.274324   26               высшее             0   \n",
       "27            1  335581.668515   62              среднее             1   \n",
       "28            0   -1682.083438   47            начальное             3   \n",
       "29            0   -4649.910832   34              СРЕДНЕЕ             1   \n",
       "...         ...            ...  ...                  ...           ...   \n",
       "19321        20    -173.954460   27              среднее             1   \n",
       "19322         0   -1618.645283   54              среднее             1   \n",
       "19323         1   -1214.858885   38              среднее             1   \n",
       "19324         0    -960.095747   39              среднее             1   \n",
       "19325         1    -759.680851   31              среднее             1   \n",
       "19326         1   -1330.627998   32              среднее             1   \n",
       "19327         0   -9929.015065   57              среднее             1   \n",
       "19328         0    -578.082757   26  неоконченное высшее             2   \n",
       "19329         0  334343.096304   57              среднее             1   \n",
       "19330         0   -3096.881131   58              среднее             1   \n",
       "19331         0  355235.728158   68              среднее             1   \n",
       "19332         0  338904.866406   53              среднее             1   \n",
       "19333         1   -1556.249906   33               ВЫСШЕЕ             0   \n",
       "19334         1     -79.832064   32              среднее             1   \n",
       "19335         0  386497.714078   62              среднее             1   \n",
       "19336         0  362161.054124   59               высшее             0   \n",
       "19337         0    -612.569129   29               высшее             0   \n",
       "19338         0    -165.377752   26               высшее             0   \n",
       "19339         0   -1166.216789   35              среднее             1   \n",
       "19340         0    -280.469996   27  неоконченное высшее             2   \n",
       "19341         1    -467.685130   28              среднее             1   \n",
       "19342         0    -914.391429   42               высшее             0   \n",
       "19343         0    -404.679034   42               высшее             0   \n",
       "19344         0  373995.710838   59              СРЕДНЕЕ             1   \n",
       "19345         1   -2351.431934   37       ученая степень             4   \n",
       "19346         1   -4529.316663   43              среднее             1   \n",
       "19347         0  343937.404131   67              среднее             1   \n",
       "19348         1   -2113.346888   38              среднее             1   \n",
       "19349         3   -3112.481705   38              среднее             1   \n",
       "19350         2   -1984.507589   40              среднее             1   \n",
       "\n",
       "               family_status  family_status_id gender  income_type  debt  \\\n",
       "0            женат / замужем                 0      F    сотрудник     0   \n",
       "1            женат / замужем                 0      F    сотрудник     0   \n",
       "2            женат / замужем                 0      M    сотрудник     0   \n",
       "3            женат / замужем                 0      M    сотрудник     0   \n",
       "4           гражданский брак                 1      F    пенсионер     0   \n",
       "5           гражданский брак                 1      M    компаньон     0   \n",
       "6            женат / замужем                 0      F    компаньон     0   \n",
       "7            женат / замужем                 0      M    сотрудник     0   \n",
       "8           гражданский брак                 1      F    сотрудник     0   \n",
       "9            женат / замужем                 0      M    сотрудник     0   \n",
       "10           женат / замужем                 0      M    компаньон     0   \n",
       "11           женат / замужем                 0      F    сотрудник     0   \n",
       "12           женат / замужем                 0      F    сотрудник     0   \n",
       "13          гражданский брак                 1      F    компаньон     1   \n",
       "14           женат / замужем                 0      F    сотрудник     0   \n",
       "15           женат / замужем                 0      F    сотрудник     0   \n",
       "16          гражданский брак                 1      M    сотрудник     0   \n",
       "17            вдовец / вдова                 2      F    пенсионер     0   \n",
       "18                 в разводе                 3      F    сотрудник     0   \n",
       "19           женат / замужем                 0      M    сотрудник     0   \n",
       "20          гражданский брак                 1      F    сотрудник     0   \n",
       "21          гражданский брак                 1      F    сотрудник     0   \n",
       "22          гражданский брак                 1      M    сотрудник     0   \n",
       "23     Не женат / не замужем                 4      F    пенсионер     0   \n",
       "24           женат / замужем                 0      M    пенсионер     0   \n",
       "25           женат / замужем                 0      M    сотрудник     0   \n",
       "26           женат / замужем                 0      F    сотрудник     0   \n",
       "27           женат / замужем                 0      F    пенсионер     0   \n",
       "28           женат / замужем                 0      F    сотрудник     0   \n",
       "29          гражданский брак                 1      F    сотрудник     1   \n",
       "...                      ...               ...    ...          ...   ...   \n",
       "19321        женат / замужем                 0      F    сотрудник     0   \n",
       "19322        женат / замужем                 0      M    компаньон     0   \n",
       "19323        женат / замужем                 0      F    сотрудник     0   \n",
       "19324       гражданский брак                 1      M    компаньон     1   \n",
       "19325        женат / замужем                 0      F    сотрудник     0   \n",
       "19326       гражданский брак                 1      M    сотрудник     0   \n",
       "19327       гражданский брак                 1      M    компаньон     0   \n",
       "19328  Не женат / не замужем                 4      M    компаньон     0   \n",
       "19329        женат / замужем                 0      F    пенсионер     0   \n",
       "19330        женат / замужем                 0      F    сотрудник     0   \n",
       "19331        женат / замужем                 0      F    пенсионер     0   \n",
       "19332       гражданский брак                 1      M    пенсионер     0   \n",
       "19333       гражданский брак                 1      F    сотрудник     0   \n",
       "19334       гражданский брак                 1      F  госслужащий     0   \n",
       "19335        женат / замужем                 0      M    пенсионер     0   \n",
       "19336        женат / замужем                 0      M    пенсионер     0   \n",
       "19337       гражданский брак                 1      F    сотрудник     1   \n",
       "19338  Не женат / не замужем                 4      M    компаньон     0   \n",
       "19339        женат / замужем                 0      F    сотрудник     0   \n",
       "19340  Не женат / не замужем                 4      M    компаньон     0   \n",
       "19341        женат / замужем                 0      F    сотрудник     1   \n",
       "19342        женат / замужем                 0      F    компаньон     0   \n",
       "19343       гражданский брак                 1      F    компаньон     0   \n",
       "19344        женат / замужем                 0      F    пенсионер     0   \n",
       "19345              в разводе                 3      M    сотрудник     0   \n",
       "19346       гражданский брак                 1      F    компаньон     0   \n",
       "19347        женат / замужем                 0      F    пенсионер     0   \n",
       "19348       гражданский брак                 1      M    сотрудник     1   \n",
       "19349        женат / замужем                 0      M    сотрудник     1   \n",
       "19350        женат / замужем                 0      F    сотрудник     0   \n",
       "\n",
       "        total_income                                 purpose  \n",
       "0      253875.639453                           покупка жилья  \n",
       "1      112080.014102                 приобретение автомобиля  \n",
       "2      145885.952297                           покупка жилья  \n",
       "3      267628.550329              дополнительное образование  \n",
       "4      158616.077870                         сыграть свадьбу  \n",
       "5      255763.565419                           покупка жилья  \n",
       "6      240525.971920                       операции с жильем  \n",
       "7      135823.934197                             образование  \n",
       "8       95856.832424                   на проведение свадьбы  \n",
       "9      144425.938277                 покупка жилья для семьи  \n",
       "10     113943.491460                    покупка недвижимости  \n",
       "11      77069.234271       покупка коммерческой недвижимости  \n",
       "12     130458.228857                 приобретение автомобиля  \n",
       "13     165127.911772              покупка жилой недвижимости  \n",
       "14     116820.904450  строительство собственной недвижимости  \n",
       "15     289202.704229                            недвижимость  \n",
       "16      90410.586745              строительство недвижимости  \n",
       "17      56823.777243      на покупку подержанного автомобиля  \n",
       "18     242831.107982            на покупку своего автомобиля  \n",
       "19     209552.644578                            недвижимость  \n",
       "20     131812.203909                 приобретение автомобиля  \n",
       "21     149681.140731      на покупку подержанного автомобиля  \n",
       "22     128265.720871                         сыграть свадьбу  \n",
       "23     290547.235997   операции с коммерческой недвижимостью  \n",
       "24      55112.757732                    покупка недвижимости  \n",
       "25     308848.983691  строительство собственной недвижимости  \n",
       "26     187863.237306  строительство собственной недвижимости  \n",
       "27     171456.067993   операции с коммерческой недвижимостью  \n",
       "28     275485.684538                                   жилье  \n",
       "29     139057.464207                   на проведение свадьбы  \n",
       "...              ...                                     ...  \n",
       "19321  155520.899688      на покупку подержанного автомобиля  \n",
       "19322  295234.214807              покупка жилой недвижимости  \n",
       "19323  147502.599329                 покупка жилья для семьи  \n",
       "19324  176369.594491              дополнительное образование  \n",
       "19325  119392.620079                   на покупку автомобиля  \n",
       "19326  240767.575887                         сыграть свадьбу  \n",
       "19327  157553.158589                                 свадьба  \n",
       "19328   77813.293365   операции с коммерческой недвижимостью  \n",
       "19329   86232.126549                                   жилье  \n",
       "19330  264250.997662                   заняться образованием  \n",
       "19331   80566.321329              дополнительное образование  \n",
       "19332   75439.993167                         сыграть свадьбу  \n",
       "19333  145541.993320                                 свадьба  \n",
       "19334   98180.279152        сделка с подержанным автомобилем  \n",
       "19335   72638.590915                            недвижимость  \n",
       "19336   73029.059379                операции с недвижимостью  \n",
       "19337  140068.472941                 покупка жилья для сдачи  \n",
       "19338  147301.457769   получение дополнительного образования  \n",
       "19339  250986.142309                           покупка жилья  \n",
       "19340  355988.407188              строительство недвижимости  \n",
       "19341  109486.327999                   заняться образованием  \n",
       "19342  322807.776603                    покупка своего жилья  \n",
       "19343  178059.553491            на покупку своего автомобиля  \n",
       "19344  153864.650328                    сделка с автомобилем  \n",
       "19345  115949.039788       покупка коммерческой недвижимости  \n",
       "19346  224791.862382                       операции с жильем  \n",
       "19347  155999.806512                    сделка с автомобилем  \n",
       "19348   89672.561153                            недвижимость  \n",
       "19349  244093.050500            на покупку своего автомобиля  \n",
       "19350   82047.418899                   на покупку автомобиля  \n",
       "\n",
       "[19351 rows x 12 columns]"
      ]
     },
     "execution_count": 12,
     "metadata": {},
     "output_type": "execute_result"
    }
   ],
   "source": [
    "df.dropna(subset = ['days_employed'], inplace = True)\n",
    "df.reset_index(drop=True)"
   ]
  },
  {
   "cell_type": "markdown",
   "metadata": {},
   "source": [
    "Проверяем количество записей с значением NaN"
   ]
  },
  {
   "cell_type": "code",
   "execution_count": 13,
   "metadata": {},
   "outputs": [
    {
     "name": "stdout",
     "output_type": "stream",
     "text": [
      "children            0\n",
      "days_employed       0\n",
      "old                 0\n",
      "education           0\n",
      "education_id        0\n",
      "family_status       0\n",
      "family_status_id    0\n",
      "gender              0\n",
      "income_type         0\n",
      "debt                0\n",
      "total_income        0\n",
      "purpose             0\n",
      "dtype: int64\n"
     ]
    }
   ],
   "source": [
    "print(df.isnull().sum())"
   ]
  },
  {
   "cell_type": "markdown",
   "metadata": {},
   "source": [
    "Добавлю еще одно поле \"stat\" и заполню его единицей чтобы удобно группировать выборку если потребуется работа с всеми данными.\n",
    "Можно будет смотреть зависимости по численности людей с группированных в определенной выборке."
   ]
  },
  {
   "cell_type": "code",
   "execution_count": 15,
   "metadata": {},
   "outputs": [],
   "source": [
    "df['stat'] = 1"
   ]
  },
  {
   "cell_type": "markdown",
   "metadata": {},
   "source": [
    "взглянем на талбицу"
   ]
  },
  {
   "cell_type": "code",
   "execution_count": 14,
   "metadata": {},
   "outputs": [
    {
     "name": "stdout",
     "output_type": "stream",
     "text": [
      "   children  days_employed  old education  education_id     family_status  \\\n",
      "0         1   -8437.673028   42    высшее             0   женат / замужем   \n",
      "1         1   -4024.803754   36   среднее             1   женат / замужем   \n",
      "2         0   -5623.422610   33   Среднее             1   женат / замужем   \n",
      "3         3   -4124.747207   32   среднее             1   женат / замужем   \n",
      "4         0  340266.072047   53   среднее             1  гражданский брак   \n",
      "\n",
      "   family_status_id gender income_type  debt   total_income  \\\n",
      "0                 0      F   сотрудник     0  253875.639453   \n",
      "1                 0      F   сотрудник     0  112080.014102   \n",
      "2                 0      M   сотрудник     0  145885.952297   \n",
      "3                 0      M   сотрудник     0  267628.550329   \n",
      "4                 1      F   пенсионер     0  158616.077870   \n",
      "\n",
      "                      purpose  \n",
      "0               покупка жилья  \n",
      "1     приобретение автомобиля  \n",
      "2               покупка жилья  \n",
      "3  дополнительное образование  \n",
      "4             сыграть свадьбу  \n"
     ]
    }
   ],
   "source": [
    "print(df.head())"
   ]
  },
  {
   "cell_type": "markdown",
   "metadata": {},
   "source": [
    "Удоставеревшись в своем предположение видим, что после очистки строк с значением  NaN в столце с стажем исчезают все значения и по окладу\n",
    "Констатируем, что мы избавились от пустых значений"
   ]
  },
  {
   "cell_type": "markdown",
   "metadata": {},
   "source": [
    "Следом может потребоваться удаление дубликатов но так как мы пока не выбрали модель исследования и может количественные показатели по опраеделенной группе будут играть роль то метод drop_duplicates() оставим на потом. а пока просто проверим сколько таких строк в таблице"
   ]
  },
  {
   "cell_type": "code",
   "execution_count": 12,
   "metadata": {},
   "outputs": [
    {
     "data": {
      "text/plain": [
       "0"
      ]
     },
     "execution_count": 12,
     "metadata": {},
     "output_type": "execute_result"
    }
   ],
   "source": [
    "df.duplicated().sum()\n",
    "#df = df.drop_duplicates().reset_index(drop=True)"
   ]
  },
  {
   "cell_type": "markdown",
   "metadata": {},
   "source": [
    "Проверим есть ли мусор в значение пол. "
   ]
  },
  {
   "cell_type": "code",
   "execution_count": 16,
   "metadata": {},
   "outputs": [
    {
     "data": {
      "text/plain": [
       "array(['F', 'M', 'XNA'], dtype=object)"
      ]
     },
     "execution_count": 16,
     "metadata": {},
     "output_type": "execute_result"
    }
   ],
   "source": [
    "df['gender'].unique()"
   ]
  },
  {
   "cell_type": "code",
   "execution_count": 17,
   "metadata": {},
   "outputs": [
    {
     "data": {
      "text/plain": [
       "gender\n",
       "F      12752\n",
       "M       6598\n",
       "XNA        1\n",
       "Name: stat, dtype: int64"
      ]
     },
     "execution_count": 17,
     "metadata": {},
     "output_type": "execute_result"
    }
   ],
   "source": [
    "df.groupby('gender')['stat'].sum()"
   ]
  },
  {
   "cell_type": "markdown",
   "metadata": {},
   "source": [
    "Значение с \"XNA\" не играет никакой роли тем более, что вопросы к заданию не учитывают ничего, что касается \"пола\""
   ]
  },
  {
   "cell_type": "markdown",
   "metadata": {},
   "source": [
    "Теперь можно заняться очисткой таблицы с лево на право\n",
    "    - Стаж (Напишим функцию которая посчитает сколько лет работает человек)\n",
    "    \n",
    "    ! в таблице есть значения нескольких типов и при изучение полной таблицы было замечено, что реальный стаж в днях идет с знаком \"минус\" который при деление на 365 дней дает рабочее коррелируемое значения для людей подходящего возраста и занятости но для \"Пенсионеров\" установлены значения в цифрах порядков 1000 лет и из чего я делаю вывод, что эти значения считаю как бесконечность так как для пенсионеров не интересен их прошлый трудовой стаж ну или эти данные не были предоставлены заказчиком.\n",
    "    \n",
    "    - Образование (приводим все записи к нижниму регистру)\n",
    "    \n",
    "    ! можно заметить, что тут банальная проблема с Регистром от чего значения строки считаются не уникальными.\n",
    "    \n",
    "    - Цель кредита (приводим все записи к нижниму регистру)"
   ]
  },
  {
   "cell_type": "markdown",
   "metadata": {},
   "source": [
    "Я привожу все числа в целочисленный вид, сотые доли обхема кредита в этом исследование мне не так важны так что оставляем\n",
    "с значением int так как оно на сколько я понимаю весит меньше и более понятно при интерпритированиее функций сравнения т.е. обработка таблицы будет происходить быстрее. Тоже самое делаем для возраста, в нем доли соответсвенно так же не нужны."
   ]
  },
  {
   "cell_type": "code",
   "execution_count": 18,
   "metadata": {},
   "outputs": [],
   "source": [
    "days_of_year = int(356.25)\n",
    "\n",
    "df['days_employed'] = -(df['days_employed'] / days_of_year)\n",
    "\n",
    "df['days_employed'] = df['days_employed'].astype('int')\n",
    "df['total_income'] = df['total_income'].astype('int')\n",
    "\n",
    "\n",
    "df['education'] = df['education'].str.lower()\n",
    "df['purpose'] = df['purpose'].str.lower()\n"
   ]
  },
  {
   "cell_type": "markdown",
   "metadata": {},
   "source": [
    "<font color='green'> Мне кажется, что поле рассчитано из какой то уже существующей банковской формулы которая возвращает вот такие странные цифры когда у работающего человека дни идут за минусом а у пенсионера порядок цифр от 900 лет. И так как мне кажется, что это просто формула и знак минус появился в ней при расчитанной выгрузки то для последедующей группировки и и анализа лучше иметь удобочитаемые данные по этому я и возвращаю этому числу положительное значение. Что касается чисел для \"пенсионеров\" то их можно засчитать как NaN </font>"
   ]
  },
  {
   "cell_type": "markdown",
   "metadata": {},
   "source": [
    "<font color='violet'> Комментарий от наставника: Хорошо, логика ясна.  </font>"
   ]
  },
  {
   "cell_type": "code",
   "execution_count": null,
   "metadata": {},
   "outputs": [],
   "source": [
    "df.loc[df['old'] < 0, 'old'] = 'NaN'"
   ]
  },
  {
   "cell_type": "markdown",
   "metadata": {},
   "source": [
    "Можем проверить сколько вообще разных значений присутствует в таблице под столбиком \"цель\""
   ]
  },
  {
   "cell_type": "code",
   "execution_count": 20,
   "metadata": {},
   "outputs": [
    {
     "name": "stdout",
     "output_type": "stream",
     "text": [
      "покупка жильяприобретение автомобилядополнительное образованиесыграть свадьбуоперации с жильемобразованиена проведение свадьбыпокупка жилья для семьипокупка недвижимостипокупка коммерческой недвижимостипокупка жилой недвижимостистроительство собственной недвижимостинедвижимостьстроительство недвижимостина покупку подержанного автомобиляна покупку своего автомобиляоперации с коммерческой недвижимостьюжильеоперации со своей недвижимостьюавтомобилизаняться образованиемполучение образованиясделка с подержанным автомобилемавтомобильсвадьбаполучение дополнительного образованияпокупка своего жильяоперации с недвижимостьюполучение высшего образованиясвой автомобильсделка с автомобилемпрофильное образованиевысшее образованиепокупка жилья для сдачина покупку автомобилястроительство жилой недвижимостиремонт жильюзаняться высшим образованием\n"
     ]
    }
   ],
   "source": [
    "uniq_perpus = df['purpose'].unique().sum()\n",
    "print(uniq_perpus)"
   ]
  },
  {
   "cell_type": "code",
   "execution_count": 21,
   "metadata": {},
   "outputs": [
    {
     "name": "stdout",
     "output_type": "stream",
     "text": [
      "Counter({' ': 59, 'с': 5, 'покупка': 4, 'свой': 3, 'жилье': 2, 'для': 2, 'недвижимостипокупка': 2, 'коммерческий': 2, 'жилой': 2, 'подержать': 2, 'высокий': 2, 'жильяприобретение': 1, 'автомобилядополнительный': 1, 'образованиесыграть': 1, 'свадьбуоперация': 1, 'жильемобразованиен': 1, 'проведение': 1, 'свадьбыпокупка': 1, 'семьипокупка': 1, 'недвижимостистроительство': 1, 'собственный': 1, 'недвижимостинедвижимостьстроительство': 1, 'недвижимостина': 1, 'автомобиляна': 1, 'автомобиляоперация': 1, 'недвижимостьюжильеоперация': 1, 'со': 1, 'недвижимостьюавтомобилизаняться': 1, 'образованиемполучение': 1, 'образованиясделка': 1, 'автомобилемавтомобильсвадьбаполучение': 1, 'дополнительный': 1, 'образованияпокупка': 1, 'жильяоперация': 1, 'недвижимостьюполучение': 1, 'образованиясва': 1, 'автомобильсделка': 1, 'автомобилемпрофильный': 1, 'образованиевысший': 1, 'образованиепокупка': 1, 'сдачина': 1, 'автомобилястроительство': 1, 'недвижимостиремонт': 1, 'жильюзаняться': 1, 'образование': 1, '\\n': 1})\n"
     ]
    }
   ],
   "source": [
    "from pymystem3 import Mystem\n",
    "from collections import Counter\n",
    "\n",
    "m = Mystem()\n",
    "lemmas = m.lemmatize(uniq_perpus)\n",
    "#print(lemmas)\n",
    "print(Counter(lemmas))"
   ]
  },
  {
   "cell_type": "markdown",
   "metadata": {},
   "source": [
    "Из текста мы видим, что основные направления это жилье/недвижимость, автомобиль, образование и свадьба.\n",
    "Напишим функцию которая будет делить на категории строки таблицы: \n",
    "    * Авто\n",
    "    * Недвижимость\n",
    "    * Образование\n",
    "    * Свадьба\n",
    "    * Прочее"
   ]
  },
  {
   "cell_type": "code",
   "execution_count": 22,
   "metadata": {},
   "outputs": [],
   "source": [
    "from nltk.stem import SnowballStemmer\n",
    "from pymystem3 import Mystem\n",
    "from collections import Counter\n",
    "\n",
    "def count_category_purpose(df):\n",
    "\n",
    "    m = Mystem()\n",
    "    Words_array = []\n",
    "    \n",
    "    for index, row in df.iterrows():\n",
    "        \n",
    "        item_col = row['purpose']\n",
    "        lemmas = m.lemmatize(item_col)\n",
    "        \n",
    "        for oh_word in lemmas:\n",
    "            Words_array.append(oh_word)\n",
    "            \n",
    "    return Words_array        \n",
    "               "
   ]
  },
  {
   "cell_type": "code",
   "execution_count": 23,
   "metadata": {},
   "outputs": [
    {
     "name": "stdout",
     "output_type": "stream",
     "text": [
      "                30248\n",
      "\\n              19351\n",
      "недвижимость     5723\n",
      "покупка          5353\n",
      "жилье            4035\n",
      "автомобиль       3897\n",
      "образование      3597\n",
      "с                2619\n",
      "операция         2334\n",
      "свадьба          2099\n",
      "Name: purposeValue, dtype: int64\n"
     ]
    }
   ],
   "source": [
    "words_array = count_category_purpose(df)\n",
    "\n",
    "s = pd.Series(words_array, name='purposeValue')\n",
    "print(s.value_counts().head(10))"
   ]
  },
  {
   "cell_type": "markdown",
   "metadata": {},
   "source": [
    "<font color='green'> Как мы видим из счетчика процедуры count_category_purpose(). Так как на первых местах у нас стоит \"недвижимость\" в размере 5723 слова в датафрейме, далее идет слово \"покупка\" но она нас не так сильно интересует так не существительное. А все остальные слова дают понять, что всего категорий не так много. Второе место \"жилье\" - 4035, третье место \"автомобиль\" - 3897 далее идет \"образование\" - 3597 и \"свадьба\" - 2099  </font>"
   ]
  },
  {
   "cell_type": "code",
   "execution_count": 24,
   "metadata": {},
   "outputs": [],
   "source": [
    "from nltk.stem import SnowballStemmer\n",
    "from pymystem3 import Mystem\n",
    "\n",
    "def category_of_purpose():\n",
    "    \n",
    "    m = Mystem()\n",
    "   \n",
    "    for index, row in df.iterrows():\n",
    "        \n",
    "        item_col = row['purpose']\n",
    "        lemmas = m.lemmatize(item_col)\n",
    "        \n",
    "        if 'автомобиль' == lemmas[0] or 'недвижимость' == lemmas[0] or 'образование' == lemmas[0] or 'свадьба' == lemmas[0]:\n",
    "            continue\n",
    "        elif 'автомобиль' in lemmas: \n",
    "            w = 'авто'\n",
    "        elif 'недвижимость' in lemmas or 'жилье' in lemmas:\n",
    "            w = 'недвижимость'\n",
    "        elif 'образование' in lemmas:\n",
    "            w = 'образование'\n",
    "        elif 'свадьба' in lemmas:\n",
    "            w = 'свадьба'    \n",
    "        else:\n",
    "            w = 'прочее'\n",
    "            \n",
    "        df['purpose'] = df['purpose'].replace(item_col, w)     "
   ]
  },
  {
   "cell_type": "code",
   "execution_count": 25,
   "metadata": {
    "scrolled": true
   },
   "outputs": [],
   "source": [
    "category_of_purpose()"
   ]
  },
  {
   "cell_type": "code",
   "execution_count": 26,
   "metadata": {},
   "outputs": [
    {
     "name": "stdout",
     "output_type": "stream",
     "text": [
      "   children  days_employed  old education  education_id     family_status  \\\n",
      "0         1             23   42    высшее             0   женат / замужем   \n",
      "1         1             11   36   среднее             1   женат / замужем   \n",
      "2         0             15   33   среднее             1   женат / замужем   \n",
      "3         3             11   32   среднее             1   женат / замужем   \n",
      "4         0           -955   53   среднее             1  гражданский брак   \n",
      "\n",
      "   family_status_id gender income_type  debt  total_income       purpose  stat  \n",
      "0                 0      F   сотрудник     0        253875  недвижимость     1  \n",
      "1                 0      F   сотрудник     0        112080          авто     1  \n",
      "2                 0      M   сотрудник     0        145885  недвижимость     1  \n",
      "3                 0      M   сотрудник     0        267628   образование     1  \n",
      "4                 1      F   пенсионер     0        158616       свадьба     1  \n"
     ]
    }
   ],
   "source": [
    "print(df.head())"
   ]
  },
  {
   "cell_type": "code",
   "execution_count": 24,
   "metadata": {},
   "outputs": [
    {
     "name": "stdout",
     "output_type": "stream",
     "text": [
      "<class 'pandas.core.frame.DataFrame'>\n",
      "Int64Index: 19351 entries, 0 to 21524\n",
      "Data columns (total 13 columns):\n",
      "children            19351 non-null int64\n",
      "days_employed       19351 non-null int64\n",
      "old                 19351 non-null int64\n",
      "education           19351 non-null object\n",
      "education_id        19351 non-null int64\n",
      "family_status       19351 non-null object\n",
      "family_status_id    19351 non-null int64\n",
      "gender              19351 non-null object\n",
      "income_type         19351 non-null object\n",
      "debt                19351 non-null int64\n",
      "total_income        19351 non-null int64\n",
      "purpose             19351 non-null object\n",
      "stat                19351 non-null int64\n",
      "dtypes: int64(8), object(5)\n",
      "memory usage: 2.1+ MB\n"
     ]
    }
   ],
   "source": [
    "df.info()"
   ]
  },
  {
   "cell_type": "markdown",
   "metadata": {},
   "source": [
    "Найдем всех кто не отдавал кредит из нашей выборки"
   ]
  },
  {
   "cell_type": "code",
   "execution_count": 27,
   "metadata": {},
   "outputs": [],
   "source": [
    "df['children'] = df['children'].replace(-1, 1)\n",
    "df['children'] = df['children'].replace(20, 2)\n",
    "\n",
    "df['debt'] = df['debt'].astype('str')\n",
    "df['debt'] = df['debt'].replace('1', 'isdebt')\n",
    "df['debt'] = df['debt'].replace('0', 'ontime')"
   ]
  },
  {
   "cell_type": "code",
   "execution_count": 28,
   "metadata": {},
   "outputs": [],
   "source": [
    "ungive_credit_info = df.loc[df['debt'] == 1]"
   ]
  },
  {
   "cell_type": "code",
   "execution_count": 29,
   "metadata": {},
   "outputs": [],
   "source": [
    "give_credit_info = df.loc[df['debt'] == 0]"
   ]
  },
  {
   "cell_type": "markdown",
   "metadata": {},
   "source": [
    "Есть ли зависимость между наличием детей и возвратом кредита в срок?"
   ]
  },
  {
   "cell_type": "code",
   "execution_count": 30,
   "metadata": {},
   "outputs": [
    {
     "data": {
      "text/plain": [
       "Series([], Name: debt, dtype: float64)"
      ]
     },
     "execution_count": 30,
     "metadata": {},
     "output_type": "execute_result"
    }
   ],
   "source": [
    "# те что не отдали кредит\n",
    "ungive_credit_info.groupby('children')['debt'].sum()"
   ]
  },
  {
   "cell_type": "code",
   "execution_count": 31,
   "metadata": {},
   "outputs": [
    {
     "data": {
      "text/plain": [
       "Series([], Name: stat, dtype: int64)"
      ]
     },
     "execution_count": 31,
     "metadata": {},
     "output_type": "execute_result"
    }
   ],
   "source": [
    "# те что не отдали кредит\n",
    "give_credit_info.groupby('children')['stat'].sum()"
   ]
  },
  {
   "cell_type": "markdown",
   "metadata": {},
   "source": [
    "тут мы можем видеть небольшую грязь в данных а именно \"-1\" и \"20\" детей. Я принимаю не обращать внимания на эти данных так как они составляют менее одного процента\n",
    "\n",
    "Мне кажется, грязь в данных вроде \"-1\" и \"20\" Это не что иное как \"1\" и \"2\" или \"0\""
   ]
  },
  {
   "cell_type": "markdown",
   "metadata": {},
   "source": [
    "Соберем таблицу для того чтобы наглядно посмотреть на тенденции от тех отдавал в срок и нет и как это зависит от количества детей"
   ]
  },
  {
   "cell_type": "code",
   "execution_count": 32,
   "metadata": {},
   "outputs": [
    {
     "name": "stdout",
     "output_type": "stream",
     "text": [
      "  children  count_debt  count_undebt      ratio\n",
      "0        0         956         11787  12.329498\n",
      "1        1         409          3978   9.726161\n",
      "2        2         181          1704   9.414365\n",
      "3        3          22           272  12.363636\n",
      "4        4           3            31  10.333333\n",
      "5        5           0             8        inf\n"
     ]
    }
   ],
   "source": [
    "data = [['0', 952+4, 11758+29],\n",
    "       ['1', 408+1,  3935+43],\n",
    "       ['2',177+4,  1674+30],\n",
    "       ['3', 22,  272],\n",
    "       ['4', 3,  31],\n",
    "       ['5', 0,  8]]\n",
    "columns = ['children', 'count_debt', 'count_undebt']\n",
    "table = pd.DataFrame(data=data,columns=columns)\n",
    "\n",
    "table['ratio'] = table['count_undebt'] / table['count_debt']\n",
    "\n",
    "print(table)"
   ]
  },
  {
   "cell_type": "code",
   "execution_count": null,
   "metadata": {},
   "outputs": [],
   "source": []
  },
  {
   "cell_type": "code",
   "execution_count": null,
   "metadata": {},
   "outputs": [],
   "source": []
  },
  {
   "cell_type": "code",
   "execution_count": 56,
   "metadata": {},
   "outputs": [
    {
     "name": "stdout",
     "output_type": "stream",
     "text": [
      "           stat         \n",
      "debt     isdebt   ontime\n",
      "children                \n",
      "0         952.0  11758.0\n",
      "1         409.0   3978.0\n",
      "2         185.0   1733.0\n",
      "3          22.0    272.0\n",
      "4           3.0     31.0\n",
      "5           NaN      8.0\n"
     ]
    }
   ],
   "source": [
    "table = df.pivot_table (index=['children'], columns= 'debt', values=['stat'], aggfunc='sum')\n",
    "#table['ratio'] = table['ontime'] / table['isdebt']\n",
    "print(table)"
   ]
  },
  {
   "cell_type": "markdown",
   "metadata": {},
   "source": [
    "<font color='green'> Из этой таблице мы выяснили, что чем меньше у человека детей тем он чаще берет кредит и так же возврат в срок пропорционален таблице.\n",
    "    \n",
    "    Самыми надежными заемщиками оказались люди имеющие от 1 до 2 детей. У них меньше всего \"задержек\" оп возврату на основной объем кредитов в этих категориях. Если люди с одним ребенком взяли 4387 то задержали кредит всего лишь 9% заемщиков. Похожая ситуация и с людьми имеющие 2 детей к 1918 единицам, процент плохих всего 9,65 %.\n",
    "    \n",
    "    Люди в категориях 3 и 4 ребенка имеют худшую динамику по соотношению по возвратам, но и объем в своей общей массе не велик за счет чего и достигается небольшой процент.\n",
    "        * для 3 детей на общий объем в 294 кредита не отдали в срок 7.48%\n",
    "        * для 4 детей на общий объем в 34 кредита не отдали в срок 8.82%\n",
    "        \n",
    "     Самая интересная категория это люди без детей там сравнительно большое соотношение двух категорий но процент плохих займов всего 7.47% если учесть объем заемов (всего 12 743) то это самая лучшая категория для выдачи кредита.\n",
    "\n",
    "</font>"
   ]
  },
  {
   "cell_type": "markdown",
   "metadata": {},
   "source": [
    "Есть ли зависимость между семейным положением и возвратом кредита в срок?"
   ]
  },
  {
   "cell_type": "code",
   "execution_count": 32,
   "metadata": {},
   "outputs": [
    {
     "data": {
      "text/plain": [
       "Series([], Name: debt, dtype: float64)"
      ]
     },
     "execution_count": 32,
     "metadata": {},
     "output_type": "execute_result"
    }
   ],
   "source": [
    "# те что не отдали кредит\n",
    "ungive_credit_info.groupby('family_status')['debt'].sum()\n",
    "#ungive_credit_info.sort_values(by = 'debt', ascending = False)"
   ]
  },
  {
   "cell_type": "code",
   "execution_count": 33,
   "metadata": {},
   "outputs": [
    {
     "data": {
      "text/plain": [
       "Series([], Name: stat, dtype: int64)"
      ]
     },
     "execution_count": 33,
     "metadata": {},
     "output_type": "execute_result"
    }
   ],
   "source": [
    "# те что отдали кредит\n",
    "give_credit_info.groupby('family_status')['stat'].sum()\n",
    "#give_credit_info.sort_values(ascending = False)"
   ]
  },
  {
   "cell_type": "code",
   "execution_count": 34,
   "metadata": {},
   "outputs": [
    {
     "name": "stdout",
     "output_type": "stream",
     "text": [
      "           family_status  count_debt  count_undebt      ratio\n",
      "4        женат / замужем         846         10297  12.171395\n",
      "3       гражданский брак         339          3396  10.017699\n",
      "0  Не женат / не замужем         254          2271   8.940945\n",
      "1              в разводе          76          1007  13.250000\n",
      "2         вдовец / вдова          56           809  14.446429\n"
     ]
    }
   ],
   "source": [
    "data = [['Не женат / не замужем', 254, 2271],\n",
    "       ['в разводе', 76,  1007],\n",
    "       ['вдовец / вдова', 56,  809],\n",
    "       ['гражданский брак', 339,  3396],\n",
    "       ['женат / замужем', 846,  10297]]\n",
    "\n",
    "columns = ['family_status', 'count_debt', 'count_undebt']\n",
    "table = pd.DataFrame(data=data,columns=columns)\n",
    "\n",
    "\n",
    "#table.sort_values('count_debt', ascending = True) \n",
    "#table.groupby('family_status')['count_debt']\n",
    "\n",
    "table['ratio'] = table['count_undebt'] / table['count_debt']\n",
    "\n",
    "table_sort = table.sort_values(['count_debt'], ascending = False)\n",
    "\n",
    "print(table_sort)"
   ]
  },
  {
   "cell_type": "code",
   "execution_count": 35,
   "metadata": {
    "scrolled": true
   },
   "outputs": [
    {
     "name": "stdout",
     "output_type": "stream",
     "text": [
      "                        stat       \n",
      "debt                  isdebt ontime\n",
      "family_status                      \n",
      "Не женат / не замужем    254   2271\n",
      "в разводе                 76   1007\n",
      "вдовец / вдова            56    809\n",
      "гражданский брак         339   3396\n",
      "женат / замужем          846  10297\n"
     ]
    }
   ],
   "source": [
    "table = df.pivot_table (index=['family_status'], columns= 'debt', values=['stat'], aggfunc='sum')\n",
    "#table.sort_values('ontime', ascending=False)\n",
    "#table['ratio'] = table['ontime'] / table['isdebt']\n",
    "print(table)"
   ]
  },
  {
   "cell_type": "markdown",
   "metadata": {},
   "source": [
    "<font color='green'> Здесь мы видим, что пропорция от обещго числа выданных кредитов сохраняется. \n",
    "    Из таблицу по распределению семеного положения кредетуемых видно, что люди в браке готовы неотдавать в срок кредит чаще чем люди которые никогда в браке не были. Это про ответсвенность, если мы прибавим к этому объем кредитования то будет немного другая картина. Становится ясно, что люди в браке берут кредит чаще чем холостые если учесть отчет по количеству детей, где самыми ответсвенными были люди имеющие 1 или 2 детей то становится понятно, что в совокупности эти это более благоприятный заемщик для банка.\n",
    "    \n",
    "    * женат / замужем общий объем кредитов состовляет 11143 процент не возврата состовляет 7,59%\n",
    "    * гражданский брак (3735 и 9%)\n",
    "    * в разводе (1083 и 7%)\n",
    "    * не женат / не замужем (2525 и 10%)\n",
    "    * вдова / вдовец (865 и 6.47%)\n",
    "    \n",
    "И что касается пропорции. Цифры получаются более интересные: самое большое число неотданных кредитов на общую массу будет у категории \"Вдовец/Вдова\" и \"В разводе\" а самые ответветсвенные оказались люди необременные печатью в паспорте. </font>"
   ]
  },
  {
   "cell_type": "markdown",
   "metadata": {},
   "source": [
    "Есть ли зависимость между уровнем дохода и возвратом кредита в срок?"
   ]
  },
  {
   "cell_type": "code",
   "execution_count": 51,
   "metadata": {},
   "outputs": [
    {
     "data": {
      "text/plain": [
       "<matplotlib.axes._subplots.AxesSubplot at 0x7f5bb6a5a198>"
      ]
     },
     "execution_count": 51,
     "metadata": {},
     "output_type": "execute_result"
    },
    {
     "data": {
      "image/png": "[encoded data removed]",
      "text/plain": [
       "<Figure size 432x288 with 1 Axes>"
      ]
     },
     "metadata": {
      "needs_background": "light"
     },
     "output_type": "display_data"
    }
   ],
   "source": [
    "import matplotlib.pyplot as plt\n",
    "\n",
    "df['total_income'].plot.hist(bins=12, alpha=0.5, grid =100)"
   ]
  },
  {
   "cell_type": "markdown",
   "metadata": {},
   "source": [
    "Уровень дохода мне кажется надо поделить на категории от и до и также заменить в таблице значениями по категории\n",
    "\n",
    "* от 0 до 30\n",
    "* от 30 до 60\n",
    "* от 60 до 100\n",
    "* от 100 до 150\n",
    "* от 150 до 200\n",
    "* от 200 до 300\n",
    "* от 300 и 500\n",
    "* от 500 и 1000000\n",
    "* 1000000 и более\n",
    "\n",
    "\n",
    "Я эти категории придумал сам основываясь только из удобочитаемой и более менее разделенной таблицы"
   ]
  },
  {
   "cell_type": "markdown",
   "metadata": {},
   "source": [
    "<font color='green'> Первое, что мне пришло в голову это сделать Гистограмму (Если создание дополнительных столбцов не так хорошо :) ). Правда пока я её не обуздал и не так хорошо разбираюсь как из нее сделать более читаемую (с меньшими значениеями по оси X) </font>"
   ]
  },
  {
   "cell_type": "code",
   "execution_count": 37,
   "metadata": {},
   "outputs": [],
   "source": [
    "def cat_inc(count_1, count_2, debt):\n",
    "    \n",
    "    table_filt = df[(df['total_income'] > count_1) & (df['total_income'] <= count_2) & (df['debt'] == debt)]\n",
    "    table_count = table_filt['stat'].sum()\n",
    "    \n",
    "    return table_count\n"
   ]
  },
  {
   "cell_type": "code",
   "execution_count": 45,
   "metadata": {},
   "outputs": [
    {
     "name": "stdout",
     "output_type": "stream",
     "text": [
      "       total_income  count_debt  count_undebt      ratio\n",
      "3     от 100 до 150         491          5213  10.617108\n",
      "4     от 150 до 200         368          3749  10.187500\n",
      "2      от 60 до 100         305          3352  10.990164\n",
      "5     от 200 до 300         252          3331  13.218254\n",
      "6     от 300 до 500          92          1168  12.695652\n",
      "1       от 30 до 60          47           737  15.680851\n",
      "7  от 500 до 1 млн.          12           185  15.416667\n",
      "0        от 0 до 30           2            20  10.000000\n",
      "8      более 1 млн.           2            23  11.500000\n"
     ]
    }
   ],
   "source": [
    "data = [['от 0 до 30', cat_inc(0, 30000, 'isdebt'), cat_inc(0, 30000, 'ontime')],\n",
    "       ['от 30 до 60', cat_inc(30001, 60000, 'isdebt'),  cat_inc(30001, 60000, 'ontime')],\n",
    "       ['от 60 до 100', cat_inc(60001, 100000, 'isdebt'),  cat_inc(60001, 100000, 'ontime')],\n",
    "       ['от 100 до 150', cat_inc(100001, 150000, 'isdebt'),  cat_inc(100001, 150000, 'ontime')],\n",
    "       ['от 150 до 200', cat_inc(150001, 200000, 'isdebt'),  cat_inc(150001, 200000, 'ontime')],\n",
    "       ['от 200 до 300', cat_inc(200001, 300000, 'isdebt'),  cat_inc(200001, 300000, 'ontime')],\n",
    "       ['от 300 до 500', cat_inc(300001,500000, 'isdebt'),  cat_inc(300001,500000, 'ontime')],\n",
    "       ['от 500 до 1 млн.', cat_inc(500001,1000000, 'isdebt'),  cat_inc(500001,1000000, 'ontime')],\n",
    "       ['более 1 млн.', cat_inc(1000001, 10000000000, 'isdebt'),  cat_inc(1000001, 10000000000, 'ontime')]]\n",
    "\n",
    "columns = ['total_income', 'count_debt', 'count_undebt']\n",
    "table = pd.DataFrame(data=data,columns=columns)\n",
    "\n",
    "#table.sort_values('count_debt', ascending = True) \n",
    "#table.groupby('family_status')['count_debt']\n",
    "\n",
    "table['ratio'] = table['count_undebt'] / table['count_debt']\n",
    "\n",
    "table_sort = table.sort_values(['count_debt'], ascending = False)\n",
    "\n",
    "print(table_sort)"
   ]
  },
  {
   "cell_type": "markdown",
   "metadata": {},
   "source": [
    "<font color='green'> Вывод: Видим самые плохие отдачи в категориях \"от 30 до 60\" и \"от 500 до 1 млн.\" при небольших цифрах объемов заема 784 и 197 соответсвенно. В обоих группах соотшение к возврату 15/1, что давольно много, но так как объем выданых кредитов небольшой это неявлеяется какой то самой экстримальной группой. \n",
    "        \n",
    "Таблица говорит, что самый рискованые категории при возврате кредита в основном ежемесячный заработок людей в районе 100 - 150. Общий объем кредитов около 30% от всего и там же самый большой процент не просрочек, что впринципе нормально на объем в 5700 кредитов было просрочено 491. \n",
    "\n",
    "На мой взгляд самая плохая категория это \"от 200 до 300\" у них плохое соотношение к возвратам и просрочкам на 3500 кредитов были задолжности по каждому 15 выданному кредиту </font>"
   ]
  },
  {
   "cell_type": "markdown",
   "metadata": {},
   "source": [
    "<font color='green'> Если честно, я не представляю как сделать такую таблицу через pivot_table().</font>"
   ]
  },
  {
   "cell_type": "markdown",
   "metadata": {},
   "source": [
    "Как разные цели кредита влияют на его возврат в срок?"
   ]
  },
  {
   "cell_type": "code",
   "execution_count": 39,
   "metadata": {},
   "outputs": [
    {
     "data": {
      "text/plain": [
       "Series([], Name: debt, dtype: float64)"
      ]
     },
     "execution_count": 39,
     "metadata": {},
     "output_type": "execute_result"
    }
   ],
   "source": [
    "# те, что не отдали кредит\n",
    "ungive_credit_info.groupby('purpose')['debt'].sum()\n",
    "#ungive_credit_info.sort_values(ascending = False)"
   ]
  },
  {
   "cell_type": "code",
   "execution_count": 40,
   "metadata": {},
   "outputs": [
    {
     "data": {
      "text/plain": [
       "Series([], Name: stat, dtype: int64)"
      ]
     },
     "execution_count": 40,
     "metadata": {},
     "output_type": "execute_result"
    }
   ],
   "source": [
    "# те, что отдали кредит\n",
    "give_credit_info.groupby('purpose')['stat'].sum()\n",
    "#give_credit_info.sort_values(ascending = False)"
   ]
  },
  {
   "cell_type": "code",
   "execution_count": 41,
   "metadata": {},
   "outputs": [
    {
     "name": "stdout",
     "output_type": "stream",
     "text": [
      "  family_status  count_debt  count_undebt      ratio\n",
      "0  недвижимость         715          9043  12.647552\n",
      "1          авто         367          3530   9.618529\n",
      "2   образование         331          3266   9.867069\n",
      "3       свадьба         158          1941  12.284810\n"
     ]
    }
   ],
   "source": [
    "data = [['недвижимость', 715, 9043],\n",
    "       ['авто', 367,  3530],\n",
    "       ['образование', 331,  3266],\n",
    "       ['свадьба', 158,  1941]]\n",
    "\n",
    "columns = ['family_status', 'count_debt', 'count_undebt']\n",
    "table = pd.DataFrame(data=data,columns=columns)\n",
    "\n",
    "#table.sort_values('count_debt', ascending = True) \n",
    "#table.groupby('family_status')['count_debt']\n",
    "\n",
    "table['ratio'] = table['count_undebt'] / table['count_debt']\n",
    "table_sort = table.sort_values(['count_debt'], ascending = False)\n",
    "\n",
    "print(table_sort)"
   ]
  },
  {
   "cell_type": "code",
   "execution_count": 44,
   "metadata": {
    "scrolled": true
   },
   "outputs": [
    {
     "name": "stdout",
     "output_type": "stream",
     "text": [
      "               stat       \n",
      "debt         isdebt ontime\n",
      "purpose                   \n",
      "авто            367   3530\n",
      "недвижимость    715   9043\n",
      "образование     331   3266\n",
      "свадьба         158   1941\n"
     ]
    }
   ],
   "source": [
    "df['purpose'] = df['purpose'].replace('автомобили', 'авто')  \n",
    "df['purpose'] = df['purpose'].replace('автомобиль', 'авто')  \n",
    "\n",
    "table = df.pivot_table (index=['purpose'], columns= 'debt', values=['stat'], aggfunc='sum')\n",
    "print(table)"
   ]
  },
  {
   "cell_type": "markdown",
   "metadata": {},
   "source": [
    "Вывод: Опять видна пропорция к количеству кредитов вообще. Таблица спускается с самого дорого более дешевый кредит Недвижимость - Свадьба. Самое интересное, что пропорция плохих кредитов к хорошим наблюдается на самой популярной категории и на самой наименее популярной как свадьба (зачем вообще на нее брать кредит)"
   ]
  },
  {
   "cell_type": "code",
   "execution_count": 63,
   "metadata": {},
   "outputs": [
    {
     "name": "stdout",
     "output_type": "stream",
     "text": [
      "                                              stat        \n",
      "debt                                        isdebt  ontime\n",
      "family_status         children purpose                    \n",
      "Не женат / не замужем 0        авто           57.0   404.0\n",
      "                               недвижимость   87.0  1066.0\n",
      "                               образование    48.0   372.0\n",
      "                      1        авто           13.0    71.0\n",
      "                               недвижимость   28.0   208.0\n",
      "                               образование    10.0    81.0\n",
      "                      2        авто            5.0    14.0\n",
      "                               недвижимость    3.0    37.0\n",
      "                               образование     1.0    12.0\n",
      "                      3        авто            NaN     4.0\n",
      "                               недвижимость    1.0     NaN\n",
      "                               образование     NaN     2.0\n",
      "                      4        недвижимость    1.0     NaN\n",
      "в разводе             0        авто           12.0   159.0\n",
      "                               недвижимость   25.0   373.0\n",
      "                               образование    12.0   132.0\n",
      "                      1        авто            5.0    60.0\n",
      "                               недвижимость   12.0   157.0\n",
      "                               образование     2.0    48.0\n",
      "                      2        авто            1.0    10.0\n",
      "                               недвижимость    4.0    42.0\n",
      "                               образование     2.0    16.0\n",
      "                      3        авто            NaN     1.0\n",
      "                               недвижимость    1.0     8.0\n",
      "                      4        авто            NaN     1.0\n",
      "вдовец / вдова        0        авто           17.0   164.0\n",
      "                               недвижимость   19.0   400.0\n",
      "                               образование    12.0   146.0\n",
      "                      1        авто            NaN    11.0\n",
      "                               недвижимость    4.0    48.0\n",
      "...                                            ...     ...\n",
      "гражданский брак      2        авто            3.0    30.0\n",
      "                               недвижимость    7.0    46.0\n",
      "                               образование     5.0    23.0\n",
      "                               свадьба        14.0   188.0\n",
      "                      3        авто            1.0     3.0\n",
      "                               недвижимость    NaN    10.0\n",
      "                               образование     1.0     3.0\n",
      "                               свадьба         4.0    23.0\n",
      "                      4        авто            NaN     1.0\n",
      "                               недвижимость    NaN     4.0\n",
      "                               свадьба         NaN     2.0\n",
      "                      5        свадьба         NaN     1.0\n",
      "женат / замужем       0        авто          105.0  1383.0\n",
      "                               недвижимость  253.0  3574.0\n",
      "                               образование   103.0  1323.0\n",
      "                      1        авто           67.0   569.0\n",
      "                               недвижимость  116.0  1432.0\n",
      "                               образование    48.0   478.0\n",
      "                      2        авто           36.0   272.0\n",
      "                               недвижимость   67.0   746.0\n",
      "                               образование    35.0   279.0\n",
      "                      3        авто            3.0    42.0\n",
      "                               недвижимость   10.0   121.0\n",
      "                               образование     1.0    49.0\n",
      "                      4        авто            1.0     7.0\n",
      "                               недвижимость    1.0    10.0\n",
      "                               образование     NaN     5.0\n",
      "                      5        авто            NaN     1.0\n",
      "                               недвижимость    NaN     5.0\n",
      "                               образование     NaN     1.0\n",
      "\n",
      "[75 rows x 2 columns]\n"
     ]
    }
   ],
   "source": [
    "table = df.pivot_table (index=['family_status','children','purpose',], columns= 'debt', values=['stat'], aggfunc='sum')\n",
    "#table = table.loc[table['isdebt'] > 100]\n",
    "#print(table.sort_values('isdebt', ascending=False))\n",
    "print(table)"
   ]
  },
  {
   "cell_type": "markdown",
   "metadata": {},
   "source": [
    "<font color='green'> Если мы собирем все исселедуемые данные в сводном отчете мы увидим, что портрет самого интересного активного заемщика это люди состоящие в браке пока не имеющие детей берущие кредит на покупку недвижимости это самая болшая цифра по объемам кредитов из общей корзины (3828) или почти 20%  Дальше идет автомобиль и образование\n",
    "    \n",
    "    Тенденция Недвижимость - автомобиль - образование прослеживается во всех группах а процентно соответсвует 60%, 15%, 15% и 10% свадьба\n",
    "    \n",
    "    Самое интересное, что с появление 1 или 2 го ребенка ответственность в возврате кредита возрастает а с появлением 3 и 4  могут быть просрочки чаще\n",
    "    \n",
    "    Люди в браке берут кредитов больше чем все остальные категории, но и суммарный объем заработка у таких людей больше.\n",
    "    \n",
    "    Весь объем кредитов на свадьбу присутствует только в статусе \"гражданский брак\" и составляет всего 1941 кредит\n",
    "    \n",
    "</font>"
   ]
  },
  {
   "cell_type": "code",
   "execution_count": null,
   "metadata": {},
   "outputs": [],
   "source": []
  }
 ],
 "metadata": {
  "kernelspec": {
   "display_name": "Python 3",
   "language": "python",
   "name": "python3"
  },
  "language_info": {
   "codemirror_mode": {
    "name": "ipython",
    "version": 3
   },
   "file_extension": ".py",
   "mimetype": "text/x-python",
   "name": "python",
   "nbconvert_exporter": "python",
   "pygments_lexer": "ipython3",
   "version": "3.7.6"
  }
 },
 "nbformat": 4,
 "nbformat_minor": 4
}
