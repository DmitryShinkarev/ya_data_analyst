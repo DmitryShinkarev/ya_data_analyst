{
 "cells": [
  {
   "cell_type": "markdown",
   "metadata": {},
   "source": [
    "# Поведение пользователей мобильного приложения"
   ]
  },
  {
   "cell_type": "markdown",
   "metadata": {},
   "source": [
    " Разобраться как ведут себя пользователи в событийной модели. Исследование A/B теста по изменению дизайна мобольного приложния на трех группах экспериментальной и двух тестовых. \n",
    " \n",
    " Версия в pdf по [сслыке](https://yadi.sk/i/k4fScnl23C8kKw) "
   ]
  },
  {
   "cell_type": "code",
   "execution_count": 1,
   "metadata": {},
   "outputs": [],
   "source": [
    "# подгружаем библиотеки\n",
    "import pandas as pd\n",
    "import numpy as np\n",
    "import seaborn as sns\n",
    "\n",
    "from scipy import stats as st\n",
    "from datetime import timedelta\n",
    "from matplotlib import pyplot as plt"
   ]
  },
  {
   "cell_type": "code",
   "execution_count": 2,
   "metadata": {},
   "outputs": [],
   "source": [
    "#Загрузим интересующиий нас датасет\n",
    "df = pd.read_csv('/datasets/logs_exp.csv', delim_whitespace = 1)"
   ]
  },
  {
   "cell_type": "code",
   "execution_count": 3,
   "metadata": {},
   "outputs": [
    {
     "data": {
      "text/html": [
       "<div>\n",
       "<style scoped>\n",
       "    .dataframe tbody tr th:only-of-type {\n",
       "        vertical-align: middle;\n",
       "    }\n",
       "\n",
       "    .dataframe tbody tr th {\n",
       "        vertical-align: top;\n",
       "    }\n",
       "\n",
       "    .dataframe thead th {\n",
       "        text-align: right;\n",
       "    }\n",
       "</style>\n",
       "<table border=\"1\" class=\"dataframe\">\n",
       "  <thead>\n",
       "    <tr style=\"text-align: right;\">\n",
       "      <th></th>\n",
       "      <th>EventName</th>\n",
       "      <th>DeviceIDHash</th>\n",
       "      <th>EventTimestamp</th>\n",
       "      <th>ExpId</th>\n",
       "    </tr>\n",
       "  </thead>\n",
       "  <tbody>\n",
       "    <tr>\n",
       "      <th>0</th>\n",
       "      <td>MainScreenAppear</td>\n",
       "      <td>4575588528974610257</td>\n",
       "      <td>1564029816</td>\n",
       "      <td>246</td>\n",
       "    </tr>\n",
       "    <tr>\n",
       "      <th>1</th>\n",
       "      <td>MainScreenAppear</td>\n",
       "      <td>7416695313311560658</td>\n",
       "      <td>1564053102</td>\n",
       "      <td>246</td>\n",
       "    </tr>\n",
       "    <tr>\n",
       "      <th>2</th>\n",
       "      <td>PaymentScreenSuccessful</td>\n",
       "      <td>3518123091307005509</td>\n",
       "      <td>1564054127</td>\n",
       "      <td>248</td>\n",
       "    </tr>\n",
       "    <tr>\n",
       "      <th>3</th>\n",
       "      <td>CartScreenAppear</td>\n",
       "      <td>3518123091307005509</td>\n",
       "      <td>1564054127</td>\n",
       "      <td>248</td>\n",
       "    </tr>\n",
       "    <tr>\n",
       "      <th>4</th>\n",
       "      <td>PaymentScreenSuccessful</td>\n",
       "      <td>6217807653094995999</td>\n",
       "      <td>1564055322</td>\n",
       "      <td>248</td>\n",
       "    </tr>\n",
       "  </tbody>\n",
       "</table>\n",
       "</div>"
      ],
      "text/plain": [
       "                 EventName         DeviceIDHash  EventTimestamp  ExpId\n",
       "0         MainScreenAppear  4575588528974610257      1564029816    246\n",
       "1         MainScreenAppear  7416695313311560658      1564053102    246\n",
       "2  PaymentScreenSuccessful  3518123091307005509      1564054127    248\n",
       "3         CartScreenAppear  3518123091307005509      1564054127    248\n",
       "4  PaymentScreenSuccessful  6217807653094995999      1564055322    248"
      ]
     },
     "execution_count": 3,
     "metadata": {},
     "output_type": "execute_result"
    }
   ],
   "source": [
    "df.head()"
   ]
  },
  {
   "cell_type": "code",
   "execution_count": 4,
   "metadata": {},
   "outputs": [
    {
     "name": "stdout",
     "output_type": "stream",
     "text": [
      "<class 'pandas.core.frame.DataFrame'>\n",
      "RangeIndex: 244126 entries, 0 to 244125\n",
      "Data columns (total 4 columns):\n",
      "EventName         244126 non-null object\n",
      "DeviceIDHash      244126 non-null int64\n",
      "EventTimestamp    244126 non-null int64\n",
      "ExpId             244126 non-null int64\n",
      "dtypes: int64(3), object(1)\n",
      "memory usage: 7.5+ MB\n"
     ]
    }
   ],
   "source": [
    "df.info()"
   ]
  },
  {
   "cell_type": "code",
   "execution_count": 5,
   "metadata": {},
   "outputs": [
    {
     "data": {
      "text/plain": [
       "(244126, 4)"
      ]
     },
     "execution_count": 5,
     "metadata": {},
     "output_type": "execute_result"
    }
   ],
   "source": [
    "# Удалим дубликаты и проверим изменилась ли общее число строк\n",
    "df.drop_duplicates()\n",
    "df.shape"
   ]
  },
  {
   "cell_type": "code",
   "execution_count": 6,
   "metadata": {},
   "outputs": [
    {
     "data": {
      "text/plain": [
       "array(['MainScreenAppear', 'PaymentScreenSuccessful', 'CartScreenAppear',\n",
       "       'OffersScreenAppear', 'Tutorial'], dtype=object)"
      ]
     },
     "execution_count": 6,
     "metadata": {},
     "output_type": "execute_result"
    }
   ],
   "source": [
    "df['EventName'].unique()"
   ]
  },
  {
   "cell_type": "code",
   "execution_count": 7,
   "metadata": {},
   "outputs": [],
   "source": [
    "# Переименум колонки в удобные для чтения оставляя их смысл\n",
    "df.columns = ['event','id','timestamp_event','group']"
   ]
  },
  {
   "cell_type": "code",
   "execution_count": 8,
   "metadata": {},
   "outputs": [
    {
     "data": {
      "text/html": [
       "<div>\n",
       "<style scoped>\n",
       "    .dataframe tbody tr th:only-of-type {\n",
       "        vertical-align: middle;\n",
       "    }\n",
       "\n",
       "    .dataframe tbody tr th {\n",
       "        vertical-align: top;\n",
       "    }\n",
       "\n",
       "    .dataframe thead th {\n",
       "        text-align: right;\n",
       "    }\n",
       "</style>\n",
       "<table border=\"1\" class=\"dataframe\">\n",
       "  <thead>\n",
       "    <tr style=\"text-align: right;\">\n",
       "      <th></th>\n",
       "      <th>event</th>\n",
       "      <th>id</th>\n",
       "      <th>timestamp_event</th>\n",
       "      <th>group</th>\n",
       "    </tr>\n",
       "  </thead>\n",
       "  <tbody>\n",
       "    <tr>\n",
       "      <th>0</th>\n",
       "      <td>MainScreenAppear</td>\n",
       "      <td>4575588528974610257</td>\n",
       "      <td>1564029816</td>\n",
       "      <td>246</td>\n",
       "    </tr>\n",
       "    <tr>\n",
       "      <th>1</th>\n",
       "      <td>MainScreenAppear</td>\n",
       "      <td>7416695313311560658</td>\n",
       "      <td>1564053102</td>\n",
       "      <td>246</td>\n",
       "    </tr>\n",
       "    <tr>\n",
       "      <th>2</th>\n",
       "      <td>PaymentScreenSuccessful</td>\n",
       "      <td>3518123091307005509</td>\n",
       "      <td>1564054127</td>\n",
       "      <td>248</td>\n",
       "    </tr>\n",
       "    <tr>\n",
       "      <th>3</th>\n",
       "      <td>CartScreenAppear</td>\n",
       "      <td>3518123091307005509</td>\n",
       "      <td>1564054127</td>\n",
       "      <td>248</td>\n",
       "    </tr>\n",
       "    <tr>\n",
       "      <th>4</th>\n",
       "      <td>PaymentScreenSuccessful</td>\n",
       "      <td>6217807653094995999</td>\n",
       "      <td>1564055322</td>\n",
       "      <td>248</td>\n",
       "    </tr>\n",
       "  </tbody>\n",
       "</table>\n",
       "</div>"
      ],
      "text/plain": [
       "                     event                   id  timestamp_event  group\n",
       "0         MainScreenAppear  4575588528974610257       1564029816    246\n",
       "1         MainScreenAppear  7416695313311560658       1564053102    246\n",
       "2  PaymentScreenSuccessful  3518123091307005509       1564054127    248\n",
       "3         CartScreenAppear  3518123091307005509       1564054127    248\n",
       "4  PaymentScreenSuccessful  6217807653094995999       1564055322    248"
      ]
     },
     "execution_count": 8,
     "metadata": {},
     "output_type": "execute_result"
    }
   ],
   "source": [
    "df.head()"
   ]
  },
  {
   "cell_type": "code",
   "execution_count": 9,
   "metadata": {},
   "outputs": [],
   "source": [
    "# Добавим несколько новых столбцов - дата/время и агрегирующее поля для подсчетов. переменную id переведем в тип \"строка\"\n",
    "df['date_time'] = pd.to_datetime(df['timestamp_event'], unit='s')\n",
    "df['id'] = df['id'].astype('str')\n",
    "df['aggregate'] = 1"
   ]
  },
  {
   "cell_type": "code",
   "execution_count": 10,
   "metadata": {},
   "outputs": [],
   "source": [
    "# Добавим столбик с датой и временем\n",
    "df['date'] = df['date_time'].astype('datetime64[D]')\n",
    "df['time'] = df['date_time'].astype('datetime64[h]')\n",
    "df['time'] = df['time'].astype('str')\n",
    "df['time'] = df['time'].apply(lambda x: str(x)[-9:])"
   ]
  },
  {
   "cell_type": "code",
   "execution_count": 11,
   "metadata": {},
   "outputs": [
    {
     "data": {
      "text/html": [
       "<div>\n",
       "<style scoped>\n",
       "    .dataframe tbody tr th:only-of-type {\n",
       "        vertical-align: middle;\n",
       "    }\n",
       "\n",
       "    .dataframe tbody tr th {\n",
       "        vertical-align: top;\n",
       "    }\n",
       "\n",
       "    .dataframe thead th {\n",
       "        text-align: right;\n",
       "    }\n",
       "</style>\n",
       "<table border=\"1\" class=\"dataframe\">\n",
       "  <thead>\n",
       "    <tr style=\"text-align: right;\">\n",
       "      <th></th>\n",
       "      <th>event</th>\n",
       "      <th>id</th>\n",
       "      <th>timestamp_event</th>\n",
       "      <th>group</th>\n",
       "      <th>date_time</th>\n",
       "      <th>aggregate</th>\n",
       "      <th>date</th>\n",
       "      <th>time</th>\n",
       "    </tr>\n",
       "  </thead>\n",
       "  <tbody>\n",
       "    <tr>\n",
       "      <th>0</th>\n",
       "      <td>MainScreenAppear</td>\n",
       "      <td>4575588528974610257</td>\n",
       "      <td>1564029816</td>\n",
       "      <td>246</td>\n",
       "      <td>2019-07-25 04:43:36</td>\n",
       "      <td>1</td>\n",
       "      <td>2019-07-25</td>\n",
       "      <td>04:00:00</td>\n",
       "    </tr>\n",
       "    <tr>\n",
       "      <th>1</th>\n",
       "      <td>MainScreenAppear</td>\n",
       "      <td>7416695313311560658</td>\n",
       "      <td>1564053102</td>\n",
       "      <td>246</td>\n",
       "      <td>2019-07-25 11:11:42</td>\n",
       "      <td>1</td>\n",
       "      <td>2019-07-25</td>\n",
       "      <td>11:00:00</td>\n",
       "    </tr>\n",
       "    <tr>\n",
       "      <th>2</th>\n",
       "      <td>PaymentScreenSuccessful</td>\n",
       "      <td>3518123091307005509</td>\n",
       "      <td>1564054127</td>\n",
       "      <td>248</td>\n",
       "      <td>2019-07-25 11:28:47</td>\n",
       "      <td>1</td>\n",
       "      <td>2019-07-25</td>\n",
       "      <td>11:00:00</td>\n",
       "    </tr>\n",
       "    <tr>\n",
       "      <th>3</th>\n",
       "      <td>CartScreenAppear</td>\n",
       "      <td>3518123091307005509</td>\n",
       "      <td>1564054127</td>\n",
       "      <td>248</td>\n",
       "      <td>2019-07-25 11:28:47</td>\n",
       "      <td>1</td>\n",
       "      <td>2019-07-25</td>\n",
       "      <td>11:00:00</td>\n",
       "    </tr>\n",
       "    <tr>\n",
       "      <th>4</th>\n",
       "      <td>PaymentScreenSuccessful</td>\n",
       "      <td>6217807653094995999</td>\n",
       "      <td>1564055322</td>\n",
       "      <td>248</td>\n",
       "      <td>2019-07-25 11:48:42</td>\n",
       "      <td>1</td>\n",
       "      <td>2019-07-25</td>\n",
       "      <td>11:00:00</td>\n",
       "    </tr>\n",
       "  </tbody>\n",
       "</table>\n",
       "</div>"
      ],
      "text/plain": [
       "                     event                   id  timestamp_event  group  \\\n",
       "0         MainScreenAppear  4575588528974610257       1564029816    246   \n",
       "1         MainScreenAppear  7416695313311560658       1564053102    246   \n",
       "2  PaymentScreenSuccessful  3518123091307005509       1564054127    248   \n",
       "3         CartScreenAppear  3518123091307005509       1564054127    248   \n",
       "4  PaymentScreenSuccessful  6217807653094995999       1564055322    248   \n",
       "\n",
       "            date_time  aggregate       date       time  \n",
       "0 2019-07-25 04:43:36          1 2019-07-25   04:00:00  \n",
       "1 2019-07-25 11:11:42          1 2019-07-25   11:00:00  \n",
       "2 2019-07-25 11:28:47          1 2019-07-25   11:00:00  \n",
       "3 2019-07-25 11:28:47          1 2019-07-25   11:00:00  \n",
       "4 2019-07-25 11:48:42          1 2019-07-25   11:00:00  "
      ]
     },
     "execution_count": 11,
     "metadata": {},
     "output_type": "execute_result"
    }
   ],
   "source": [
    "df.head()"
   ]
  },
  {
   "cell_type": "code",
   "execution_count": 12,
   "metadata": {
    "scrolled": true
   },
   "outputs": [
    {
     "name": "stdout",
     "output_type": "stream",
     "text": [
      "<class 'pandas.core.frame.DataFrame'>\n",
      "RangeIndex: 244126 entries, 0 to 244125\n",
      "Data columns (total 8 columns):\n",
      "event              244126 non-null object\n",
      "id                 244126 non-null object\n",
      "timestamp_event    244126 non-null int64\n",
      "group              244126 non-null int64\n",
      "date_time          244126 non-null datetime64[ns]\n",
      "aggregate          244126 non-null int64\n",
      "date               244126 non-null datetime64[ns]\n",
      "time               244126 non-null object\n",
      "dtypes: datetime64[ns](2), int64(3), object(3)\n",
      "memory usage: 14.9+ MB\n"
     ]
    }
   ],
   "source": [
    "df.info()"
   ]
  },
  {
   "cell_type": "markdown",
   "metadata": {},
   "source": []
  },
  {
   "cell_type": "markdown",
   "metadata": {},
   "source": [
    "# Изучение полученных данных"
   ]
  },
  {
   "cell_type": "code",
   "execution_count": 13,
   "metadata": {},
   "outputs": [
    {
     "name": "stdout",
     "output_type": "stream",
     "text": [
      "Всего событий в логе: 244126\n"
     ]
    }
   ],
   "source": [
    "# Узнаем сколько всего событий в логе\n",
    "all_events = df.count()[0]\n",
    "print(f'Всего событий в логе: {all_events}')"
   ]
  },
  {
   "cell_type": "code",
   "execution_count": 14,
   "metadata": {},
   "outputs": [],
   "source": [
    "# Функция будет считать уникальных пользователей в датасете\n",
    "def count_uniq_id(df):\n",
    "    list_id = df['id'].unique()\n",
    "    count_uniq_id = len(list_id)\n",
    "    return int(count_uniq_id)"
   ]
  },
  {
   "cell_type": "code",
   "execution_count": 15,
   "metadata": {},
   "outputs": [
    {
     "name": "stdout",
     "output_type": "stream",
     "text": [
      "Всего уникальных идентификаторов: 7551\n"
     ]
    }
   ],
   "source": [
    "list_id = count_uniq_id(df)\n",
    "print(f'Всего уникальных идентификаторов:', list_id)"
   ]
  },
  {
   "cell_type": "code",
   "execution_count": 16,
   "metadata": {},
   "outputs": [
    {
     "name": "stdout",
     "output_type": "stream",
     "text": [
      "В среднем событий для пользователя: 32.33\n"
     ]
    }
   ],
   "source": [
    "# Посчитаем сколько в среднем событий приходится на одного пользвателя\n",
    "mean_per_user = df.pivot_table(values='aggregate', index='id', columns = 'event', aggfunc='sum')\n",
    "mean_per_user = mean_per_user.fillna(0).reset_index()\n",
    "mean_per_user['all_event'] = mean_per_user['CartScreenAppear'] + \\\n",
    "                                    mean_per_user['MainScreenAppear'] + \\\n",
    "                                        mean_per_user['OffersScreenAppear'] + \\\n",
    "                                                mean_per_user['PaymentScreenSuccessful'] + \\\n",
    "                                                    mean_per_user['Tutorial']\n",
    "\n",
    "count_mean_ever_id = mean_per_user['all_event'].mean().round(2)\n",
    "print(f'В среднем событий для пользователя: {count_mean_ever_id}')"
   ]
  },
  {
   "cell_type": "code",
   "execution_count": 17,
   "metadata": {},
   "outputs": [
    {
     "name": "stdout",
     "output_type": "stream",
     "text": [
      "                         aggregate\n",
      "event                             \n",
      "MainScreenAppear            119205\n",
      "OffersScreenAppear           46825\n",
      "CartScreenAppear             42731\n",
      "PaymentScreenSuccessful      34313\n",
      "Tutorial                      1052\n"
     ]
    },
    {
     "data": {
      "image/png": "[encoded data removed]",
      "text/plain": [
       "<Figure size 864x432 with 1 Axes>"
      ]
     },
     "metadata": {
      "needs_background": "light"
     },
     "output_type": "display_data"
    }
   ],
   "source": [
    "# Построим график чтобы выяснить общую воронку событий по численности\n",
    "event_count = df.pivot_table(values='aggregate', index='event', aggfunc='sum')\n",
    "event_count = event_count.sort_values('aggregate', ascending = False)\n",
    "title_n = 'График по количеству видов событий'\n",
    "event_count.plot.bar(figsize=(7, 5), title = title_n, grid = True);\n",
    "fig=plt.gcf()\n",
    "fig.set_size_inches(12,6)\n",
    "plt.xticks(rotation=20)\n",
    "print(event_count)\n",
    "plt.show()"
   ]
  },
  {
   "cell_type": "markdown",
   "metadata": {},
   "source": [
    "### Выясним какие данные за какой период у нас есть как они распологаются на графике"
   ]
  },
  {
   "cell_type": "code",
   "execution_count": 18,
   "metadata": {},
   "outputs": [
    {
     "data": {
      "text/plain": [
       "count                  244126\n",
       "unique                     14\n",
       "top       2019-08-01 00:00:00\n",
       "freq                    36229\n",
       "first     2019-07-25 00:00:00\n",
       "last      2019-08-07 00:00:00\n",
       "Name: date, dtype: object"
      ]
     },
     "execution_count": 18,
     "metadata": {},
     "output_type": "execute_result"
    }
   ],
   "source": [
    "df['date'].describe()"
   ]
  },
  {
   "cell_type": "markdown",
   "metadata": {},
   "source": [
    "Из первоначального датасета видно, что мы распологаем данными примерно за месяц от 25 июля по 8 августа 2019 года"
   ]
  },
  {
   "cell_type": "code",
   "execution_count": 19,
   "metadata": {},
   "outputs": [
    {
     "data": {
      "image/png": "[encoded data removed]",
      "text/plain": [
       "<Figure size 864x360 with 1 Axes>"
      ]
     },
     "metadata": {
      "needs_background": "light"
     },
     "output_type": "display_data"
    }
   ],
   "source": [
    "df_hist = df.pivot_table(index = 'time', values=['aggregate'], aggfunc='sum')\n",
    "\n",
    "title_n = 'Активность пользователей по всем событиям в течение дня'\n",
    "df_hist.plot(grid=True, figsize=(12, 5), title = title_n);"
   ]
  },
  {
   "cell_type": "markdown",
   "metadata": {},
   "source": [
    "Смотрим активность пользователей по часам в течение суток и видим в полне понятный график. Заметим, что активность есть и ночью по этому события по своей хронологии моут съезжать в другую дату, что очень жаль. Хотелось бы идентификатор сессии."
   ]
  },
  {
   "cell_type": "code",
   "execution_count": 20,
   "metadata": {},
   "outputs": [
    {
     "data": {
      "image/png": "[encoded data removed]",
      "text/plain": [
       "<Figure size 864x360 with 1 Axes>"
      ]
     },
     "metadata": {
      "needs_background": "light"
     },
     "output_type": "display_data"
    }
   ],
   "source": [
    "# Построим график активности пользоватлей по дням\n",
    "df_hist = df.pivot_table(index = 'date', values=['aggregate'], aggfunc='sum')\n",
    "\n",
    "title_n = 'Активность активность пользвоателей по датам'\n",
    "df_hist.plot(grid=True, figsize=(12, 5), title = title_n);"
   ]
  },
  {
   "cell_type": "markdown",
   "metadata": {},
   "source": [
    "График скорее всего показывает, что рабочий старат приложения состоялся 1 августа а до этого оно работало скорее всего в тестовом режиме."
   ]
  },
  {
   "cell_type": "code",
   "execution_count": 21,
   "metadata": {},
   "outputs": [
    {
     "name": "stdout",
     "output_type": "stream",
     "text": [
      "<class 'pandas.core.frame.DataFrame'>\n",
      "Int64Index: 2828 entries, 0 to 2827\n",
      "Data columns (total 8 columns):\n",
      "event              2828 non-null object\n",
      "id                 2828 non-null object\n",
      "timestamp_event    2828 non-null int64\n",
      "group              2828 non-null int64\n",
      "date_time          2828 non-null datetime64[ns]\n",
      "aggregate          2828 non-null int64\n",
      "date               2828 non-null datetime64[ns]\n",
      "time               2828 non-null object\n",
      "dtypes: datetime64[ns](2), int64(3), object(3)\n",
      "memory usage: 198.8+ KB\n"
     ]
    }
   ],
   "source": [
    "df_garbage = df[(df['date'] < '2019-08-01')]\n",
    "df_garbage.info()"
   ]
  },
  {
   "cell_type": "markdown",
   "metadata": {},
   "source": [
    "Придется обрезать всего три тысяци событий, что не так много"
   ]
  },
  {
   "cell_type": "code",
   "execution_count": 22,
   "metadata": {},
   "outputs": [
    {
     "data": {
      "text/html": [
       "<div>\n",
       "<style scoped>\n",
       "    .dataframe tbody tr th:only-of-type {\n",
       "        vertical-align: middle;\n",
       "    }\n",
       "\n",
       "    .dataframe tbody tr th {\n",
       "        vertical-align: top;\n",
       "    }\n",
       "\n",
       "    .dataframe thead th {\n",
       "        text-align: right;\n",
       "    }\n",
       "</style>\n",
       "<table border=\"1\" class=\"dataframe\">\n",
       "  <thead>\n",
       "    <tr style=\"text-align: right;\">\n",
       "      <th></th>\n",
       "      <th>event</th>\n",
       "      <th>id</th>\n",
       "      <th>timestamp_event</th>\n",
       "      <th>group</th>\n",
       "      <th>date_time</th>\n",
       "      <th>aggregate</th>\n",
       "      <th>date</th>\n",
       "      <th>time</th>\n",
       "    </tr>\n",
       "  </thead>\n",
       "  <tbody>\n",
       "    <tr>\n",
       "      <th>2828</th>\n",
       "      <td>Tutorial</td>\n",
       "      <td>3737462046622621720</td>\n",
       "      <td>1564618048</td>\n",
       "      <td>246</td>\n",
       "      <td>2019-08-01 00:07:28</td>\n",
       "      <td>1</td>\n",
       "      <td>2019-08-01</td>\n",
       "      <td>00:00:00</td>\n",
       "    </tr>\n",
       "    <tr>\n",
       "      <th>2829</th>\n",
       "      <td>MainScreenAppear</td>\n",
       "      <td>3737462046622621720</td>\n",
       "      <td>1564618080</td>\n",
       "      <td>246</td>\n",
       "      <td>2019-08-01 00:08:00</td>\n",
       "      <td>1</td>\n",
       "      <td>2019-08-01</td>\n",
       "      <td>00:00:00</td>\n",
       "    </tr>\n",
       "    <tr>\n",
       "      <th>2830</th>\n",
       "      <td>MainScreenAppear</td>\n",
       "      <td>3737462046622621720</td>\n",
       "      <td>1564618135</td>\n",
       "      <td>246</td>\n",
       "      <td>2019-08-01 00:08:55</td>\n",
       "      <td>1</td>\n",
       "      <td>2019-08-01</td>\n",
       "      <td>00:00:00</td>\n",
       "    </tr>\n",
       "    <tr>\n",
       "      <th>2831</th>\n",
       "      <td>OffersScreenAppear</td>\n",
       "      <td>3737462046622621720</td>\n",
       "      <td>1564618138</td>\n",
       "      <td>246</td>\n",
       "      <td>2019-08-01 00:08:58</td>\n",
       "      <td>1</td>\n",
       "      <td>2019-08-01</td>\n",
       "      <td>00:00:00</td>\n",
       "    </tr>\n",
       "    <tr>\n",
       "      <th>2832</th>\n",
       "      <td>MainScreenAppear</td>\n",
       "      <td>1433840883824088890</td>\n",
       "      <td>1564618139</td>\n",
       "      <td>247</td>\n",
       "      <td>2019-08-01 00:08:59</td>\n",
       "      <td>1</td>\n",
       "      <td>2019-08-01</td>\n",
       "      <td>00:00:00</td>\n",
       "    </tr>\n",
       "  </tbody>\n",
       "</table>\n",
       "</div>"
      ],
      "text/plain": [
       "                   event                   id  timestamp_event  group  \\\n",
       "2828            Tutorial  3737462046622621720       1564618048    246   \n",
       "2829    MainScreenAppear  3737462046622621720       1564618080    246   \n",
       "2830    MainScreenAppear  3737462046622621720       1564618135    246   \n",
       "2831  OffersScreenAppear  3737462046622621720       1564618138    246   \n",
       "2832    MainScreenAppear  1433840883824088890       1564618139    247   \n",
       "\n",
       "               date_time  aggregate       date       time  \n",
       "2828 2019-08-01 00:07:28          1 2019-08-01   00:00:00  \n",
       "2829 2019-08-01 00:08:00          1 2019-08-01   00:00:00  \n",
       "2830 2019-08-01 00:08:55          1 2019-08-01   00:00:00  \n",
       "2831 2019-08-01 00:08:58          1 2019-08-01   00:00:00  \n",
       "2832 2019-08-01 00:08:59          1 2019-08-01   00:00:00  "
      ]
     },
     "execution_count": 22,
     "metadata": {},
     "output_type": "execute_result"
    }
   ],
   "source": [
    "#  обрезаем датафрейм по дате \n",
    "df = df[(df['date'] >= '2019-08-01')]\n",
    "df.head()"
   ]
  },
  {
   "cell_type": "code",
   "execution_count": 23,
   "metadata": {},
   "outputs": [
    {
     "data": {
      "image/png": "[encoded data removed]",
      "text/plain": [
       "<Figure size 864x360 with 1 Axes>"
      ]
     },
     "metadata": {
      "needs_background": "light"
     },
     "output_type": "display_data"
    }
   ],
   "source": [
    "#  Строим график активности по очищенным датам\n",
    "df_hist = df.pivot_table(index = 'date', values=['aggregate'], aggfunc='sum')\n",
    "\n",
    "title_n = 'Активность активность пользвоателей по датам'\n",
    "df_hist.plot(grid=True, figsize=(12, 5), title = title_n);"
   ]
  },
  {
   "cell_type": "markdown",
   "metadata": {},
   "source": [
    "Констатируем, что данных для работы у нас ровно неделя."
   ]
  },
  {
   "cell_type": "code",
   "execution_count": 24,
   "metadata": {},
   "outputs": [
    {
     "data": {
      "text/html": [
       "<div>\n",
       "<style scoped>\n",
       "    .dataframe tbody tr th:only-of-type {\n",
       "        vertical-align: middle;\n",
       "    }\n",
       "\n",
       "    .dataframe tbody tr th {\n",
       "        vertical-align: top;\n",
       "    }\n",
       "\n",
       "    .dataframe thead th {\n",
       "        text-align: right;\n",
       "    }\n",
       "</style>\n",
       "<table border=\"1\" class=\"dataframe\">\n",
       "  <thead>\n",
       "    <tr style=\"text-align: right;\">\n",
       "      <th></th>\n",
       "      <th>event</th>\n",
       "      <th>id</th>\n",
       "      <th>timestamp_event</th>\n",
       "      <th>group</th>\n",
       "      <th>date_time</th>\n",
       "      <th>aggregate</th>\n",
       "      <th>date</th>\n",
       "      <th>time</th>\n",
       "    </tr>\n",
       "  </thead>\n",
       "  <tbody>\n",
       "    <tr>\n",
       "      <th>2828</th>\n",
       "      <td>Tutorial</td>\n",
       "      <td>3737462046622621720</td>\n",
       "      <td>1564618048</td>\n",
       "      <td>246</td>\n",
       "      <td>2019-08-01 00:07:28</td>\n",
       "      <td>1</td>\n",
       "      <td>2019-08-01</td>\n",
       "      <td>00:00:00</td>\n",
       "    </tr>\n",
       "    <tr>\n",
       "      <th>2829</th>\n",
       "      <td>MainScreenAppear</td>\n",
       "      <td>3737462046622621720</td>\n",
       "      <td>1564618080</td>\n",
       "      <td>246</td>\n",
       "      <td>2019-08-01 00:08:00</td>\n",
       "      <td>1</td>\n",
       "      <td>2019-08-01</td>\n",
       "      <td>00:00:00</td>\n",
       "    </tr>\n",
       "    <tr>\n",
       "      <th>2830</th>\n",
       "      <td>MainScreenAppear</td>\n",
       "      <td>3737462046622621720</td>\n",
       "      <td>1564618135</td>\n",
       "      <td>246</td>\n",
       "      <td>2019-08-01 00:08:55</td>\n",
       "      <td>1</td>\n",
       "      <td>2019-08-01</td>\n",
       "      <td>00:00:00</td>\n",
       "    </tr>\n",
       "    <tr>\n",
       "      <th>2831</th>\n",
       "      <td>OffersScreenAppear</td>\n",
       "      <td>3737462046622621720</td>\n",
       "      <td>1564618138</td>\n",
       "      <td>246</td>\n",
       "      <td>2019-08-01 00:08:58</td>\n",
       "      <td>1</td>\n",
       "      <td>2019-08-01</td>\n",
       "      <td>00:00:00</td>\n",
       "    </tr>\n",
       "    <tr>\n",
       "      <th>2832</th>\n",
       "      <td>MainScreenAppear</td>\n",
       "      <td>1433840883824088890</td>\n",
       "      <td>1564618139</td>\n",
       "      <td>247</td>\n",
       "      <td>2019-08-01 00:08:59</td>\n",
       "      <td>1</td>\n",
       "      <td>2019-08-01</td>\n",
       "      <td>00:00:00</td>\n",
       "    </tr>\n",
       "  </tbody>\n",
       "</table>\n",
       "</div>"
      ],
      "text/plain": [
       "                   event                   id  timestamp_event  group  \\\n",
       "2828            Tutorial  3737462046622621720       1564618048    246   \n",
       "2829    MainScreenAppear  3737462046622621720       1564618080    246   \n",
       "2830    MainScreenAppear  3737462046622621720       1564618135    246   \n",
       "2831  OffersScreenAppear  3737462046622621720       1564618138    246   \n",
       "2832    MainScreenAppear  1433840883824088890       1564618139    247   \n",
       "\n",
       "               date_time  aggregate       date       time  \n",
       "2828 2019-08-01 00:07:28          1 2019-08-01   00:00:00  \n",
       "2829 2019-08-01 00:08:00          1 2019-08-01   00:00:00  \n",
       "2830 2019-08-01 00:08:55          1 2019-08-01   00:00:00  \n",
       "2831 2019-08-01 00:08:58          1 2019-08-01   00:00:00  \n",
       "2832 2019-08-01 00:08:59          1 2019-08-01   00:00:00  "
      ]
     },
     "execution_count": 24,
     "metadata": {},
     "output_type": "execute_result"
    }
   ],
   "source": [
    "df.head()"
   ]
  },
  {
   "cell_type": "markdown",
   "metadata": {},
   "source": [
    "##### поделим датасеты на три группы для изучения\n"
   ]
  },
  {
   "cell_type": "code",
   "execution_count": 25,
   "metadata": {},
   "outputs": [],
   "source": [
    "df_246 = df.query('group == 246')\n",
    "df_247 = df.query('group == 247')\n",
    "df_248 = df.query('group == 248')"
   ]
  },
  {
   "cell_type": "code",
   "execution_count": 26,
   "metadata": {},
   "outputs": [],
   "source": [
    "group_a, group_b, group_c =  df_246.shape[0], df_247.shape[0], df_248.shape[0]"
   ]
  },
  {
   "cell_type": "code",
   "execution_count": 27,
   "metadata": {},
   "outputs": [],
   "source": [
    "# Функция собирающая информацию по группе пользователей\n",
    "def info_about_group(df_func, num_group):\n",
    "    event_count = df_func.pivot_table(values='aggregate', index='event', aggfunc='sum')\n",
    "    event_count = event_count.sort_values('aggregate', ascending = False)\n",
    "    title_n = 'График по количеству видов событий'\n",
    "    event_count.plot.bar(figsize=(7, 5), title = title_n, grid = True);\n",
    "    fig=plt.gcf()\n",
    "    fig.set_size_inches(12,6)\n",
    "    plt.xticks(rotation=20)\n",
    "    \n",
    "    #event_count.plot(kind='barh', title = title_n, grid = True);\n",
    "            \n",
    "    print('Количество событий')\n",
    "    print(event_count)\n",
    "    #plt.show()\n",
    "\n",
    "    list_id = count_uniq_id(df_func)\n",
    "    last_date_248, first_date_248 =  df_func['date'].max(),  df_func['date'].min()\n",
    "    print()\n",
    "    print(f'Экспериментальная группа номер {num_group} содержит : {group_c} события и {list_id} уникальных идентификатора')\n",
    "    print(f'Первая событие датируется {first_date_248} и последнее {last_date_248}')"
   ]
  },
  {
   "cell_type": "markdown",
   "metadata": {},
   "source": [
    "### Экспериментальная группа 248"
   ]
  },
  {
   "cell_type": "code",
   "execution_count": 28,
   "metadata": {},
   "outputs": [
    {
     "name": "stdout",
     "output_type": "stream",
     "text": [
      "Количество событий\n",
      "                         aggregate\n",
      "event                             \n",
      "MainScreenAppear             40600\n",
      "OffersScreenAppear           16395\n",
      "CartScreenAppear             15198\n",
      "PaymentScreenSuccessful      12160\n",
      "Tutorial                       373\n",
      "\n",
      "Экспериментальная группа номер 248 содержит : 84726 события и 2537 уникальных идентификатора\n",
      "Первая событие датируется 2019-08-01 00:00:00 и последнее 2019-08-07 00:00:00\n"
     ]
    },
    {
     "data": {
      "image/png": "[encoded data removed]",
      "text/plain": [
       "<Figure size 864x432 with 1 Axes>"
      ]
     },
     "metadata": {
      "needs_background": "light"
     },
     "output_type": "display_data"
    }
   ],
   "source": [
    "info_about_group(df_248, '248')"
   ]
  },
  {
   "cell_type": "markdown",
   "metadata": {},
   "source": [
    "### Контрольная группа 246"
   ]
  },
  {
   "cell_type": "code",
   "execution_count": 29,
   "metadata": {},
   "outputs": [
    {
     "name": "stdout",
     "output_type": "stream",
     "text": [
      "Количество событий\n",
      "                         aggregate\n",
      "event                             \n",
      "MainScreenAppear             37708\n",
      "OffersScreenAppear           14773\n",
      "CartScreenAppear             14711\n",
      "PaymentScreenSuccessful      11910\n",
      "Tutorial                       323\n",
      "\n",
      "Экспериментальная группа номер 246 содержит : 84726 события и 2484 уникальных идентификатора\n",
      "Первая событие датируется 2019-08-01 00:00:00 и последнее 2019-08-07 00:00:00\n"
     ]
    },
    {
     "data": {
      "image/png": "[encoded data removed]",
      "text/plain": [
       "<Figure size 864x432 with 1 Axes>"
      ]
     },
     "metadata": {
      "needs_background": "light"
     },
     "output_type": "display_data"
    }
   ],
   "source": [
    "info_about_group(df_246, '246')"
   ]
  },
  {
   "cell_type": "markdown",
   "metadata": {},
   "source": [
    "### Контрольная группа 247"
   ]
  },
  {
   "cell_type": "code",
   "execution_count": 30,
   "metadata": {},
   "outputs": [
    {
     "name": "stdout",
     "output_type": "stream",
     "text": [
      "Количество событий\n",
      "                         aggregate\n",
      "event                             \n",
      "MainScreenAppear             39123\n",
      "OffersScreenAppear           15182\n",
      "CartScreenAppear             12456\n",
      "PaymentScreenSuccessful      10043\n",
      "Tutorial                       343\n",
      "\n",
      "Экспериментальная группа номер 247 содержит : 84726 события и 2513 уникальных идентификатора\n",
      "Первая событие датируется 2019-08-01 00:00:00 и последнее 2019-08-07 00:00:00\n"
     ]
    },
    {
     "data": {
      "image/png": "[encoded data removed]",
      "text/plain": [
       "<Figure size 864x432 with 1 Axes>"
      ]
     },
     "metadata": {
      "needs_background": "light"
     },
     "output_type": "display_data"
    }
   ],
   "source": [
    "info_about_group(df_247, '247')"
   ]
  },
  {
   "cell_type": "markdown",
   "metadata": {},
   "source": [
    "## Число пользователей, которые совершали каждое из событий."
   ]
  },
  {
   "cell_type": "code",
   "execution_count": 31,
   "metadata": {},
   "outputs": [
    {
     "data": {
      "text/html": [
       "<div>\n",
       "<style scoped>\n",
       "    .dataframe tbody tr th:only-of-type {\n",
       "        vertical-align: middle;\n",
       "    }\n",
       "\n",
       "    .dataframe tbody tr th {\n",
       "        vertical-align: top;\n",
       "    }\n",
       "\n",
       "    .dataframe thead th {\n",
       "        text-align: right;\n",
       "    }\n",
       "</style>\n",
       "<table border=\"1\" class=\"dataframe\">\n",
       "  <thead>\n",
       "    <tr style=\"text-align: right;\">\n",
       "      <th>event</th>\n",
       "      <th>id</th>\n",
       "      <th>CartScreenAppear</th>\n",
       "      <th>MainScreenAppear</th>\n",
       "      <th>OffersScreenAppear</th>\n",
       "      <th>PaymentScreenSuccessful</th>\n",
       "      <th>Tutorial</th>\n",
       "    </tr>\n",
       "  </thead>\n",
       "  <tbody>\n",
       "    <tr>\n",
       "      <th>0</th>\n",
       "      <td>1000608915523616548</td>\n",
       "      <td>0.0</td>\n",
       "      <td>1.0</td>\n",
       "      <td>1.0</td>\n",
       "      <td>0.0</td>\n",
       "      <td>0.0</td>\n",
       "    </tr>\n",
       "    <tr>\n",
       "      <th>1</th>\n",
       "      <td>100724994572555335</td>\n",
       "      <td>0.0</td>\n",
       "      <td>1.0</td>\n",
       "      <td>0.0</td>\n",
       "      <td>0.0</td>\n",
       "      <td>0.0</td>\n",
       "    </tr>\n",
       "    <tr>\n",
       "      <th>2</th>\n",
       "      <td>1008242126838007188</td>\n",
       "      <td>1.0</td>\n",
       "      <td>1.0</td>\n",
       "      <td>1.0</td>\n",
       "      <td>1.0</td>\n",
       "      <td>0.0</td>\n",
       "    </tr>\n",
       "    <tr>\n",
       "      <th>3</th>\n",
       "      <td>1009503747199967885</td>\n",
       "      <td>1.0</td>\n",
       "      <td>1.0</td>\n",
       "      <td>1.0</td>\n",
       "      <td>1.0</td>\n",
       "      <td>0.0</td>\n",
       "    </tr>\n",
       "    <tr>\n",
       "      <th>4</th>\n",
       "      <td>1009745980451513098</td>\n",
       "      <td>1.0</td>\n",
       "      <td>1.0</td>\n",
       "      <td>1.0</td>\n",
       "      <td>1.0</td>\n",
       "      <td>0.0</td>\n",
       "    </tr>\n",
       "  </tbody>\n",
       "</table>\n",
       "</div>"
      ],
      "text/plain": [
       "event                   id  CartScreenAppear  MainScreenAppear  \\\n",
       "0      1000608915523616548               0.0               1.0   \n",
       "1       100724994572555335               0.0               1.0   \n",
       "2      1008242126838007188               1.0               1.0   \n",
       "3      1009503747199967885               1.0               1.0   \n",
       "4      1009745980451513098               1.0               1.0   \n",
       "\n",
       "event  OffersScreenAppear  PaymentScreenSuccessful  Tutorial  \n",
       "0                     1.0                      0.0       0.0  \n",
       "1                     0.0                      0.0       0.0  \n",
       "2                     1.0                      1.0       0.0  \n",
       "3                     1.0                      1.0       0.0  \n",
       "4                     1.0                      1.0       0.0  "
      ]
     },
     "execution_count": 31,
     "metadata": {},
     "output_type": "execute_result"
    }
   ],
   "source": [
    "even_user = df.pivot_table(values='aggregate', index='id', columns = 'event').fillna(0).reset_index()\n",
    "even_user.head()"
   ]
  },
  {
   "cell_type": "code",
   "execution_count": 32,
   "metadata": {},
   "outputs": [],
   "source": [
    "df_events_sum = even_user[['CartScreenAppear','MainScreenAppear','OffersScreenAppear'\\\n",
    "                                                           ,'PaymentScreenSuccessful','Tutorial']].sum().reset_index()\n",
    "\n",
    "df_events_sum.columns = ['event', 'count']\n",
    "df_events_sum = df_events_sum.set_index('event')"
   ]
  },
  {
   "cell_type": "code",
   "execution_count": 33,
   "metadata": {},
   "outputs": [
    {
     "name": "stdout",
     "output_type": "stream",
     "text": [
      "Количество событий\n",
      "                          count\n",
      "event                          \n",
      "Tutorial                  840.0\n",
      "PaymentScreenSuccessful  3539.0\n",
      "CartScreenAppear         3734.0\n",
      "OffersScreenAppear       4593.0\n",
      "MainScreenAppear         7419.0\n"
     ]
    },
    {
     "data": {
      "image/png": "[encoded data removed]",
      "text/plain": [
       "<Figure size 432x288 with 1 Axes>"
      ]
     },
     "metadata": {
      "needs_background": "light"
     },
     "output_type": "display_data"
    }
   ],
   "source": [
    "title_n = 'График по количеству видов событий  в разрезе уникальных пользвателей'\n",
    "df_events_sum = df_events_sum.sort_values('count', ascending = True)\n",
    "\n",
    "print('Количество событий')\n",
    "print(df_events_sum)\n",
    "df_events_sum.plot(kind='barh', title = title_n, grid = True);"
   ]
  },
  {
   "cell_type": "code",
   "execution_count": 34,
   "metadata": {},
   "outputs": [],
   "source": [
    "# Функция которая узнает прошел ли все события пользвоатель или нет\n",
    "def all_event(row):\n",
    "    \n",
    "    CartScreenAppear = row['CartScreenAppear']\n",
    "    MainScreenAppear = row['MainScreenAppear']\n",
    "    OffersScreenAppear = row['OffersScreenAppear']\n",
    "    PaymentScreenSuccessful = row['PaymentScreenSuccessful']\n",
    "    Tutorial = row['Tutorial']\n",
    "    \n",
    "    if CartScreenAppear > 0 and\\\n",
    "        MainScreenAppear > 0 and\\\n",
    "            OffersScreenAppear > 0 and\\\n",
    "                PaymentScreenSuccessful > 0 and\\\n",
    "                    Tutorial > 0:\n",
    "        return True\n",
    "    \n",
    "    else:\n",
    "        \n",
    "        return False"
   ]
  },
  {
   "cell_type": "code",
   "execution_count": 35,
   "metadata": {},
   "outputs": [],
   "source": [
    "# Вычисляет было ли хотябы одно событие\n",
    "def just_one_event(row):\n",
    "    \n",
    "    CartScreenAppear = row['CartScreenAppear']\n",
    "    MainScreenAppear = row['MainScreenAppear']\n",
    "    OffersScreenAppear = row['OffersScreenAppear']\n",
    "    PaymentScreenSuccessful = row['PaymentScreenSuccessful']\n",
    "    Tutorial = row['Tutorial']\n",
    "    \n",
    "    event = CartScreenAppear + MainScreenAppear + OffersScreenAppear + PaymentScreenSuccessful + Tutorial\n",
    "    \n",
    "    if event == 1:\n",
    "        return 1\n",
    "    else:\n",
    "        return 0"
   ]
  },
  {
   "cell_type": "code",
   "execution_count": 36,
   "metadata": {},
   "outputs": [],
   "source": [
    "# Делаем цифру для того чтобы сравнивать датафреймы (просто плюсуем важные для нас события)\n",
    "def sum_event(row):\n",
    "    \n",
    "    CartScreenAppear = row['CartScreenAppear']\n",
    "    MainScreenAppear = row['MainScreenAppear']\n",
    "    OffersScreenAppear = row['OffersScreenAppear']\n",
    "    PaymentScreenSuccessful = row['PaymentScreenSuccessful']\n",
    "    Tutorial = row['Tutorial']\n",
    "    \n",
    "    event = CartScreenAppear + MainScreenAppear + OffersScreenAppear + PaymentScreenSuccessful\n",
    "    \n",
    "    if event == 1:\n",
    "        return 1\n",
    "    else:\n",
    "        return 0"
   ]
  },
  {
   "cell_type": "code",
   "execution_count": 37,
   "metadata": {},
   "outputs": [
    {
     "name": "stdout",
     "output_type": "stream",
     "text": [
      "Число пользователей совершивших хотябы одно событие : 2717\n"
     ]
    }
   ],
   "source": [
    "even_user['all_event'] = even_user.apply(all_event, axis=1)\n",
    "even_user['just_one_event'] = even_user.apply(just_one_event, axis=1)\n",
    "even_user['sum_event'] = even_user.apply(just_one_event, axis=1)\n",
    "even_user_all = even_user.query('just_one_event == 1')\n",
    "one_even_id = even_user_all.count()[0]\n",
    "print(f'Число пользователей совершивших хотябы одно событие : {one_even_id}')"
   ]
  },
  {
   "cell_type": "code",
   "execution_count": 38,
   "metadata": {},
   "outputs": [
    {
     "data": {
      "image/png": "[encoded data removed]",
      "text/plain": [
       "<Figure size 432x288 with 1 Axes>"
      ]
     },
     "metadata": {},
     "output_type": "display_data"
    }
   ],
   "source": [
    "size = list(even_user['just_one_event'].value_counts().reset_index()['just_one_event'])\n",
    "colors = ['yellow', 'green']\n",
    "labels = \"Совершившие более одного события\", \"Совершившие только одно событие\"\n",
    "explode = [0, 0.2]\n",
    "\n",
    "plt.pie(size, colors = colors, labels = labels, autopct = '%.2f%%', explode = explode, shadow = True)\n",
    "plt.legend()\n",
    "plt.show()"
   ]
  },
  {
   "cell_type": "markdown",
   "metadata": {},
   "source": [
    "## Последовательность событий"
   ]
  },
  {
   "cell_type": "markdown",
   "metadata": {},
   "source": [
    "Если события последовательны, то для того чтобы предположить их последовательность достаточно взглянуть на гистограммы построенные выше. Очередность их идет по убыванию, и только для одного события можно сказать, что оно выходит и из этого графика - это tutorial. Если даже довереться переводу это это \"руководство по эксплуатиции\" которое скорее всего вызывается только в том случае когда человек не разобрался как ему рабоать с данной страницой или приложением."
   ]
  },
  {
   "cell_type": "code",
   "execution_count": 39,
   "metadata": {},
   "outputs": [
    {
     "data": {
      "image/png": "[encoded data removed]",
      "text/plain": [
       "<Figure size 432x288 with 1 Axes>"
      ]
     },
     "metadata": {
      "needs_background": "light"
     },
     "output_type": "display_data"
    }
   ],
   "source": [
    "# Воронка событий количественному событию на пользователя\n",
    "title_n = \"Воронка событий\"\n",
    "df_events_sum.plot(kind='barh', title = title_n, grid = True);"
   ]
  },
  {
   "cell_type": "markdown",
   "metadata": {},
   "source": [
    "Предположите, в какой последовательности события происходят в приложении. Все ли события выстраиваются в последовательную цепочку? Их не нужно учитывать при расчёте воронки."
   ]
  },
  {
   "cell_type": "code",
   "execution_count": 40,
   "metadata": {},
   "outputs": [
    {
     "data": {
      "text/html": [
       "<div>\n",
       "<style scoped>\n",
       "    .dataframe tbody tr th:only-of-type {\n",
       "        vertical-align: middle;\n",
       "    }\n",
       "\n",
       "    .dataframe tbody tr th {\n",
       "        vertical-align: top;\n",
       "    }\n",
       "\n",
       "    .dataframe thead th {\n",
       "        text-align: right;\n",
       "    }\n",
       "</style>\n",
       "<table border=\"1\" class=\"dataframe\">\n",
       "  <thead>\n",
       "    <tr style=\"text-align: right;\">\n",
       "      <th>event</th>\n",
       "      <th>id</th>\n",
       "      <th>date</th>\n",
       "      <th>time</th>\n",
       "      <th>MainScreenAppear</th>\n",
       "      <th>OffersScreenAppear</th>\n",
       "      <th>CartScreenAppear</th>\n",
       "      <th>PaymentScreenSuccessful</th>\n",
       "    </tr>\n",
       "  </thead>\n",
       "  <tbody>\n",
       "    <tr>\n",
       "      <th>0</th>\n",
       "      <td>1000608915523616548</td>\n",
       "      <td>2019-08-01</td>\n",
       "      <td>16:00:00</td>\n",
       "      <td>1.0</td>\n",
       "      <td>0.0</td>\n",
       "      <td>0.0</td>\n",
       "      <td>0.0</td>\n",
       "    </tr>\n",
       "    <tr>\n",
       "      <th>1</th>\n",
       "      <td>1000608915523616548</td>\n",
       "      <td>2019-08-07</td>\n",
       "      <td>16:00:00</td>\n",
       "      <td>1.0</td>\n",
       "      <td>1.0</td>\n",
       "      <td>0.0</td>\n",
       "      <td>0.0</td>\n",
       "    </tr>\n",
       "    <tr>\n",
       "      <th>2</th>\n",
       "      <td>100724994572555335</td>\n",
       "      <td>2019-08-05</td>\n",
       "      <td>16:00:00</td>\n",
       "      <td>1.0</td>\n",
       "      <td>0.0</td>\n",
       "      <td>0.0</td>\n",
       "      <td>0.0</td>\n",
       "    </tr>\n",
       "    <tr>\n",
       "      <th>3</th>\n",
       "      <td>1008242126838007188</td>\n",
       "      <td>2019-08-01</td>\n",
       "      <td>09:00:00</td>\n",
       "      <td>1.0</td>\n",
       "      <td>1.0</td>\n",
       "      <td>1.0</td>\n",
       "      <td>1.0</td>\n",
       "    </tr>\n",
       "    <tr>\n",
       "      <th>4</th>\n",
       "      <td>1008242126838007188</td>\n",
       "      <td>2019-08-02</td>\n",
       "      <td>07:00:00</td>\n",
       "      <td>1.0</td>\n",
       "      <td>1.0</td>\n",
       "      <td>1.0</td>\n",
       "      <td>1.0</td>\n",
       "    </tr>\n",
       "    <tr>\n",
       "      <th>5</th>\n",
       "      <td>1008242126838007188</td>\n",
       "      <td>2019-08-05</td>\n",
       "      <td>13:00:00</td>\n",
       "      <td>1.0</td>\n",
       "      <td>1.0</td>\n",
       "      <td>1.0</td>\n",
       "      <td>1.0</td>\n",
       "    </tr>\n",
       "    <tr>\n",
       "      <th>6</th>\n",
       "      <td>1009503747199967885</td>\n",
       "      <td>2019-08-04</td>\n",
       "      <td>16:00:00</td>\n",
       "      <td>1.0</td>\n",
       "      <td>1.0</td>\n",
       "      <td>0.0</td>\n",
       "      <td>0.0</td>\n",
       "    </tr>\n",
       "    <tr>\n",
       "      <th>7</th>\n",
       "      <td>1009503747199967885</td>\n",
       "      <td>2019-08-05</td>\n",
       "      <td>09:00:00</td>\n",
       "      <td>0.0</td>\n",
       "      <td>1.0</td>\n",
       "      <td>1.0</td>\n",
       "      <td>1.0</td>\n",
       "    </tr>\n",
       "    <tr>\n",
       "      <th>8</th>\n",
       "      <td>1009503747199967885</td>\n",
       "      <td>2019-08-05</td>\n",
       "      <td>10:00:00</td>\n",
       "      <td>0.0</td>\n",
       "      <td>1.0</td>\n",
       "      <td>0.0</td>\n",
       "      <td>0.0</td>\n",
       "    </tr>\n",
       "    <tr>\n",
       "      <th>9</th>\n",
       "      <td>1009503747199967885</td>\n",
       "      <td>2019-08-05</td>\n",
       "      <td>12:00:00</td>\n",
       "      <td>1.0</td>\n",
       "      <td>1.0</td>\n",
       "      <td>0.0</td>\n",
       "      <td>0.0</td>\n",
       "    </tr>\n",
       "  </tbody>\n",
       "</table>\n",
       "</div>"
      ],
      "text/plain": [
       "event                   id       date       time  MainScreenAppear  \\\n",
       "0      1000608915523616548 2019-08-01   16:00:00               1.0   \n",
       "1      1000608915523616548 2019-08-07   16:00:00               1.0   \n",
       "2       100724994572555335 2019-08-05   16:00:00               1.0   \n",
       "3      1008242126838007188 2019-08-01   09:00:00               1.0   \n",
       "4      1008242126838007188 2019-08-02   07:00:00               1.0   \n",
       "5      1008242126838007188 2019-08-05   13:00:00               1.0   \n",
       "6      1009503747199967885 2019-08-04   16:00:00               1.0   \n",
       "7      1009503747199967885 2019-08-05   09:00:00               0.0   \n",
       "8      1009503747199967885 2019-08-05   10:00:00               0.0   \n",
       "9      1009503747199967885 2019-08-05   12:00:00               1.0   \n",
       "\n",
       "event  OffersScreenAppear  CartScreenAppear  PaymentScreenSuccessful  \n",
       "0                     0.0               0.0                      0.0  \n",
       "1                     1.0               0.0                      0.0  \n",
       "2                     0.0               0.0                      0.0  \n",
       "3                     1.0               1.0                      1.0  \n",
       "4                     1.0               1.0                      1.0  \n",
       "5                     1.0               1.0                      1.0  \n",
       "6                     1.0               0.0                      0.0  \n",
       "7                     1.0               1.0                      1.0  \n",
       "8                     1.0               0.0                      0.0  \n",
       "9                     1.0               0.0                      0.0  "
      ]
     },
     "execution_count": 40,
     "metadata": {},
     "output_type": "execute_result"
    }
   ],
   "source": [
    "# Сформируем датасет в котором выделим для каждого пользователя действие и время в которое он его делал\n",
    "df_next_event = df.pivot_table(values='aggregate', index=['id','date', 'time'], columns = 'event')\\\n",
    "                                                                            .fillna(0).reset_index()\n",
    "\n",
    "\n",
    "# Выстроим воронку в сооттветствие с последовательностью в разрезе пользвоателя\n",
    "df_next_event = df_next_event[['id', 'date','time','MainScreenAppear','OffersScreenAppear', 'CartScreenAppear'\\\n",
    "                                                                                           , 'PaymentScreenSuccessful']]\n",
    "\n",
    "# Выведим первые 10 строк чтобы удостовериться\n",
    "df_next_event.head(10)"
   ]
  },
  {
   "cell_type": "markdown",
   "metadata": {},
   "source": [
    "## Доля пользвотелей которая переходит на следующий шаг по данным всего датасета"
   ]
  },
  {
   "cell_type": "markdown",
   "metadata": {},
   "source": [
    "Посчитаем конверсию для всего датасета по переходам на следующий значимый этап"
   ]
  },
  {
   "cell_type": "code",
   "execution_count": 41,
   "metadata": {},
   "outputs": [],
   "source": [
    "# Содадим функцию которая можно будет давать датасет в нужном нам формате а она будет считать конверсию по продвижению по \n",
    "# приложению\n",
    "\n",
    "def info_conv_step_by_step(df_fn):\n",
    "    \n",
    "    df_con = df_fn.pivot_table(values='aggregate', index='id', columns = 'event').fillna(0).reset_index()\n",
    "    df_con = df_con[['MainScreenAppear','OffersScreenAppear','CartScreenAppear','PaymentScreenSuccessful']]\n",
    "    df_con = df_con.sum().reset_index()\n",
    "    df_con.columns = ['event', 'count']\n",
    "    count_main = df_con.loc[df_con['event'] == 'MainScreenAppear']['count'].max()\n",
    "    count_offer = df_con.loc[df_con['event'] == 'OffersScreenAppear']['count'].max()\n",
    "    count_cart = df_con.loc[df_con['event'] == 'CartScreenAppear']['count'].max()\n",
    "    count_payment = df_con.loc[df_con['event'] == 'PaymentScreenSuccessful']['count'].max()\n",
    "    df_con['conv'] = 0\n",
    "    \n",
    "    df_con.loc[0, 'conv'] = 100\n",
    "    df_con.loc[1, 'conv'] = count_offer/count_main*100\n",
    "    df_con.loc[2, 'conv'] = count_cart/count_offer*100\n",
    "    df_con.loc[3, 'conv'] = count_payment/count_cart*100\n",
    "    df_con['conv'] = df_con['conv'].round(2)\n",
    "    \n",
    "    return df_con"
   ]
  },
  {
   "cell_type": "code",
   "execution_count": 42,
   "metadata": {},
   "outputs": [
    {
     "data": {
      "text/html": [
       "<div>\n",
       "<style scoped>\n",
       "    .dataframe tbody tr th:only-of-type {\n",
       "        vertical-align: middle;\n",
       "    }\n",
       "\n",
       "    .dataframe tbody tr th {\n",
       "        vertical-align: top;\n",
       "    }\n",
       "\n",
       "    .dataframe thead th {\n",
       "        text-align: right;\n",
       "    }\n",
       "</style>\n",
       "<table border=\"1\" class=\"dataframe\">\n",
       "  <thead>\n",
       "    <tr style=\"text-align: right;\">\n",
       "      <th></th>\n",
       "      <th>event</th>\n",
       "      <th>count</th>\n",
       "      <th>conv</th>\n",
       "    </tr>\n",
       "  </thead>\n",
       "  <tbody>\n",
       "    <tr>\n",
       "      <th>0</th>\n",
       "      <td>MainScreenAppear</td>\n",
       "      <td>7419.0</td>\n",
       "      <td>100.00</td>\n",
       "    </tr>\n",
       "    <tr>\n",
       "      <th>1</th>\n",
       "      <td>OffersScreenAppear</td>\n",
       "      <td>4593.0</td>\n",
       "      <td>61.91</td>\n",
       "    </tr>\n",
       "    <tr>\n",
       "      <th>2</th>\n",
       "      <td>CartScreenAppear</td>\n",
       "      <td>3734.0</td>\n",
       "      <td>81.30</td>\n",
       "    </tr>\n",
       "    <tr>\n",
       "      <th>3</th>\n",
       "      <td>PaymentScreenSuccessful</td>\n",
       "      <td>3539.0</td>\n",
       "      <td>94.78</td>\n",
       "    </tr>\n",
       "  </tbody>\n",
       "</table>\n",
       "</div>"
      ],
      "text/plain": [
       "                     event   count    conv\n",
       "0         MainScreenAppear  7419.0  100.00\n",
       "1       OffersScreenAppear  4593.0   61.91\n",
       "2         CartScreenAppear  3734.0   81.30\n",
       "3  PaymentScreenSuccessful  3539.0   94.78"
      ]
     },
     "execution_count": 42,
     "metadata": {},
     "output_type": "execute_result"
    }
   ],
   "source": [
    "# Посчитаем конверсию для общей таблицы\n",
    "df_con_all = info_conv_step_by_step(df)\n",
    "df_con_all"
   ]
  },
  {
   "cell_type": "markdown",
   "metadata": {},
   "source": [
    "Больше всего пользователей теряется на главном экране так как конвесия перехода с этого экрана составляет всего 40 процентов."
   ]
  },
  {
   "cell_type": "code",
   "execution_count": 43,
   "metadata": {},
   "outputs": [
    {
     "name": "stdout",
     "output_type": "stream",
     "text": [
      "Всего конверсия по пользователям которые заходят на главный экран и доходят до покупки составляет 47.7 %\n"
     ]
    }
   ],
   "source": [
    "# Конверся от первого к последнему экрану\n",
    "df_con = df.pivot_table(values='aggregate', index='id', columns = 'event').fillna(0).reset_index()\n",
    "df_con = df_con[['MainScreenAppear','OffersScreenAppear','CartScreenAppear','PaymentScreenSuccessful']]\n",
    "df_con = df_con.sum().reset_index()\n",
    "df_con.columns = ['event', 'count']\n",
    "count_payment = df_con.loc[df_con['event'] == 'PaymentScreenSuccessful']['count'].max()\n",
    "count_main = df_con.loc[df_con['event'] == 'MainScreenAppear']['count'].max()\n",
    "\n",
    "start_end = (count_payment/count_main*100).round(2)\n",
    "print(f'Всего конверсия по пользователям которые заходят на главный экран и доходят до покупки составляет {start_end} %')"
   ]
  },
  {
   "cell_type": "markdown",
   "metadata": {},
   "source": [
    "## Проверка гипотезы о равенстве двух контрольных групп 246 и 247"
   ]
  },
  {
   "cell_type": "markdown",
   "metadata": {},
   "source": [
    "Для того чтобы сравнить две группы я прибегнул к такому критерию: Для каждого уникального пользователя я выбрал проходил ли он хотябы один раз каждое из событий и обозначил это цифрой 1 для того чтобы сравнить их по одному массиву я сложил 4 основных события и в итоге в столбце должно остаться цифра от 0 до 4. По этой совокупности мы и будем сравнивать группы."
   ]
  },
  {
   "cell_type": "code",
   "execution_count": 44,
   "metadata": {},
   "outputs": [
    {
     "data": {
      "text/html": [
       "<div>\n",
       "<style scoped>\n",
       "    .dataframe tbody tr th:only-of-type {\n",
       "        vertical-align: middle;\n",
       "    }\n",
       "\n",
       "    .dataframe tbody tr th {\n",
       "        vertical-align: top;\n",
       "    }\n",
       "\n",
       "    .dataframe thead th {\n",
       "        text-align: right;\n",
       "    }\n",
       "</style>\n",
       "<table border=\"1\" class=\"dataframe\">\n",
       "  <thead>\n",
       "    <tr style=\"text-align: right;\">\n",
       "      <th>event</th>\n",
       "      <th>id</th>\n",
       "      <th>CartScreenAppear</th>\n",
       "      <th>MainScreenAppear</th>\n",
       "      <th>OffersScreenAppear</th>\n",
       "      <th>PaymentScreenSuccessful</th>\n",
       "      <th>Tutorial</th>\n",
       "      <th>all_event</th>\n",
       "      <th>just_one_event</th>\n",
       "      <th>sum_event</th>\n",
       "    </tr>\n",
       "  </thead>\n",
       "  <tbody>\n",
       "    <tr>\n",
       "      <th>0</th>\n",
       "      <td>1000608915523616548</td>\n",
       "      <td>0.0</td>\n",
       "      <td>1.0</td>\n",
       "      <td>1.0</td>\n",
       "      <td>0.0</td>\n",
       "      <td>0.0</td>\n",
       "      <td>False</td>\n",
       "      <td>0</td>\n",
       "      <td>0</td>\n",
       "    </tr>\n",
       "    <tr>\n",
       "      <th>1</th>\n",
       "      <td>100724994572555335</td>\n",
       "      <td>0.0</td>\n",
       "      <td>1.0</td>\n",
       "      <td>0.0</td>\n",
       "      <td>0.0</td>\n",
       "      <td>0.0</td>\n",
       "      <td>False</td>\n",
       "      <td>1</td>\n",
       "      <td>1</td>\n",
       "    </tr>\n",
       "    <tr>\n",
       "      <th>2</th>\n",
       "      <td>1008242126838007188</td>\n",
       "      <td>1.0</td>\n",
       "      <td>1.0</td>\n",
       "      <td>1.0</td>\n",
       "      <td>1.0</td>\n",
       "      <td>0.0</td>\n",
       "      <td>False</td>\n",
       "      <td>0</td>\n",
       "      <td>0</td>\n",
       "    </tr>\n",
       "    <tr>\n",
       "      <th>3</th>\n",
       "      <td>1009503747199967885</td>\n",
       "      <td>1.0</td>\n",
       "      <td>1.0</td>\n",
       "      <td>1.0</td>\n",
       "      <td>1.0</td>\n",
       "      <td>0.0</td>\n",
       "      <td>False</td>\n",
       "      <td>0</td>\n",
       "      <td>0</td>\n",
       "    </tr>\n",
       "    <tr>\n",
       "      <th>4</th>\n",
       "      <td>1009745980451513098</td>\n",
       "      <td>1.0</td>\n",
       "      <td>1.0</td>\n",
       "      <td>1.0</td>\n",
       "      <td>1.0</td>\n",
       "      <td>0.0</td>\n",
       "      <td>False</td>\n",
       "      <td>0</td>\n",
       "      <td>0</td>\n",
       "    </tr>\n",
       "  </tbody>\n",
       "</table>\n",
       "</div>"
      ],
      "text/plain": [
       "event                   id  CartScreenAppear  MainScreenAppear  \\\n",
       "0      1000608915523616548               0.0               1.0   \n",
       "1       100724994572555335               0.0               1.0   \n",
       "2      1008242126838007188               1.0               1.0   \n",
       "3      1009503747199967885               1.0               1.0   \n",
       "4      1009745980451513098               1.0               1.0   \n",
       "\n",
       "event  OffersScreenAppear  PaymentScreenSuccessful  Tutorial  all_event  \\\n",
       "0                     1.0                      0.0       0.0      False   \n",
       "1                     0.0                      0.0       0.0      False   \n",
       "2                     1.0                      1.0       0.0      False   \n",
       "3                     1.0                      1.0       0.0      False   \n",
       "4                     1.0                      1.0       0.0      False   \n",
       "\n",
       "event  just_one_event  sum_event  \n",
       "0                   0          0  \n",
       "1                   1          1  \n",
       "2                   0          0  \n",
       "3                   0          0  \n",
       "4                   0          0  "
      ]
     },
     "execution_count": 44,
     "metadata": {},
     "output_type": "execute_result"
    }
   ],
   "source": [
    "even_user.head()"
   ]
  },
  {
   "cell_type": "code",
   "execution_count": 45,
   "metadata": {},
   "outputs": [],
   "source": [
    "# возьмем пользователей которые учавствуют в выборке по трем группам\n",
    "list_is_246 = df_246[\"id\"].unique().tolist()\n",
    "list_is_247 = df_247[\"id\"].unique().tolist()\n",
    "list_is_248 = df_248[\"id\"].unique().tolist()"
   ]
  },
  {
   "cell_type": "code",
   "execution_count": 46,
   "metadata": {},
   "outputs": [
    {
     "data": {
      "text/plain": [
       "0"
      ]
     },
     "execution_count": 46,
     "metadata": {},
     "output_type": "execute_result"
    }
   ],
   "source": [
    "# Посмотрим пересечения в группах, чтобы в две контрольные группы не попали одинкаовые пользователи\n",
    "c = list(set(list_is_246) & set(list_is_247))\n",
    "len(c)"
   ]
  },
  {
   "cell_type": "code",
   "execution_count": 47,
   "metadata": {},
   "outputs": [],
   "source": [
    "# Сделаем три таблицы из выборок групп 246 247 248\n",
    "even_user_246 = even_user.query('id in @list_is_246')\n",
    "even_user_247 = even_user.query('id in @list_is_247')\n",
    "even_user_248 = even_user.query('id in @list_is_248')"
   ]
  },
  {
   "cell_type": "markdown",
   "metadata": {},
   "source": [
    "##### Нулевая гипотеза: Две контрольные группы 246 и 247 равнозначны по действиям пользователей"
   ]
  },
  {
   "cell_type": "code",
   "execution_count": 48,
   "metadata": {
    "scrolled": true
   },
   "outputs": [
    {
     "name": "stdout",
     "output_type": "stream",
     "text": [
      "p-значение: 1.0\n",
      "Не получилось отвергнуть нулевую гипотезу\n"
     ]
    }
   ],
   "source": [
    "# Пояснения к методике были приведены обзацем темы, в остальном обычная проверка с уровнем 0.05\n",
    "\n",
    "array_246 = even_user_246['sum_event'].tolist()\n",
    "array_247 = even_user_246['sum_event'].tolist()\n",
    "\n",
    "alpha_set = .05   # критический уровень статистической значимости\n",
    "                  # если p-value окажется меньше него - отвергнем гипотезу\n",
    "\n",
    "results = st.ttest_ind(\n",
    "    array_246, \n",
    "    array_247, equal_var = False)\n",
    "\n",
    "print('p-значение:', results.pvalue)\n",
    "\n",
    "if (results.pvalue < alpha_set):\n",
    "    print(\"Отвергаем нулевую гипотезу\")\n",
    "else:\n",
    "    print(\"Не получилось отвергнуть нулевую гипотезу\")"
   ]
  },
  {
   "cell_type": "markdown",
   "metadata": {},
   "source": [
    "Действительно, пользователи из этих двух групп ведут по составу событий одинаковы. т.е. две совокупности были на похожем количемстве событий датасета"
   ]
  },
  {
   "cell_type": "markdown",
   "metadata": {},
   "source": [
    "### Проверить могут ли быть статистические данные между группа достоверными"
   ]
  },
  {
   "cell_type": "markdown",
   "metadata": {},
   "source": [
    "Сперва построим таблицу конверсии по предъидущим этапам для двух контрольных групп. Очевидно, что самое популярное событие будет главный экран.\n",
    "\n",
    "Из таблиц конверсии и числу пользователей которые видели конкретное событие мы можем сказать, что выборки очень похожи и для того чтобы выявить в них статистическую разницу во-первых снизим показатель статиситеческой значимости до 1%. и тут есть Разделение для выяснения равенства групп мы можем датасеты подготовить поразному: с всеми событиями, когда один пользователь заходил на главный экран 30 раз и дальше не проходил или по факту когда в разрезе пользователь и сколько экранов видел этот пользователь. Более правильным мне кажется второй вариант так как он ближе к сути бизнеса а именно когда n-ое количество человек дошло до экрана опралаты и не имеет значения сколько раз до этого он сомотрел на главный экран.  Первый вариант тоже не лишен смысла если мы хотим провести более подробное исследование поведенческих патернов аудитории и как можно скоротать время прохождения человека между экранами к самому главному - с оплатой. Но для второго исследования потребуется больше данных для выясненния причин почему человек часто заходит на главную но не продвигается дальше."
   ]
  },
  {
   "cell_type": "markdown",
   "metadata": {},
   "source": [
    "##### Конверсия для контрольной группы 246"
   ]
  },
  {
   "cell_type": "code",
   "execution_count": 49,
   "metadata": {
    "scrolled": true
   },
   "outputs": [
    {
     "data": {
      "text/html": [
       "<div>\n",
       "<style scoped>\n",
       "    .dataframe tbody tr th:only-of-type {\n",
       "        vertical-align: middle;\n",
       "    }\n",
       "\n",
       "    .dataframe tbody tr th {\n",
       "        vertical-align: top;\n",
       "    }\n",
       "\n",
       "    .dataframe thead th {\n",
       "        text-align: right;\n",
       "    }\n",
       "</style>\n",
       "<table border=\"1\" class=\"dataframe\">\n",
       "  <thead>\n",
       "    <tr style=\"text-align: right;\">\n",
       "      <th></th>\n",
       "      <th>event</th>\n",
       "      <th>count</th>\n",
       "      <th>conv</th>\n",
       "    </tr>\n",
       "  </thead>\n",
       "  <tbody>\n",
       "    <tr>\n",
       "      <th>0</th>\n",
       "      <td>MainScreenAppear</td>\n",
       "      <td>2450.0</td>\n",
       "      <td>100.00</td>\n",
       "    </tr>\n",
       "    <tr>\n",
       "      <th>1</th>\n",
       "      <td>OffersScreenAppear</td>\n",
       "      <td>1542.0</td>\n",
       "      <td>62.94</td>\n",
       "    </tr>\n",
       "    <tr>\n",
       "      <th>2</th>\n",
       "      <td>CartScreenAppear</td>\n",
       "      <td>1266.0</td>\n",
       "      <td>82.10</td>\n",
       "    </tr>\n",
       "    <tr>\n",
       "      <th>3</th>\n",
       "      <td>PaymentScreenSuccessful</td>\n",
       "      <td>1200.0</td>\n",
       "      <td>94.79</td>\n",
       "    </tr>\n",
       "  </tbody>\n",
       "</table>\n",
       "</div>"
      ],
      "text/plain": [
       "                     event   count    conv\n",
       "0         MainScreenAppear  2450.0  100.00\n",
       "1       OffersScreenAppear  1542.0   62.94\n",
       "2         CartScreenAppear  1266.0   82.10\n",
       "3  PaymentScreenSuccessful  1200.0   94.79"
      ]
     },
     "execution_count": 49,
     "metadata": {},
     "output_type": "execute_result"
    }
   ],
   "source": [
    "df_con_246 = info_conv_step_by_step(df_246)\n",
    "df_con_246"
   ]
  },
  {
   "cell_type": "markdown",
   "metadata": {},
   "source": [
    "##### Конверсия для контрольной группы 247"
   ]
  },
  {
   "cell_type": "code",
   "execution_count": 50,
   "metadata": {
    "scrolled": true
   },
   "outputs": [
    {
     "data": {
      "text/html": [
       "<div>\n",
       "<style scoped>\n",
       "    .dataframe tbody tr th:only-of-type {\n",
       "        vertical-align: middle;\n",
       "    }\n",
       "\n",
       "    .dataframe tbody tr th {\n",
       "        vertical-align: top;\n",
       "    }\n",
       "\n",
       "    .dataframe thead th {\n",
       "        text-align: right;\n",
       "    }\n",
       "</style>\n",
       "<table border=\"1\" class=\"dataframe\">\n",
       "  <thead>\n",
       "    <tr style=\"text-align: right;\">\n",
       "      <th></th>\n",
       "      <th>event</th>\n",
       "      <th>count</th>\n",
       "      <th>conv</th>\n",
       "    </tr>\n",
       "  </thead>\n",
       "  <tbody>\n",
       "    <tr>\n",
       "      <th>0</th>\n",
       "      <td>MainScreenAppear</td>\n",
       "      <td>2476.0</td>\n",
       "      <td>100.00</td>\n",
       "    </tr>\n",
       "    <tr>\n",
       "      <th>1</th>\n",
       "      <td>OffersScreenAppear</td>\n",
       "      <td>1520.0</td>\n",
       "      <td>61.39</td>\n",
       "    </tr>\n",
       "    <tr>\n",
       "      <th>2</th>\n",
       "      <td>CartScreenAppear</td>\n",
       "      <td>1238.0</td>\n",
       "      <td>81.45</td>\n",
       "    </tr>\n",
       "    <tr>\n",
       "      <th>3</th>\n",
       "      <td>PaymentScreenSuccessful</td>\n",
       "      <td>1158.0</td>\n",
       "      <td>93.54</td>\n",
       "    </tr>\n",
       "  </tbody>\n",
       "</table>\n",
       "</div>"
      ],
      "text/plain": [
       "                     event   count    conv\n",
       "0         MainScreenAppear  2476.0  100.00\n",
       "1       OffersScreenAppear  1520.0   61.39\n",
       "2         CartScreenAppear  1238.0   81.45\n",
       "3  PaymentScreenSuccessful  1158.0   93.54"
      ]
     },
     "execution_count": 50,
     "metadata": {},
     "output_type": "execute_result"
    }
   ],
   "source": [
    "df_con_247 = info_conv_step_by_step(df_247)\n",
    "df_con_247"
   ]
  },
  {
   "cell_type": "markdown",
   "metadata": {},
   "source": [
    "### Проверка гипотез"
   ]
  },
  {
   "cell_type": "markdown",
   "metadata": {},
   "source": [
    "Мы будем сравнивать группы по всем событиям отдельно и для этого напишим функцию а так как результат статистической значимости мы приняли за 0.1 то n-ое количество одного и того же эксперимента может привести к разным результатам."
   ]
  },
  {
   "cell_type": "markdown",
   "metadata": {},
   "source": [
    "##### Нулевая гипотеза: Выборки 246 и 247 по каждому событию равны"
   ]
  },
  {
   "cell_type": "code",
   "execution_count": 51,
   "metadata": {},
   "outputs": [],
   "source": [
    "def make_array_great_again(ar):\n",
    "    \n",
    "    array = ar.tolist()\n",
    "    \n",
    "    return array  "
   ]
  },
  {
   "cell_type": "code",
   "execution_count": 52,
   "metadata": {},
   "outputs": [],
   "source": [
    "def check_statistic_important(ar_1,ar_2,alfa):\n",
    "    \n",
    "    array_1 = make_array_great_again(ar_1)\n",
    "    array_2 = make_array_great_again(ar_2)\n",
    "    \n",
    "    alpha_set = alfa   # критический уровень статистической значимости\n",
    "                       # если p-value окажется меньше него - отвергнем гипотезу\n",
    "    \n",
    "    results = st.ttest_ind(\n",
    "        array_1, \n",
    "        array_2, equal_var = False)\n",
    "    \n",
    "    print('p-значение:', results.pvalue)\n",
    "    \n",
    "    if (results.pvalue < alpha_set):\n",
    "        print(\"Отвергаем нулевую гипотезу\")\n",
    "    else:\n",
    "        print(\"Не получилось отвергнуть нулевую гипотезу\")"
   ]
  },
  {
   "cell_type": "code",
   "execution_count": 53,
   "metadata": {},
   "outputs": [
    {
     "name": "stdout",
     "output_type": "stream",
     "text": [
      "p-значение: 0.7570684016388866\n",
      "Не получилось отвергнуть нулевую гипотезу\n",
      "p-значение: 0.24816145871804243\n",
      "Не получилось отвергнуть нулевую гипотезу\n",
      "p-значение: 0.2289162655301648\n",
      "Не получилось отвергнуть нулевую гипотезу\n",
      "p-значение: 0.11461763081212137\n",
      "Не получилось отвергнуть нулевую гипотезу\n"
     ]
    }
   ],
   "source": [
    "check_statistic_important(even_user_246['MainScreenAppear'],even_user_247['MainScreenAppear'],.01)\n",
    "check_statistic_important(even_user_246['OffersScreenAppear'],even_user_247['OffersScreenAppear'],.01)\n",
    "check_statistic_important(even_user_246['CartScreenAppear'],even_user_247['CartScreenAppear'],.01)\n",
    "check_statistic_important(even_user_246['PaymentScreenSuccessful'],even_user_247['PaymentScreenSuccessful'],.01)"
   ]
  },
  {
   "cell_type": "markdown",
   "metadata": {},
   "source": [
    "Несколько замеров дало одинковый результат, о чем можно сказать, что разница между выборками не более 1%. Статистическая значимость между группа ровна между собой. Хороший реультат для теста А/А"
   ]
  },
  {
   "cell_type": "markdown",
   "metadata": {},
   "source": [
    "## Аналагично проверим две контрольные группы с тестовой"
   ]
  },
  {
   "cell_type": "markdown",
   "metadata": {},
   "source": [
    "Сравним все три группы между собой "
   ]
  },
  {
   "cell_type": "code",
   "execution_count": 54,
   "metadata": {},
   "outputs": [],
   "source": [
    "def check_test_three_group(ar_1,ar_2,ar_3,alfa):\n",
    "    \n",
    "        sample_246 = make_array_great_again(ar_1)\n",
    "        sample_247 = make_array_great_again(ar_2)\n",
    "        sample_248 = make_array_great_again(ar_3)\n",
    "        \n",
    "        alpha = alfa # критический уровень статистической значимости\n",
    "\n",
    "        results_246_247 = st.ttest_ind(\n",
    "            sample_246, \n",
    "            sample_247)\n",
    "\n",
    "        results_247_248 = st.ttest_ind(\n",
    "            sample_247, \n",
    "            sample_248)\n",
    "\n",
    "        results_246_248 = st.ttest_ind(\n",
    "            sample_246, \n",
    "            sample_248)\n",
    "\n",
    "        bonferroni_alpha = alpha / 3  # произведено три сравнения\n",
    "\n",
    "        print('p-значение для сравнения групп 246 и 247: ', results_246_247.pvalue)\n",
    "        print('p-значение для сравнения групп 247 и 248: ', results_247_248.pvalue)\n",
    "        print('p-значение для сравнения групп 246 и 248: ', results_246_248.pvalue)\n",
    "\n",
    "        if (results_246_247.pvalue < bonferroni_alpha):\n",
    "            print(\"Отвергаем нулевую гипотезу для сравнения групп 246 и 247\")\n",
    "        else:\n",
    "            print(\"Не получилось отвергнуть нулевую гипотезу для сравнения групп 246 и 247\")\n",
    "\n",
    "        if (results_247_248.pvalue < bonferroni_alpha):\n",
    "            print(\"Отвергаем нулевую гипотезу для сравнения групп 247 и 248\")\n",
    "        else:\n",
    "            print(\"Не получилось отвергнуть нулевую гипотезу для сравнения групп 247 и 248\")\n",
    "\n",
    "        if (results_246_248.pvalue < bonferroni_alpha):\n",
    "            print(\"Отвергаем нулевую гипотезу для сравнения групп 246 и 248\")\n",
    "        else:\n",
    "            print(\"Не получилось отвергнуть нулевую гипотезу для сравнения групп 246 и 248\")"
   ]
  },
  {
   "cell_type": "markdown",
   "metadata": {},
   "source": [
    "##### Нулевая гипотеза для всех групп: группы имееют одинаковую статестическую значимость."
   ]
  },
  {
   "cell_type": "code",
   "execution_count": 55,
   "metadata": {},
   "outputs": [
    {
     "name": "stdout",
     "output_type": "stream",
     "text": [
      "p-значение для сравнения групп 246 и 247:  0.7571174621103072\n",
      "p-значение для сравнения групп 247 и 248:  0.45880437959723175\n",
      "p-значение для сравнения групп 246 и 248:  0.29506606465679136\n",
      "Не получилось отвергнуть нулевую гипотезу для сравнения групп 246 и 247\n",
      "Не получилось отвергнуть нулевую гипотезу для сравнения групп 247 и 248\n",
      "Не получилось отвергнуть нулевую гипотезу для сравнения групп 246 и 248\n"
     ]
    }
   ],
   "source": [
    "check_test_three_group(even_user_246['MainScreenAppear']\\\n",
    "                       ,even_user_247['MainScreenAppear'],even_user_248['MainScreenAppear'],.05)    "
   ]
  },
  {
   "cell_type": "code",
   "execution_count": 56,
   "metadata": {},
   "outputs": [
    {
     "name": "stdout",
     "output_type": "stream",
     "text": [
      "p-значение для сравнения групп 246 и 247:  0.248182234448679\n",
      "p-значение для сравнения групп 247 и 248:  0.9198015341631126\n",
      "p-значение для сравнения групп 246 и 248:  0.20843948636199391\n",
      "Не получилось отвергнуть нулевую гипотезу для сравнения групп 246 и 247\n",
      "Не получилось отвергнуть нулевую гипотезу для сравнения групп 247 и 248\n",
      "Не получилось отвергнуть нулевую гипотезу для сравнения групп 246 и 248\n"
     ]
    }
   ],
   "source": [
    "check_test_three_group(even_user_246['OffersScreenAppear']\\\n",
    "                       ,even_user_247['OffersScreenAppear'],even_user_248['OffersScreenAppear'],.05)    "
   ]
  },
  {
   "cell_type": "code",
   "execution_count": 57,
   "metadata": {},
   "outputs": [
    {
     "name": "stdout",
     "output_type": "stream",
     "text": [
      "p-значение для сравнения групп 246 и 247:  0.22891646330485427\n",
      "p-значение для сравнения групп 247 и 248:  0.5787080147829398\n",
      "p-значение для сравнения групп 246 и 248:  0.07845751752267907\n",
      "Не получилось отвергнуть нулевую гипотезу для сравнения групп 246 и 247\n",
      "Не получилось отвергнуть нулевую гипотезу для сравнения групп 247 и 248\n",
      "Не получилось отвергнуть нулевую гипотезу для сравнения групп 246 и 248\n"
     ]
    }
   ],
   "source": [
    "check_test_three_group(even_user_246['CartScreenAppear']\\\n",
    "                       ,even_user_247['CartScreenAppear'],even_user_248['CartScreenAppear'],.05)   "
   ]
  },
  {
   "cell_type": "code",
   "execution_count": 58,
   "metadata": {},
   "outputs": [
    {
     "name": "stdout",
     "output_type": "stream",
     "text": [
      "p-значение для сравнения групп 246 и 247:  0.11461233163248476\n",
      "p-значение для сравнения групп 247 и 248:  0.7374027184332623\n",
      "p-значение для сравнения групп 246 и 248:  0.2123337471133262\n",
      "Не получилось отвергнуть нулевую гипотезу для сравнения групп 246 и 247\n",
      "Не получилось отвергнуть нулевую гипотезу для сравнения групп 247 и 248\n",
      "Не получилось отвергнуть нулевую гипотезу для сравнения групп 246 и 248\n"
     ]
    }
   ],
   "source": [
    "check_test_three_group(even_user_246['PaymentScreenSuccessful']\\\n",
    "                       ,even_user_247['PaymentScreenSuccessful'],even_user_248['PaymentScreenSuccessful'],.05)"
   ]
  },
  {
   "cell_type": "markdown",
   "metadata": {},
   "source": [
    "Я думал, что придется делать таблицу с числом отвергнутых и принятых гипотез но все показатели говорят, что пользователи одинаковы. Все 12 тестов показали приоритет нулевой гипотезы."
   ]
  },
  {
   "cell_type": "markdown",
   "metadata": {},
   "source": [
    "### Сравним результаты с объединенной контрольной группой."
   ]
  },
  {
   "cell_type": "code",
   "execution_count": 59,
   "metadata": {},
   "outputs": [
    {
     "data": {
      "text/html": [
       "<div>\n",
       "<style scoped>\n",
       "    .dataframe tbody tr th:only-of-type {\n",
       "        vertical-align: middle;\n",
       "    }\n",
       "\n",
       "    .dataframe tbody tr th {\n",
       "        vertical-align: top;\n",
       "    }\n",
       "\n",
       "    .dataframe thead th {\n",
       "        text-align: right;\n",
       "    }\n",
       "</style>\n",
       "<table border=\"1\" class=\"dataframe\">\n",
       "  <thead>\n",
       "    <tr style=\"text-align: right;\">\n",
       "      <th>event</th>\n",
       "      <th>id</th>\n",
       "      <th>CartScreenAppear</th>\n",
       "      <th>MainScreenAppear</th>\n",
       "      <th>OffersScreenAppear</th>\n",
       "      <th>PaymentScreenSuccessful</th>\n",
       "      <th>Tutorial</th>\n",
       "      <th>all_event</th>\n",
       "      <th>just_one_event</th>\n",
       "      <th>sum_event</th>\n",
       "    </tr>\n",
       "  </thead>\n",
       "  <tbody>\n",
       "    <tr>\n",
       "      <th>0</th>\n",
       "      <td>1000608915523616548</td>\n",
       "      <td>0.0</td>\n",
       "      <td>1.0</td>\n",
       "      <td>1.0</td>\n",
       "      <td>0.0</td>\n",
       "      <td>0.0</td>\n",
       "      <td>False</td>\n",
       "      <td>0</td>\n",
       "      <td>0</td>\n",
       "    </tr>\n",
       "    <tr>\n",
       "      <th>1</th>\n",
       "      <td>100724994572555335</td>\n",
       "      <td>0.0</td>\n",
       "      <td>1.0</td>\n",
       "      <td>0.0</td>\n",
       "      <td>0.0</td>\n",
       "      <td>0.0</td>\n",
       "      <td>False</td>\n",
       "      <td>1</td>\n",
       "      <td>1</td>\n",
       "    </tr>\n",
       "    <tr>\n",
       "      <th>2</th>\n",
       "      <td>1008242126838007188</td>\n",
       "      <td>1.0</td>\n",
       "      <td>1.0</td>\n",
       "      <td>1.0</td>\n",
       "      <td>1.0</td>\n",
       "      <td>0.0</td>\n",
       "      <td>False</td>\n",
       "      <td>0</td>\n",
       "      <td>0</td>\n",
       "    </tr>\n",
       "    <tr>\n",
       "      <th>5</th>\n",
       "      <td>1010439893181060015</td>\n",
       "      <td>0.0</td>\n",
       "      <td>1.0</td>\n",
       "      <td>0.0</td>\n",
       "      <td>0.0</td>\n",
       "      <td>0.0</td>\n",
       "      <td>False</td>\n",
       "      <td>1</td>\n",
       "      <td>1</td>\n",
       "    </tr>\n",
       "    <tr>\n",
       "      <th>6</th>\n",
       "      <td>1011982461038688201</td>\n",
       "      <td>1.0</td>\n",
       "      <td>1.0</td>\n",
       "      <td>1.0</td>\n",
       "      <td>1.0</td>\n",
       "      <td>0.0</td>\n",
       "      <td>False</td>\n",
       "      <td>0</td>\n",
       "      <td>0</td>\n",
       "    </tr>\n",
       "  </tbody>\n",
       "</table>\n",
       "</div>"
      ],
      "text/plain": [
       "event                   id  CartScreenAppear  MainScreenAppear  \\\n",
       "0      1000608915523616548               0.0               1.0   \n",
       "1       100724994572555335               0.0               1.0   \n",
       "2      1008242126838007188               1.0               1.0   \n",
       "5      1010439893181060015               0.0               1.0   \n",
       "6      1011982461038688201               1.0               1.0   \n",
       "\n",
       "event  OffersScreenAppear  PaymentScreenSuccessful  Tutorial  all_event  \\\n",
       "0                     1.0                      0.0       0.0      False   \n",
       "1                     0.0                      0.0       0.0      False   \n",
       "2                     1.0                      1.0       0.0      False   \n",
       "5                     0.0                      0.0       0.0      False   \n",
       "6                     1.0                      1.0       0.0      False   \n",
       "\n",
       "event  just_one_event  sum_event  \n",
       "0                   0          0  \n",
       "1                   1          1  \n",
       "2                   0          0  \n",
       "5                   1          1  \n",
       "6                   0          0  "
      ]
     },
     "execution_count": 59,
     "metadata": {},
     "output_type": "execute_result"
    }
   ],
   "source": [
    "all_list_test = list_is_246 + list_is_247\n",
    "even_user_246_247 = even_user.query('id in @all_list_test')\n",
    "even_user_246_247.head()"
   ]
  },
  {
   "cell_type": "markdown",
   "metadata": {},
   "source": [
    "##### Нулевая гипотеза: Выборки тестовой группы и объединенной контрольной равны."
   ]
  },
  {
   "cell_type": "code",
   "execution_count": 60,
   "metadata": {},
   "outputs": [
    {
     "name": "stdout",
     "output_type": "stream",
     "text": [
      "p-значение: 0.3097822989169634\n",
      "Не получилось отвергнуть нулевую гипотезу\n",
      "p-значение: 0.4349818070597422\n",
      "Не получилось отвергнуть нулевую гипотезу\n",
      "p-значение: 0.1817731027550196\n",
      "Не получилось отвергнуть нулевую гипотезу\n",
      "p-значение: 0.6004101464514461\n",
      "Не получилось отвергнуть нулевую гипотезу\n"
     ]
    }
   ],
   "source": [
    "check_statistic_important(even_user_248['MainScreenAppear'],even_user_246_247['MainScreenAppear'],.05)\n",
    "check_statistic_important(even_user_248['OffersScreenAppear'],even_user_246_247['OffersScreenAppear'],.05)\n",
    "check_statistic_important(even_user_248['CartScreenAppear'],even_user_246_247['CartScreenAppear'],.05)\n",
    "check_statistic_important(even_user_248['PaymentScreenSuccessful'],even_user_246_247['PaymentScreenSuccessful'],.05)"
   ]
  },
  {
   "cell_type": "markdown",
   "metadata": {},
   "source": [
    "В всех трех случаях не удалось опровергнуть нулевую гипотезу. Делаем вывод, что статистического отличия между выборками нет. Уровень статистической значимсти 0.05"
   ]
  },
  {
   "cell_type": "markdown",
   "metadata": {},
   "source": [
    "***Вывод:*** Для воронки продаж мобильного приложения было взято четыре основных события: главный экран, раздел предложений, корзина и экран успешной оплаты. Конверся показала, что самый плохой показатель между главным экраном и разделом предложений, дальше конверсия не падает меньше 20%. Можно обратить внимание на молую долю между корзиной и экраном оплаты. Эти же цифры и подтверждает доля человек которые сделали только одно событие и так как если они последовтельны очевидно, что это главный экран. Доля таких пользователей 39%. Для A/B теста который проходил в мобильном приложение было сделано 18 тестов. Нулевой гипотезой выдвигалась теория о статестическом равенстве выборок мжеду двумя контрольным игруппами и тестовой. Уровень статестической значимости был равен 0,05. Не одна гипотеза не показала отличия в выборках."
   ]
  }
 ],
 "metadata": {
  "kernelspec": {
   "display_name": "Python 3",
   "language": "python",
   "name": "python3"
  },
  "language_info": {
   "codemirror_mode": {
    "name": "ipython",
    "version": 3
   },
   "file_extension": ".py",
   "mimetype": "text/x-python",
   "name": "python",
   "nbconvert_exporter": "python",
   "pygments_lexer": "ipython3",
   "version": "3.7.6"
  }
 },
 "nbformat": 4,
 "nbformat_minor": 4
}
