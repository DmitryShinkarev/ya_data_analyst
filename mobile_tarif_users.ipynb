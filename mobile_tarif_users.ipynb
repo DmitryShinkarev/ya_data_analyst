{
 "cells": [
  {
   "cell_type": "markdown",
   "metadata": {},
   "source": [
    "# Исследование поведения пользователей разных тарифов сотового оператора"
   ]
  },
  {
   "cell_type": "markdown",
   "metadata": {},
   "source": [
    "### Подготовка данных"
   ]
  },
  {
   "cell_type": "markdown",
   "metadata": {},
   "source": [
    "Загрузим нужные библиотеки и посмотрим на данные. Сразу снизу запишу на какие вопросы предстоит ответить заказчику на первом этапе.\n",
    "\n",
    "    * количество сделанных звонков и израсходованных минут разговора по месяцам;\n",
    "    * количество отправленных сообщений по месяцам;\n",
    "    * объем израсходованного интернет-трафика по месяцам;\n",
    "    * помесячную выручку с каждого пользователя (вычтите бесплатный лимит из суммарного количества звонков, сообщений и    интернет-трафика; остаток умножьте на значение из тарифного плана).\n",
    "    * Найдите и удалите выбросы. Поясните, по какому принципу вы их искали."
   ]
  },
  {
   "cell_type": "code",
   "execution_count": 10,
   "metadata": {},
   "outputs": [],
   "source": [
    "import ast\n",
    "import math\n",
    "import warnings\n",
    "import sys\n",
    "import datetime\n",
    "\n",
    "\n",
    "import pandas as pd\n",
    "import numpy as np\n",
    "\n",
    "\n",
    "\n",
    "    \n",
    "# импортируем графические модули\n",
    "import matplotlib.pyplot as plt\n",
    "import matplotlib.ticker as mtick\n",
    "\n",
    "from matplotlib.dates import (YEARLY, DateFormatter,\n",
    "                              rrulewrapper, RRuleLocator, drange)\n",
    "\n",
    "from datetime import datetime\n",
    "from scipy import stats as st"
   ]
  },
  {
   "cell_type": "code",
   "execution_count": 11,
   "metadata": {},
   "outputs": [],
   "source": [
    "df_calls = pd.read_csv('/datasets/calls.csv')\n",
    "df_int = pd.read_csv('/datasets/internet.csv')\n",
    "df_mess = pd.read_csv('/datasets/messages.csv')\n",
    "df_tar = pd.read_csv('/datasets/tariffs.csv')\n",
    "df_users = pd.read_csv('/datasets/users.csv')"
   ]
  },
  {
   "cell_type": "markdown",
   "metadata": {},
   "source": [
    "Посмотрим, что внутри данных\n",
    "    * как выглядят\n",
    "    * есть ли nan\n",
    "    * какие типы"
   ]
  },
  {
   "cell_type": "code",
   "execution_count": 12,
   "metadata": {},
   "outputs": [
    {
     "name": "stdout",
     "output_type": "stream",
     "text": [
      "       id   call_date  duration  user_id\n",
      "0  1000_0  2018-07-25      0.00     1000\n",
      "1  1000_1  2018-08-17      0.00     1000\n",
      "2  1000_2  2018-06-11      2.85     1000\n",
      "3  1000_3  2018-09-21     13.80     1000\n",
      "4  1000_4  2018-12-15      5.18     1000\n",
      "<class 'pandas.core.frame.DataFrame'>\n",
      "RangeIndex: 202607 entries, 0 to 202606\n",
      "Data columns (total 4 columns):\n",
      "id           202607 non-null object\n",
      "call_date    202607 non-null object\n",
      "duration     202607 non-null float64\n",
      "user_id      202607 non-null int64\n",
      "dtypes: float64(1), int64(1), object(2)\n",
      "memory usage: 6.2+ MB\n",
      "None\n",
      "id           0\n",
      "call_date    0\n",
      "duration     0\n",
      "user_id      0\n",
      "dtype: int64\n",
      "count    202607.000000\n",
      "mean          6.755887\n",
      "std           5.843365\n",
      "min           0.000000\n",
      "25%           1.300000\n",
      "50%           6.000000\n",
      "75%          10.700000\n",
      "max          38.000000\n",
      "Name: duration, dtype: float64\n"
     ]
    }
   ],
   "source": [
    "print(df_calls.head())\n",
    "print(df_calls.info())\n",
    "print(df_calls.isnull().sum())\n",
    "print(df_calls['duration'].describe())"
   ]
  },
  {
   "cell_type": "markdown",
   "metadata": {},
   "source": [
    "nan нет! Проверим на выбросы."
   ]
  },
  {
   "cell_type": "code",
   "execution_count": 13,
   "metadata": {},
   "outputs": [
    {
     "name": "stdout",
     "output_type": "stream",
     "text": [
      "count    202607.000000\n",
      "mean          6.755887\n",
      "std           5.843365\n",
      "min           0.000000\n",
      "25%           1.300000\n",
      "50%           6.000000\n",
      "75%          10.700000\n",
      "max          38.000000\n",
      "Name: duration, dtype: float64\n"
     ]
    },
    {
     "data": {
      "image/png": "[encoded data removed]",
      "text/plain": [
       "<Figure size 432x288 with 1 Axes>"
      ]
     },
     "metadata": {
      "needs_background": "light"
     },
     "output_type": "display_data"
    }
   ],
   "source": [
    "df_calls['duration'].hist(bins = 50)\n",
    "print(df_calls['duration'].describe())"
   ]
  },
  {
   "cell_type": "markdown",
   "metadata": {},
   "source": [
    "Есть выброс. природа пока не ясна. Просто возьмем на заметку."
   ]
  },
  {
   "cell_type": "markdown",
   "metadata": {},
   "source": [
    "#### Таблица траффика"
   ]
  },
  {
   "cell_type": "code",
   "execution_count": 14,
   "metadata": {},
   "outputs": [
    {
     "name": "stdout",
     "output_type": "stream",
     "text": [
      "       id  mb_used session_date  user_id\n",
      "0  1000_0   112.95   2018-11-25     1000\n",
      "1  1000_1  1052.81   2018-09-07     1000\n",
      "2  1000_2  1197.26   2018-06-25     1000\n",
      "3  1000_3   550.27   2018-08-22     1000\n",
      "4  1000_4   302.56   2018-09-24     1000\n",
      "<class 'pandas.core.frame.DataFrame'>\n",
      "RangeIndex: 149396 entries, 0 to 149395\n",
      "Data columns (total 4 columns):\n",
      "id              149396 non-null object\n",
      "mb_used         149396 non-null float64\n",
      "session_date    149396 non-null object\n",
      "user_id         149396 non-null int64\n",
      "dtypes: float64(1), int64(1), object(2)\n",
      "memory usage: 4.6+ MB\n",
      "None\n",
      "id              0\n",
      "mb_used         0\n",
      "session_date    0\n",
      "user_id         0\n",
      "dtype: int64\n"
     ]
    }
   ],
   "source": [
    "print(df_int.head())\n",
    "print(df_int.info())\n",
    "print(df_int.isnull().sum())"
   ]
  },
  {
   "cell_type": "code",
   "execution_count": 15,
   "metadata": {},
   "outputs": [
    {
     "name": "stdout",
     "output_type": "stream",
     "text": [
      "count    149396.000000\n",
      "mean        370.192426\n",
      "std         278.300951\n",
      "min           0.000000\n",
      "25%         138.187500\n",
      "50%         348.015000\n",
      "75%         559.552500\n",
      "max        1724.830000\n",
      "Name: mb_used, dtype: float64\n"
     ]
    },
    {
     "data": {
      "image/png": "[encoded data removed]",
      "text/plain": [
       "<Figure size 432x288 with 1 Axes>"
      ]
     },
     "metadata": {
      "needs_background": "light"
     },
     "output_type": "display_data"
    }
   ],
   "source": [
    "df_int['mb_used'].hist(bins = 50)\n",
    "print(df_int['mb_used'].describe())"
   ]
  },
  {
   "cell_type": "markdown",
   "metadata": {},
   "source": [
    "#### Таблица сообщений отправленных пользователемя"
   ]
  },
  {
   "cell_type": "code",
   "execution_count": 16,
   "metadata": {},
   "outputs": [
    {
     "name": "stdout",
     "output_type": "stream",
     "text": [
      "       id message_date  user_id\n",
      "0  1000_0   2018-06-27     1000\n",
      "1  1000_1   2018-10-08     1000\n",
      "2  1000_2   2018-08-04     1000\n",
      "3  1000_3   2018-06-16     1000\n",
      "4  1000_4   2018-12-05     1000\n",
      "<class 'pandas.core.frame.DataFrame'>\n",
      "RangeIndex: 123036 entries, 0 to 123035\n",
      "Data columns (total 3 columns):\n",
      "id              123036 non-null object\n",
      "message_date    123036 non-null object\n",
      "user_id         123036 non-null int64\n",
      "dtypes: int64(1), object(2)\n",
      "memory usage: 2.8+ MB\n",
      "None\n",
      "id              0\n",
      "message_date    0\n",
      "user_id         0\n",
      "dtype: int64\n"
     ]
    }
   ],
   "source": [
    "print(df_mess.head())\n",
    "print(df_mess.info())\n",
    "print(df_mess.isnull().sum())"
   ]
  },
  {
   "cell_type": "markdown",
   "metadata": {},
   "source": [
    "Таблица и таблица пока ничего конкретного сказать нельзя. Будем смотреть дальше."
   ]
  },
  {
   "cell_type": "markdown",
   "metadata": {},
   "source": [
    "#### Таблица пользователей тарифов"
   ]
  },
  {
   "cell_type": "code",
   "execution_count": 17,
   "metadata": {},
   "outputs": [
    {
     "name": "stdout",
     "output_type": "stream",
     "text": [
      "   user_id  age churn_date         city first_name  last_name    reg_date  \\\n",
      "0     1000   52        NaN    Краснодар     Рафаил  Верещагин  2018-05-25   \n",
      "1     1001   41        NaN       Москва       Иван       Ежов  2018-11-01   \n",
      "2     1002   59        NaN  Стерлитамак    Евгений  Абрамович  2018-06-17   \n",
      "3     1003   23        NaN       Москва      Белла   Белякова  2018-08-17   \n",
      "4     1004   68        NaN  Новокузнецк    Татьяна   Авдеенко  2018-05-14   \n",
      "\n",
      "  tariff  \n",
      "0  ultra  \n",
      "1  smart  \n",
      "2  smart  \n",
      "3  ultra  \n",
      "4  ultra  \n",
      "<class 'pandas.core.frame.DataFrame'>\n",
      "RangeIndex: 500 entries, 0 to 499\n",
      "Data columns (total 8 columns):\n",
      "user_id       500 non-null int64\n",
      "age           500 non-null int64\n",
      "churn_date    38 non-null object\n",
      "city          500 non-null object\n",
      "first_name    500 non-null object\n",
      "last_name     500 non-null object\n",
      "reg_date      500 non-null object\n",
      "tariff        500 non-null object\n",
      "dtypes: int64(2), object(6)\n",
      "memory usage: 31.3+ KB\n",
      "None\n",
      "user_id         0\n",
      "age             0\n",
      "churn_date    462\n",
      "city            0\n",
      "first_name      0\n",
      "last_name       0\n",
      "reg_date        0\n",
      "tariff          0\n",
      "dtype: int64\n"
     ]
    }
   ],
   "source": [
    "print(df_users.head())\n",
    "print(df_users.info())\n",
    "print(df_users.isnull().sum())"
   ]
  },
  {
   "cell_type": "code",
   "execution_count": 18,
   "metadata": {},
   "outputs": [
    {
     "name": "stdout",
     "output_type": "stream",
     "text": [
      "count    500.00000\n",
      "mean      46.58800\n",
      "std       16.66763\n",
      "min       18.00000\n",
      "25%       32.00000\n",
      "50%       46.00000\n",
      "75%       62.00000\n",
      "max       75.00000\n",
      "Name: age, dtype: float64\n"
     ]
    }
   ],
   "source": [
    "print(df_users['age'].describe())"
   ]
  },
  {
   "cell_type": "code",
   "execution_count": 19,
   "metadata": {},
   "outputs": [
    {
     "data": {
      "text/plain": [
       "1023    1\n",
       "1194    1\n",
       "1181    1\n",
       "1182    1\n",
       "1183    1\n",
       "Name: user_id, dtype: int64"
      ]
     },
     "execution_count": 19,
     "metadata": {},
     "output_type": "execute_result"
    }
   ],
   "source": [
    "df_users['user_id'].value_counts().head()"
   ]
  },
  {
   "cell_type": "markdown",
   "metadata": {},
   "source": [
    "Посмотрел вылеты на возможных столбика. Возраст - всё вполне прилично. \n",
    "\n",
    "    * Для идентификатора пользвателя посмотрел неповторяелся ли он два раза. Для того чтобы понять для себя, о чем вообще говорит нам эта таблица может быть было несколько переходов в месяц по тарифам для пользователя. Но нет в этот раз не стали делать нам больно) \n",
    "    * Еще. Так как нам не сказали влияет ли с какой даты пользователь переходил на тариф или пакетный траффик начисляется с начала месяца - таких данных нет. Так что буду считать по более благоприятнаму для себя сценарию. Тарификация с начала месяца. \n",
    "    *  Есть nan и это совсем не ошибка так что подумаем позже как их заполнить."
   ]
  },
  {
   "cell_type": "markdown",
   "metadata": {},
   "source": [
    "#### Таблица описания тарифов"
   ]
  },
  {
   "cell_type": "code",
   "execution_count": 20,
   "metadata": {},
   "outputs": [
    {
     "name": "stdout",
     "output_type": "stream",
     "text": [
      "   messages_included  mg_per_month_included  minutes_included  \\\n",
      "0                 50                  15360               500   \n",
      "1               1000                  30720              3000   \n",
      "\n",
      "   rub_monthly_fee  rub_per_gb  rub_per_message  rub_per_minute tariff_name  \n",
      "0              550         200                3               3       smart  \n",
      "1             1950         150                1               1       ultra  \n",
      "<class 'pandas.core.frame.DataFrame'>\n",
      "RangeIndex: 2 entries, 0 to 1\n",
      "Data columns (total 8 columns):\n",
      "messages_included        2 non-null int64\n",
      "mg_per_month_included    2 non-null int64\n",
      "minutes_included         2 non-null int64\n",
      "rub_monthly_fee          2 non-null int64\n",
      "rub_per_gb               2 non-null int64\n",
      "rub_per_message          2 non-null int64\n",
      "rub_per_minute           2 non-null int64\n",
      "tariff_name              2 non-null object\n",
      "dtypes: int64(7), object(1)\n",
      "memory usage: 208.0+ bytes\n",
      "None\n",
      "messages_included        0\n",
      "mg_per_month_included    0\n",
      "minutes_included         0\n",
      "rub_monthly_fee          0\n",
      "rub_per_gb               0\n",
      "rub_per_message          0\n",
      "rub_per_minute           0\n",
      "tariff_name              0\n",
      "dtype: int64\n"
     ]
    }
   ],
   "source": [
    "print(df_tar.head())\n",
    "print(df_tar.info())\n",
    "print(df_tar.isnull().sum())"
   ]
  },
  {
   "cell_type": "markdown",
   "metadata": {},
   "source": [
    "Тарифы и тарифы, всё что надо есть."
   ]
  },
  {
   "cell_type": "markdown",
   "metadata": {},
   "source": [
    "## План обработки данных"
   ]
  },
  {
   "cell_type": "markdown",
   "metadata": {},
   "source": [
    "В общем при обарботки данных придумал как подготовить эти наборы. \n",
    "    У нас есть персонализированная таблица с указанием перехода человека на тариф и даты перехода на тариф. Соответсвенно всё, что не в этих числах рассматриваться не может, и для нужного нам итогового набора данных предлагаю сделать следующее. \n",
    "    \n",
    "            * Предобработать данные таблиц.\n",
    "            \n",
    "                - Убрать безъимянный столбец в всех табилицах \"Unnamed: 0\" - удалить.(совершенно не описан и не знаю зачем он нам нужен он коррелируется только с нумерацией записи в датафрейме, но нам она не нужна нужна дата)\n",
    "                - Все что касается звонков надо округлить до целого в большую сторону и подставить тип int - этот вывод выходит из описания тарифа\n",
    "                - мегабайты тоже следует округлить вверх до целого числа и присвоить тип int для столбика.\n",
    "                - Заполнить таблицу с персонализированными данными. Значение даты перехода с тарифа на другой для тоех у кого nan нужно заполнить датой 2019-01-01. Мы изучаем все поведение пользователей за 2018 год так что эта дата будет вполне кстати. \n",
    "                - Переименуем столбец дата события в одно и тоже в имя в всех датафреймах чтобы было проще обрабатывать в функции\n",
    "                - Предобратаем столбец дата и приведем его к значению год-месяц\n",
    "                - Таблицам \"звонки\" \"интернет трафик\" \"сообщения\" добвить столбик \"deleted\" по нему я потом избавлюсь от строк с другим тарифом\n",
    "                - В таблицу \"сообщения\" добавить столбик с численностью для работы с количеством сообщений в месяц\n",
    "               \n",
    "             * Далее если все датафреймы обрабатываются очень похоже пишим функцию которая будет в цикле групировать пользователей и пробегаться циклом по строкам отдавать строку в другую функцию где будет проверяться - этот звонок, сообщение или трафик был сделан в рамках исследуемого тарифа или нет и взводится тип булево по которому потом будет производится удаления из датафрейма. Затем посмотрим на выбросы в этих таблицах останутся они вообще или нет. приведем их скорее к средней. \n",
    "             * Сгруппируем таблицы в рамках одного месяца, чтобы их потом можно было просто сооединить\n",
    "             * Вычислим все нужные столбики: сколько человек потратил за месяца какой перерасход и т.д."
   ]
  },
  {
   "cell_type": "markdown",
   "metadata": {},
   "source": [
    "#### Напишим функцию которая удаляет столбик \"Unnamed: 0\""
   ]
  },
  {
   "cell_type": "code",
   "execution_count": 21,
   "metadata": {},
   "outputs": [],
   "source": [
    "def delete_unnamed(df):\n",
    "    df.drop('Unnamed: 0', axis=1, inplace=True)\n",
    "    return df"
   ]
  },
  {
   "cell_type": "code",
   "execution_count": 22,
   "metadata": {},
   "outputs": [],
   "source": [
    "# Оказалось этот столбик появлялся только в моем локальном jupyter notebook\n",
    "\n",
    "#df_calls = delete_unnamed(df_calls)\n",
    "#df_int = delete_unnamed(df_int)\n",
    "#df_mess = delete_unnamed(df_mess)\n",
    "#df_users = delete_unnamed(df_users)\n",
    "#df_tar = delete_unnamed(df_tar)"
   ]
  },
  {
   "cell_type": "markdown",
   "metadata": {},
   "source": [
    "### Предобработаем по очереди все дэйтафреймы в соответсвие с планом"
   ]
  },
  {
   "cell_type": "markdown",
   "metadata": {},
   "source": [
    "#### Таблица звонков"
   ]
  },
  {
   "cell_type": "code",
   "execution_count": 23,
   "metadata": {},
   "outputs": [
    {
     "name": "stdout",
     "output_type": "stream",
     "text": [
      "<class 'pandas.core.frame.DataFrame'>\n",
      "RangeIndex: 202607 entries, 0 to 202606\n",
      "Data columns (total 4 columns):\n",
      "id           202607 non-null object\n",
      "call_date    202607 non-null object\n",
      "duration     202607 non-null float64\n",
      "user_id      202607 non-null int64\n",
      "dtypes: float64(1), int64(1), object(2)\n",
      "memory usage: 6.2+ MB\n"
     ]
    }
   ],
   "source": [
    "df_calls.info()"
   ]
  },
  {
   "cell_type": "code",
   "execution_count": 24,
   "metadata": {},
   "outputs": [],
   "source": [
    "# Удаляем звонки с продолжительностью в 0.00 это может звонок не принятый абонентом. они нам совсем не интересны.\n",
    "df_calls = df_calls.drop(np.where(df_calls['duration'] == 0.00)[0])\n",
    "\n",
    "# Округляем значения продолжительности звонка до целого числа и присваиваем тип int\n",
    "df_calls['duration'] = np.ceil(df_calls['duration'])\n",
    "df_calls['duration'] = df_calls['duration'].astype('int')\n",
    "\n",
    "# Добавляем столбец для признака удаления если строка нам не потребуестся\n",
    "df_calls['delete'] = False\n",
    "\n",
    "# Добавим столбик год-месяц ведь нам придется группировать данные для склейки\n",
    "df_calls['year_month']=df_calls['call_date'].apply(lambda x: str(x)[:7])\n",
    "\n",
    "# Переименуем столбик с датай события чтобы было проще обрабатывать в функции\n",
    "df_calls.rename(columns={'call_date':'trf_date'}, inplace=True)"
   ]
  },
  {
   "cell_type": "code",
   "execution_count": 25,
   "metadata": {},
   "outputs": [
    {
     "name": "stdout",
     "output_type": "stream",
     "text": [
      "<class 'pandas.core.frame.DataFrame'>\n",
      "Int64Index: 162994 entries, 2 to 202606\n",
      "Data columns (total 6 columns):\n",
      "id            162994 non-null object\n",
      "trf_date      162994 non-null object\n",
      "duration      162994 non-null int64\n",
      "user_id       162994 non-null int64\n",
      "delete        162994 non-null bool\n",
      "year_month    162994 non-null object\n",
      "dtypes: bool(1), int64(2), object(3)\n",
      "memory usage: 7.6+ MB\n"
     ]
    },
    {
     "data": {
      "text/html": [
       "<div>\n",
       "<style scoped>\n",
       "    .dataframe tbody tr th:only-of-type {\n",
       "        vertical-align: middle;\n",
       "    }\n",
       "\n",
       "    .dataframe tbody tr th {\n",
       "        vertical-align: top;\n",
       "    }\n",
       "\n",
       "    .dataframe thead th {\n",
       "        text-align: right;\n",
       "    }\n",
       "</style>\n",
       "<table border=\"1\" class=\"dataframe\">\n",
       "  <thead>\n",
       "    <tr style=\"text-align: right;\">\n",
       "      <th></th>\n",
       "      <th>id</th>\n",
       "      <th>trf_date</th>\n",
       "      <th>duration</th>\n",
       "      <th>user_id</th>\n",
       "      <th>delete</th>\n",
       "      <th>year_month</th>\n",
       "    </tr>\n",
       "  </thead>\n",
       "  <tbody>\n",
       "    <tr>\n",
       "      <th>2</th>\n",
       "      <td>1000_2</td>\n",
       "      <td>2018-06-11</td>\n",
       "      <td>3</td>\n",
       "      <td>1000</td>\n",
       "      <td>False</td>\n",
       "      <td>2018-06</td>\n",
       "    </tr>\n",
       "    <tr>\n",
       "      <th>3</th>\n",
       "      <td>1000_3</td>\n",
       "      <td>2018-09-21</td>\n",
       "      <td>14</td>\n",
       "      <td>1000</td>\n",
       "      <td>False</td>\n",
       "      <td>2018-09</td>\n",
       "    </tr>\n",
       "    <tr>\n",
       "      <th>4</th>\n",
       "      <td>1000_4</td>\n",
       "      <td>2018-12-15</td>\n",
       "      <td>6</td>\n",
       "      <td>1000</td>\n",
       "      <td>False</td>\n",
       "      <td>2018-12</td>\n",
       "    </tr>\n",
       "    <tr>\n",
       "      <th>7</th>\n",
       "      <td>1000_7</td>\n",
       "      <td>2018-08-22</td>\n",
       "      <td>19</td>\n",
       "      <td>1000</td>\n",
       "      <td>False</td>\n",
       "      <td>2018-08</td>\n",
       "    </tr>\n",
       "    <tr>\n",
       "      <th>8</th>\n",
       "      <td>1000_8</td>\n",
       "      <td>2018-09-15</td>\n",
       "      <td>19</td>\n",
       "      <td>1000</td>\n",
       "      <td>False</td>\n",
       "      <td>2018-09</td>\n",
       "    </tr>\n",
       "  </tbody>\n",
       "</table>\n",
       "</div>"
      ],
      "text/plain": [
       "       id    trf_date  duration  user_id  delete year_month\n",
       "2  1000_2  2018-06-11         3     1000   False    2018-06\n",
       "3  1000_3  2018-09-21        14     1000   False    2018-09\n",
       "4  1000_4  2018-12-15         6     1000   False    2018-12\n",
       "7  1000_7  2018-08-22        19     1000   False    2018-08\n",
       "8  1000_8  2018-09-15        19     1000   False    2018-09"
      ]
     },
     "execution_count": 25,
     "metadata": {},
     "output_type": "execute_result"
    }
   ],
   "source": [
    "df_calls.info()\n",
    "df_calls.head()"
   ]
  },
  {
   "cell_type": "markdown",
   "metadata": {},
   "source": [
    "#### Таблица интернет трафика"
   ]
  },
  {
   "cell_type": "code",
   "execution_count": 26,
   "metadata": {},
   "outputs": [
    {
     "name": "stdout",
     "output_type": "stream",
     "text": [
      "<class 'pandas.core.frame.DataFrame'>\n",
      "RangeIndex: 149396 entries, 0 to 149395\n",
      "Data columns (total 4 columns):\n",
      "id              149396 non-null object\n",
      "mb_used         149396 non-null float64\n",
      "session_date    149396 non-null object\n",
      "user_id         149396 non-null int64\n",
      "dtypes: float64(1), int64(1), object(2)\n",
      "memory usage: 4.6+ MB\n"
     ]
    }
   ],
   "source": [
    "df_int.info()"
   ]
  },
  {
   "cell_type": "code",
   "execution_count": 27,
   "metadata": {},
   "outputs": [
    {
     "name": "stdout",
     "output_type": "stream",
     "text": [
      "116616    0.0\n",
      "Name: mb_used, dtype: float64\n"
     ]
    }
   ],
   "source": [
    "print(df_int['mb_used'].sort_values(ascending=True).head(1))"
   ]
  },
  {
   "cell_type": "code",
   "execution_count": 28,
   "metadata": {},
   "outputs": [
    {
     "name": "stdout",
     "output_type": "stream",
     "text": [
      "<class 'pandas.core.frame.DataFrame'>\n",
      "RangeIndex: 149396 entries, 0 to 149395\n",
      "Data columns (total 4 columns):\n",
      "id              149396 non-null object\n",
      "mb_used         149396 non-null float64\n",
      "session_date    149396 non-null object\n",
      "user_id         149396 non-null int64\n",
      "dtypes: float64(1), int64(1), object(2)\n",
      "memory usage: 4.6+ MB\n"
     ]
    }
   ],
   "source": [
    "df_int.info()"
   ]
  },
  {
   "cell_type": "code",
   "execution_count": 29,
   "metadata": {},
   "outputs": [],
   "source": [
    "# Удаляем трафик с расходом в 0.0 Mb\n",
    "df_int = df_int.drop(np.where(df_int['mb_used'] == 0.0)[0])\n",
    "\n",
    "# Округляем значения продолжительности звонка до целого числа и присваиваем тип int\n",
    "df_int['mb_used'] = np.ceil(df_int['mb_used'])\n",
    "df_int['mb_used'] = df_int['mb_used'].astype('int')\n",
    "\n",
    "# Добавляем столбец для признака удаления если строка нам не потребуестся\n",
    "df_int['delete'] = False\n",
    "\n",
    "# Добавим столбик год-месяц ведь нам придется группировать данные для склейки\n",
    "df_int['year_month']= df_int['session_date'].apply(lambda x: str(x)[:7])\n",
    "\n",
    "# Переименуем столбик с датай события чтобы было проще обрабатывать в функции\n",
    "df_int.rename(columns={'session_date':'trf_date'}, inplace=True)"
   ]
  },
  {
   "cell_type": "code",
   "execution_count": 30,
   "metadata": {},
   "outputs": [
    {
     "name": "stdout",
     "output_type": "stream",
     "text": [
      "<class 'pandas.core.frame.DataFrame'>\n",
      "Int64Index: 129798 entries, 0 to 149395\n",
      "Data columns (total 6 columns):\n",
      "id            129798 non-null object\n",
      "mb_used       129798 non-null int64\n",
      "trf_date      129798 non-null object\n",
      "user_id       129798 non-null int64\n",
      "delete        129798 non-null bool\n",
      "year_month    129798 non-null object\n",
      "dtypes: bool(1), int64(2), object(3)\n",
      "memory usage: 6.1+ MB\n"
     ]
    },
    {
     "data": {
      "text/html": [
       "<div>\n",
       "<style scoped>\n",
       "    .dataframe tbody tr th:only-of-type {\n",
       "        vertical-align: middle;\n",
       "    }\n",
       "\n",
       "    .dataframe tbody tr th {\n",
       "        vertical-align: top;\n",
       "    }\n",
       "\n",
       "    .dataframe thead th {\n",
       "        text-align: right;\n",
       "    }\n",
       "</style>\n",
       "<table border=\"1\" class=\"dataframe\">\n",
       "  <thead>\n",
       "    <tr style=\"text-align: right;\">\n",
       "      <th></th>\n",
       "      <th>id</th>\n",
       "      <th>mb_used</th>\n",
       "      <th>trf_date</th>\n",
       "      <th>user_id</th>\n",
       "      <th>delete</th>\n",
       "      <th>year_month</th>\n",
       "    </tr>\n",
       "  </thead>\n",
       "  <tbody>\n",
       "    <tr>\n",
       "      <th>0</th>\n",
       "      <td>1000_0</td>\n",
       "      <td>113</td>\n",
       "      <td>2018-11-25</td>\n",
       "      <td>1000</td>\n",
       "      <td>False</td>\n",
       "      <td>2018-11</td>\n",
       "    </tr>\n",
       "    <tr>\n",
       "      <th>1</th>\n",
       "      <td>1000_1</td>\n",
       "      <td>1053</td>\n",
       "      <td>2018-09-07</td>\n",
       "      <td>1000</td>\n",
       "      <td>False</td>\n",
       "      <td>2018-09</td>\n",
       "    </tr>\n",
       "    <tr>\n",
       "      <th>2</th>\n",
       "      <td>1000_2</td>\n",
       "      <td>1198</td>\n",
       "      <td>2018-06-25</td>\n",
       "      <td>1000</td>\n",
       "      <td>False</td>\n",
       "      <td>2018-06</td>\n",
       "    </tr>\n",
       "    <tr>\n",
       "      <th>3</th>\n",
       "      <td>1000_3</td>\n",
       "      <td>551</td>\n",
       "      <td>2018-08-22</td>\n",
       "      <td>1000</td>\n",
       "      <td>False</td>\n",
       "      <td>2018-08</td>\n",
       "    </tr>\n",
       "    <tr>\n",
       "      <th>4</th>\n",
       "      <td>1000_4</td>\n",
       "      <td>303</td>\n",
       "      <td>2018-09-24</td>\n",
       "      <td>1000</td>\n",
       "      <td>False</td>\n",
       "      <td>2018-09</td>\n",
       "    </tr>\n",
       "  </tbody>\n",
       "</table>\n",
       "</div>"
      ],
      "text/plain": [
       "       id  mb_used    trf_date  user_id  delete year_month\n",
       "0  1000_0      113  2018-11-25     1000   False    2018-11\n",
       "1  1000_1     1053  2018-09-07     1000   False    2018-09\n",
       "2  1000_2     1198  2018-06-25     1000   False    2018-06\n",
       "3  1000_3      551  2018-08-22     1000   False    2018-08\n",
       "4  1000_4      303  2018-09-24     1000   False    2018-09"
      ]
     },
     "execution_count": 30,
     "metadata": {},
     "output_type": "execute_result"
    }
   ],
   "source": [
    "df_int.info()\n",
    "df_int.head()"
   ]
  },
  {
   "cell_type": "markdown",
   "metadata": {},
   "source": [
    "#### Таблица сообщений"
   ]
  },
  {
   "cell_type": "code",
   "execution_count": 31,
   "metadata": {},
   "outputs": [
    {
     "name": "stdout",
     "output_type": "stream",
     "text": [
      "<class 'pandas.core.frame.DataFrame'>\n",
      "RangeIndex: 123036 entries, 0 to 123035\n",
      "Data columns (total 3 columns):\n",
      "id              123036 non-null object\n",
      "message_date    123036 non-null object\n",
      "user_id         123036 non-null int64\n",
      "dtypes: int64(1), object(2)\n",
      "memory usage: 2.8+ MB\n"
     ]
    }
   ],
   "source": [
    "df_mess.info()"
   ]
  },
  {
   "cell_type": "code",
   "execution_count": 32,
   "metadata": {},
   "outputs": [],
   "source": [
    "# добавим сечетчик сообщений в день\n",
    "df_mess['count_mesg'] = int(1)\n",
    "\n",
    "# Добавляем столбец для признака удаления если строка нам не потребуестся\n",
    "df_mess['delete'] = False\n",
    "\n",
    "# Добавим столбик год-месяц ведь нам придется группировать данные для склейки\n",
    "df_mess['year_month'] = df_mess['message_date'].apply(lambda x: str(x)[:7])\n",
    "\n",
    "# Переименуем столбик с датай события чтобы было проще обрабатывать в функции\n",
    "df_mess.rename(columns={'message_date':'trf_date'}, inplace=True)"
   ]
  },
  {
   "cell_type": "code",
   "execution_count": 33,
   "metadata": {},
   "outputs": [
    {
     "name": "stdout",
     "output_type": "stream",
     "text": [
      "<class 'pandas.core.frame.DataFrame'>\n",
      "RangeIndex: 123036 entries, 0 to 123035\n",
      "Data columns (total 6 columns):\n",
      "id            123036 non-null object\n",
      "trf_date      123036 non-null object\n",
      "user_id       123036 non-null int64\n",
      "count_mesg    123036 non-null int64\n",
      "delete        123036 non-null bool\n",
      "year_month    123036 non-null object\n",
      "dtypes: bool(1), int64(2), object(3)\n",
      "memory usage: 4.8+ MB\n"
     ]
    },
    {
     "data": {
      "text/html": [
       "<div>\n",
       "<style scoped>\n",
       "    .dataframe tbody tr th:only-of-type {\n",
       "        vertical-align: middle;\n",
       "    }\n",
       "\n",
       "    .dataframe tbody tr th {\n",
       "        vertical-align: top;\n",
       "    }\n",
       "\n",
       "    .dataframe thead th {\n",
       "        text-align: right;\n",
       "    }\n",
       "</style>\n",
       "<table border=\"1\" class=\"dataframe\">\n",
       "  <thead>\n",
       "    <tr style=\"text-align: right;\">\n",
       "      <th></th>\n",
       "      <th>id</th>\n",
       "      <th>trf_date</th>\n",
       "      <th>user_id</th>\n",
       "      <th>count_mesg</th>\n",
       "      <th>delete</th>\n",
       "      <th>year_month</th>\n",
       "    </tr>\n",
       "  </thead>\n",
       "  <tbody>\n",
       "    <tr>\n",
       "      <th>0</th>\n",
       "      <td>1000_0</td>\n",
       "      <td>2018-06-27</td>\n",
       "      <td>1000</td>\n",
       "      <td>1</td>\n",
       "      <td>False</td>\n",
       "      <td>2018-06</td>\n",
       "    </tr>\n",
       "    <tr>\n",
       "      <th>1</th>\n",
       "      <td>1000_1</td>\n",
       "      <td>2018-10-08</td>\n",
       "      <td>1000</td>\n",
       "      <td>1</td>\n",
       "      <td>False</td>\n",
       "      <td>2018-10</td>\n",
       "    </tr>\n",
       "    <tr>\n",
       "      <th>2</th>\n",
       "      <td>1000_2</td>\n",
       "      <td>2018-08-04</td>\n",
       "      <td>1000</td>\n",
       "      <td>1</td>\n",
       "      <td>False</td>\n",
       "      <td>2018-08</td>\n",
       "    </tr>\n",
       "    <tr>\n",
       "      <th>3</th>\n",
       "      <td>1000_3</td>\n",
       "      <td>2018-06-16</td>\n",
       "      <td>1000</td>\n",
       "      <td>1</td>\n",
       "      <td>False</td>\n",
       "      <td>2018-06</td>\n",
       "    </tr>\n",
       "    <tr>\n",
       "      <th>4</th>\n",
       "      <td>1000_4</td>\n",
       "      <td>2018-12-05</td>\n",
       "      <td>1000</td>\n",
       "      <td>1</td>\n",
       "      <td>False</td>\n",
       "      <td>2018-12</td>\n",
       "    </tr>\n",
       "  </tbody>\n",
       "</table>\n",
       "</div>"
      ],
      "text/plain": [
       "       id    trf_date  user_id  count_mesg  delete year_month\n",
       "0  1000_0  2018-06-27     1000           1   False    2018-06\n",
       "1  1000_1  2018-10-08     1000           1   False    2018-10\n",
       "2  1000_2  2018-08-04     1000           1   False    2018-08\n",
       "3  1000_3  2018-06-16     1000           1   False    2018-06\n",
       "4  1000_4  2018-12-05     1000           1   False    2018-12"
      ]
     },
     "execution_count": 33,
     "metadata": {},
     "output_type": "execute_result"
    }
   ],
   "source": [
    "df_mess.info()\n",
    "df_mess.head()"
   ]
  },
  {
   "cell_type": "markdown",
   "metadata": {},
   "source": [
    "#### Таблица клиентов"
   ]
  },
  {
   "cell_type": "code",
   "execution_count": 34,
   "metadata": {},
   "outputs": [
    {
     "name": "stdout",
     "output_type": "stream",
     "text": [
      "<class 'pandas.core.frame.DataFrame'>\n",
      "RangeIndex: 500 entries, 0 to 499\n",
      "Data columns (total 8 columns):\n",
      "user_id       500 non-null int64\n",
      "age           500 non-null int64\n",
      "churn_date    38 non-null object\n",
      "city          500 non-null object\n",
      "first_name    500 non-null object\n",
      "last_name     500 non-null object\n",
      "reg_date      500 non-null object\n",
      "tariff        500 non-null object\n",
      "dtypes: int64(2), object(6)\n",
      "memory usage: 31.3+ KB\n"
     ]
    }
   ],
   "source": [
    "df_users.info()"
   ]
  },
  {
   "cell_type": "code",
   "execution_count": 35,
   "metadata": {},
   "outputs": [],
   "source": [
    "# Заполним nan датой 2019-01-01 так как это первая дата которая выходит за пределы дат исследования\n",
    "df_users['churn_date'] = df_users['churn_date'].fillna('2019-01-01')"
   ]
  },
  {
   "cell_type": "code",
   "execution_count": 36,
   "metadata": {},
   "outputs": [
    {
     "name": "stdout",
     "output_type": "stream",
     "text": [
      "<class 'pandas.core.frame.DataFrame'>\n",
      "RangeIndex: 500 entries, 0 to 499\n",
      "Data columns (total 8 columns):\n",
      "user_id       500 non-null int64\n",
      "age           500 non-null int64\n",
      "churn_date    500 non-null object\n",
      "city          500 non-null object\n",
      "first_name    500 non-null object\n",
      "last_name     500 non-null object\n",
      "reg_date      500 non-null object\n",
      "tariff        500 non-null object\n",
      "dtypes: int64(2), object(6)\n",
      "memory usage: 31.3+ KB\n"
     ]
    },
    {
     "data": {
      "text/html": [
       "<div>\n",
       "<style scoped>\n",
       "    .dataframe tbody tr th:only-of-type {\n",
       "        vertical-align: middle;\n",
       "    }\n",
       "\n",
       "    .dataframe tbody tr th {\n",
       "        vertical-align: top;\n",
       "    }\n",
       "\n",
       "    .dataframe thead th {\n",
       "        text-align: right;\n",
       "    }\n",
       "</style>\n",
       "<table border=\"1\" class=\"dataframe\">\n",
       "  <thead>\n",
       "    <tr style=\"text-align: right;\">\n",
       "      <th></th>\n",
       "      <th>user_id</th>\n",
       "      <th>age</th>\n",
       "      <th>churn_date</th>\n",
       "      <th>city</th>\n",
       "      <th>first_name</th>\n",
       "      <th>last_name</th>\n",
       "      <th>reg_date</th>\n",
       "      <th>tariff</th>\n",
       "    </tr>\n",
       "  </thead>\n",
       "  <tbody>\n",
       "    <tr>\n",
       "      <th>0</th>\n",
       "      <td>1000</td>\n",
       "      <td>52</td>\n",
       "      <td>2019-01-01</td>\n",
       "      <td>Краснодар</td>\n",
       "      <td>Рафаил</td>\n",
       "      <td>Верещагин</td>\n",
       "      <td>2018-05-25</td>\n",
       "      <td>ultra</td>\n",
       "    </tr>\n",
       "    <tr>\n",
       "      <th>1</th>\n",
       "      <td>1001</td>\n",
       "      <td>41</td>\n",
       "      <td>2019-01-01</td>\n",
       "      <td>Москва</td>\n",
       "      <td>Иван</td>\n",
       "      <td>Ежов</td>\n",
       "      <td>2018-11-01</td>\n",
       "      <td>smart</td>\n",
       "    </tr>\n",
       "    <tr>\n",
       "      <th>2</th>\n",
       "      <td>1002</td>\n",
       "      <td>59</td>\n",
       "      <td>2019-01-01</td>\n",
       "      <td>Стерлитамак</td>\n",
       "      <td>Евгений</td>\n",
       "      <td>Абрамович</td>\n",
       "      <td>2018-06-17</td>\n",
       "      <td>smart</td>\n",
       "    </tr>\n",
       "    <tr>\n",
       "      <th>3</th>\n",
       "      <td>1003</td>\n",
       "      <td>23</td>\n",
       "      <td>2019-01-01</td>\n",
       "      <td>Москва</td>\n",
       "      <td>Белла</td>\n",
       "      <td>Белякова</td>\n",
       "      <td>2018-08-17</td>\n",
       "      <td>ultra</td>\n",
       "    </tr>\n",
       "    <tr>\n",
       "      <th>4</th>\n",
       "      <td>1004</td>\n",
       "      <td>68</td>\n",
       "      <td>2019-01-01</td>\n",
       "      <td>Новокузнецк</td>\n",
       "      <td>Татьяна</td>\n",
       "      <td>Авдеенко</td>\n",
       "      <td>2018-05-14</td>\n",
       "      <td>ultra</td>\n",
       "    </tr>\n",
       "  </tbody>\n",
       "</table>\n",
       "</div>"
      ],
      "text/plain": [
       "   user_id  age  churn_date         city first_name  last_name    reg_date  \\\n",
       "0     1000   52  2019-01-01    Краснодар     Рафаил  Верещагин  2018-05-25   \n",
       "1     1001   41  2019-01-01       Москва       Иван       Ежов  2018-11-01   \n",
       "2     1002   59  2019-01-01  Стерлитамак    Евгений  Абрамович  2018-06-17   \n",
       "3     1003   23  2019-01-01       Москва      Белла   Белякова  2018-08-17   \n",
       "4     1004   68  2019-01-01  Новокузнецк    Татьяна   Авдеенко  2018-05-14   \n",
       "\n",
       "  tariff  \n",
       "0  ultra  \n",
       "1  smart  \n",
       "2  smart  \n",
       "3  ultra  \n",
       "4  ultra  "
      ]
     },
     "execution_count": 36,
     "metadata": {},
     "output_type": "execute_result"
    }
   ],
   "source": [
    "df_users.info()\n",
    "df_users.head()"
   ]
  },
  {
   "cell_type": "markdown",
   "metadata": {},
   "source": [
    "#### Таблица тарифов"
   ]
  },
  {
   "cell_type": "code",
   "execution_count": 37,
   "metadata": {},
   "outputs": [
    {
     "name": "stdout",
     "output_type": "stream",
     "text": [
      "<class 'pandas.core.frame.DataFrame'>\n",
      "RangeIndex: 2 entries, 0 to 1\n",
      "Data columns (total 8 columns):\n",
      "messages_included        2 non-null int64\n",
      "mg_per_month_included    2 non-null int64\n",
      "minutes_included         2 non-null int64\n",
      "rub_monthly_fee          2 non-null int64\n",
      "rub_per_gb               2 non-null int64\n",
      "rub_per_message          2 non-null int64\n",
      "rub_per_minute           2 non-null int64\n",
      "tariff_name              2 non-null object\n",
      "dtypes: int64(7), object(1)\n",
      "memory usage: 208.0+ bytes\n"
     ]
    }
   ],
   "source": [
    "df_tar.info()"
   ]
  },
  {
   "cell_type": "code",
   "execution_count": 38,
   "metadata": {},
   "outputs": [],
   "source": [
    "# Талблице тарифов просто переименуем столбик чтобы было проще соединить с основной таблицей в будущем\n",
    "df_tar.rename(columns={'tariff_name':'tariff'}, inplace=True)"
   ]
  },
  {
   "cell_type": "markdown",
   "metadata": {},
   "source": [
    "#### Напишим функцию которая будет причесывать наши таблицы"
   ]
  },
  {
   "cell_type": "markdown",
   "metadata": {},
   "source": [
    "Есть опасения, что когда мы соединим в таблицы с пользователями левым соединением может получиться так что какой то из них совсем не пользовался какими то услугами будь то трафик, звонки или сообщения. В этом случае нам придется удалить такие строкии будем их искать по трафику - он же для нас важен"
   ]
  },
  {
   "cell_type": "code",
   "execution_count": 39,
   "metadata": {},
   "outputs": [
    {
     "name": "stdout",
     "output_type": "stream",
     "text": [
      "<class 'pandas.core.frame.DataFrame'>\n",
      "Int64Index: 162994 entries, 0 to 162993\n",
      "Data columns (total 13 columns):\n",
      "id            162994 non-null object\n",
      "trf_date      162994 non-null object\n",
      "duration      162994 non-null int64\n",
      "user_id       162994 non-null int64\n",
      "delete        162994 non-null bool\n",
      "year_month    162994 non-null object\n",
      "age           162994 non-null int64\n",
      "churn_date    162994 non-null object\n",
      "city          162994 non-null object\n",
      "first_name    162994 non-null object\n",
      "last_name     162994 non-null object\n",
      "reg_date      162994 non-null object\n",
      "tariff        162994 non-null object\n",
      "dtypes: bool(1), int64(3), object(9)\n",
      "memory usage: 16.3+ MB\n"
     ]
    }
   ],
   "source": [
    "df_total = df_calls.merge(df_users, on='user_id', how='left')\n",
    "df_total.info()"
   ]
  },
  {
   "cell_type": "code",
   "execution_count": 40,
   "metadata": {},
   "outputs": [],
   "source": [
    "# в этой функции будем ставить признак нужно ли удалять эту строку или нет\n",
    "def set_delete_for_row(x):\n",
    "   \n",
    "    # Посмотрим чтобы какая та деятельность входила в дни тарифа\n",
    "    \n",
    "    date_churn = datetime.strptime(x['churn_date'], \"%Y-%m-%d\")\n",
    "    date_reg = datetime.strptime(x['reg_date'], \"%Y-%m-%d\")\n",
    "    date_trf = datetime.strptime(x['trf_date'], \"%Y-%m-%d\")\n",
    "    \n",
    "    if date_trf < date_churn and date_trf >= date_reg:\n",
    "        return False\n",
    "    else: \n",
    "        return True\n",
    "\n",
    "# Удаляет не нужные колонки\n",
    "def delete_column(df):\n",
    "    delete_column = ['delete','age','city','churn_date','first_name','last_name','reg_date','tariff']\n",
    "    df.drop(delete_column, axis=1, inplace=True)\n",
    "    return df    \n",
    "\n",
    "# Возвращает датафрейм только с траффиком который входил в даты работы тарифа\n",
    "def prepared_traffic_table(df_traffic, df_usr):\n",
    "    \n",
    "    # Соединим таблицы\n",
    "    df_total = df_traffic.merge(df_usr, on='user_id', how='left')\n",
    "    \n",
    "    # Поймем что тут удалять что не стоит\n",
    "    #for user_id, group_df in df_total.groupby('user_id'):    \n",
    "    df_total['delete'] = df_total.apply(set_delete_for_row, axis=1)\n",
    "        \n",
    "    # Почистим дата фрейм от ненужных строк и столбцов \n",
    "    # upd: как оказалось таких и нет но я рад что предусмотрел\n",
    "    df_total = df_total.drop(np.where(df_total['delete'] == True)[0])\n",
    "    \n",
    "    # Удаляем ненужные колонки\n",
    "    df_total = delete_column(df_total)\n",
    "    \n",
    "    # Вернем датафрейм\n",
    "    return df_total"
   ]
  },
  {
   "cell_type": "code",
   "execution_count": 41,
   "metadata": {},
   "outputs": [],
   "source": [
    "df_msg_pr = prepared_traffic_table(df_mess, df_users)"
   ]
  },
  {
   "cell_type": "code",
   "execution_count": 42,
   "metadata": {},
   "outputs": [
    {
     "name": "stdout",
     "output_type": "stream",
     "text": [
      "       id    trf_date  duration  user_id year_month\n",
      "0  1000_2  2018-06-11         3     1000    2018-06\n",
      "1  1000_3  2018-09-21        14     1000    2018-09\n",
      "2  1000_4  2018-12-15         6     1000    2018-12\n",
      "3  1000_7  2018-08-22        19     1000    2018-08\n",
      "4  1000_8  2018-09-15        19     1000    2018-09\n"
     ]
    }
   ],
   "source": [
    "df_calls_pr = prepared_traffic_table(df_calls, df_users)\n",
    "print(df_calls_pr.head())"
   ]
  },
  {
   "cell_type": "code",
   "execution_count": 43,
   "metadata": {},
   "outputs": [
    {
     "name": "stdout",
     "output_type": "stream",
     "text": [
      "count    162994.000000\n",
      "mean          8.897880\n",
      "std           5.353761\n",
      "min           1.000000\n",
      "25%           5.000000\n",
      "50%           8.000000\n",
      "75%          12.000000\n",
      "max          38.000000\n",
      "Name: duration, dtype: float64\n"
     ]
    },
    {
     "data": {
      "image/png": "[encoded data removed]",
      "text/plain": [
       "<Figure size 432x288 with 1 Axes>"
      ]
     },
     "metadata": {
      "needs_background": "light"
     },
     "output_type": "display_data"
    }
   ],
   "source": [
    "# проверим на выбросы\n",
    "df_calls_pr['duration'].hist(bins = 100)\n",
    "print(df_calls_pr['duration'].describe())"
   ]
  },
  {
   "cell_type": "code",
   "execution_count": 44,
   "metadata": {},
   "outputs": [
    {
     "data": {
      "text/plain": [
       "<matplotlib.axes._subplots.AxesSubplot at 0x7fd2e560e2b0>"
      ]
     },
     "execution_count": 44,
     "metadata": {},
     "output_type": "execute_result"
    },
    {
     "data": {
      "image/png": "[encoded data removed]",
      "text/plain": [
       "<Figure size 576x432 with 1 Axes>"
      ]
     },
     "metadata": {
      "needs_background": "light"
     },
     "output_type": "display_data"
    }
   ],
   "source": [
    "fig = plt.figure(figsize=(8,6))\n",
    "ax = fig.gca()\n",
    "df_calls_pr.boxplot(column='duration', ax=ax)"
   ]
  },
  {
   "cell_type": "markdown",
   "metadata": {},
   "source": [
    "Для ящика с усами обрежим все выбросы для более точной выборки"
   ]
  },
  {
   "cell_type": "code",
   "execution_count": 45,
   "metadata": {},
   "outputs": [],
   "source": [
    "df_calls_pr = df_calls_pr.query('duration < 22')"
   ]
  },
  {
   "cell_type": "markdown",
   "metadata": {},
   "source": [
    "вот теперь нормально!"
   ]
  },
  {
   "cell_type": "code",
   "execution_count": 46,
   "metadata": {},
   "outputs": [
    {
     "name": "stdout",
     "output_type": "stream",
     "text": [
      "       id  mb_used    trf_date  user_id year_month\n",
      "0  1000_0      113  2018-11-25     1000    2018-11\n",
      "1  1000_1     1053  2018-09-07     1000    2018-09\n",
      "2  1000_2     1198  2018-06-25     1000    2018-06\n",
      "3  1000_3      551  2018-08-22     1000    2018-08\n",
      "4  1000_4      303  2018-09-24     1000    2018-09\n"
     ]
    }
   ],
   "source": [
    "df_int_pr = prepared_traffic_table(df_int, df_users)\n",
    "print(df_int_pr.head())"
   ]
  },
  {
   "cell_type": "code",
   "execution_count": 47,
   "metadata": {},
   "outputs": [
    {
     "name": "stdout",
     "output_type": "stream",
     "text": [
      "count    129798.000000\n",
      "mean        426.581758\n",
      "std         255.596114\n",
      "min           1.000000\n",
      "25%         228.000000\n",
      "50%         401.000000\n",
      "75%         593.000000\n",
      "max        1725.000000\n",
      "Name: mb_used, dtype: float64\n"
     ]
    },
    {
     "data": {
      "image/png": "[encoded data removed]",
      "text/plain": [
       "<Figure size 432x288 with 1 Axes>"
      ]
     },
     "metadata": {
      "needs_background": "light"
     },
     "output_type": "display_data"
    }
   ],
   "source": [
    "# проверим на выбросы\n",
    "df_int_pr['mb_used'].hist(bins = 50)\n",
    "print(df_int_pr['mb_used'].describe())"
   ]
  },
  {
   "cell_type": "code",
   "execution_count": 48,
   "metadata": {},
   "outputs": [
    {
     "data": {
      "text/plain": [
       "<matplotlib.axes._subplots.AxesSubplot at 0x7fd2e5492668>"
      ]
     },
     "execution_count": 48,
     "metadata": {},
     "output_type": "execute_result"
    },
    {
     "data": {
      "image/png": "[encoded data removed]",
      "text/plain": [
       "<Figure size 576x432 with 1 Axes>"
      ]
     },
     "metadata": {
      "needs_background": "light"
     },
     "output_type": "display_data"
    }
   ],
   "source": [
    "fig = plt.figure(figsize=(8,6))\n",
    "ax = fig.gca()\n",
    "df_int_pr.boxplot(column='mb_used', ax=ax)"
   ]
  },
  {
   "cell_type": "code",
   "execution_count": 49,
   "metadata": {},
   "outputs": [],
   "source": [
    "df_int_pr = df_int_pr.query('mb_used < 1125')"
   ]
  },
  {
   "cell_type": "markdown",
   "metadata": {},
   "source": [
    "Ящик с усами показал выбросы, что придется обрезать "
   ]
  },
  {
   "cell_type": "markdown",
   "metadata": {},
   "source": [
    "#### Создадим функцию которая будет группировать траффик по месяцам"
   ]
  },
  {
   "cell_type": "code",
   "execution_count": 50,
   "metadata": {},
   "outputs": [],
   "source": [
    "def group_traffic_mounth(df):\n",
    "    \n",
    "    # Удалим столбик с датой\n",
    "    df.drop('trf_date', axis=1, inplace=True)\n",
    "    \n",
    "    # Сгруппируем всю деятельность для месяца \n",
    "    df = df.groupby(['user_id', \"year_month\"])\n",
    "    df = df.agg(sum).reset_index()\n",
    "    df.index.names = ['id']\n",
    "    \n",
    "    return df"
   ]
  },
  {
   "cell_type": "code",
   "execution_count": 51,
   "metadata": {},
   "outputs": [],
   "source": [
    "df_calls_pr_gr = group_traffic_mounth(df_calls_pr)\n",
    "df_msg_pr_gr = group_traffic_mounth(df_msg_pr)\n",
    "df_int_pr_gr = group_traffic_mounth(df_int_pr)"
   ]
  },
  {
   "cell_type": "code",
   "execution_count": 52,
   "metadata": {},
   "outputs": [
    {
     "name": "stdout",
     "output_type": "stream",
     "text": [
      "<class 'pandas.core.frame.DataFrame'>\n",
      "Int64Index: 3176 entries, 0 to 3175\n",
      "Data columns (total 19 columns):\n",
      "user_id                  3176 non-null int64\n",
      "age                      3176 non-null int64\n",
      "churn_date               3176 non-null object\n",
      "city                     3176 non-null object\n",
      "first_name               3176 non-null object\n",
      "last_name                3176 non-null object\n",
      "reg_date                 3176 non-null object\n",
      "tariff                   3176 non-null object\n",
      "year_month               3168 non-null object\n",
      "duration                 3168 non-null float64\n",
      "count_mesg               2673 non-null float64\n",
      "mb_used                  3155 non-null float64\n",
      "messages_included        3176 non-null int64\n",
      "mg_per_month_included    3176 non-null int64\n",
      "minutes_included         3176 non-null int64\n",
      "rub_monthly_fee          3176 non-null int64\n",
      "rub_per_gb               3176 non-null int64\n",
      "rub_per_message          3176 non-null int64\n",
      "rub_per_minute           3176 non-null int64\n",
      "dtypes: float64(3), int64(9), object(7)\n",
      "memory usage: 496.2+ KB\n"
     ]
    },
    {
     "data": {
      "text/html": [
       "<div>\n",
       "<style scoped>\n",
       "    .dataframe tbody tr th:only-of-type {\n",
       "        vertical-align: middle;\n",
       "    }\n",
       "\n",
       "    .dataframe tbody tr th {\n",
       "        vertical-align: top;\n",
       "    }\n",
       "\n",
       "    .dataframe thead th {\n",
       "        text-align: right;\n",
       "    }\n",
       "</style>\n",
       "<table border=\"1\" class=\"dataframe\">\n",
       "  <thead>\n",
       "    <tr style=\"text-align: right;\">\n",
       "      <th></th>\n",
       "      <th>user_id</th>\n",
       "      <th>age</th>\n",
       "      <th>churn_date</th>\n",
       "      <th>city</th>\n",
       "      <th>first_name</th>\n",
       "      <th>last_name</th>\n",
       "      <th>reg_date</th>\n",
       "      <th>tariff</th>\n",
       "      <th>year_month</th>\n",
       "      <th>duration</th>\n",
       "      <th>count_mesg</th>\n",
       "      <th>mb_used</th>\n",
       "      <th>messages_included</th>\n",
       "      <th>mg_per_month_included</th>\n",
       "      <th>minutes_included</th>\n",
       "      <th>rub_monthly_fee</th>\n",
       "      <th>rub_per_gb</th>\n",
       "      <th>rub_per_message</th>\n",
       "      <th>rub_per_minute</th>\n",
       "    </tr>\n",
       "  </thead>\n",
       "  <tbody>\n",
       "    <tr>\n",
       "      <th>0</th>\n",
       "      <td>1000</td>\n",
       "      <td>52</td>\n",
       "      <td>2019-01-01</td>\n",
       "      <td>Краснодар</td>\n",
       "      <td>Рафаил</td>\n",
       "      <td>Верещагин</td>\n",
       "      <td>2018-05-25</td>\n",
       "      <td>ultra</td>\n",
       "      <td>2018-05</td>\n",
       "      <td>159.0</td>\n",
       "      <td>22.0</td>\n",
       "      <td>2256.0</td>\n",
       "      <td>1000</td>\n",
       "      <td>30720</td>\n",
       "      <td>3000</td>\n",
       "      <td>1950</td>\n",
       "      <td>150</td>\n",
       "      <td>1</td>\n",
       "      <td>1</td>\n",
       "    </tr>\n",
       "    <tr>\n",
       "      <th>1</th>\n",
       "      <td>1000</td>\n",
       "      <td>52</td>\n",
       "      <td>2019-01-01</td>\n",
       "      <td>Краснодар</td>\n",
       "      <td>Рафаил</td>\n",
       "      <td>Верещагин</td>\n",
       "      <td>2018-05-25</td>\n",
       "      <td>ultra</td>\n",
       "      <td>2018-06</td>\n",
       "      <td>172.0</td>\n",
       "      <td>60.0</td>\n",
       "      <td>22059.0</td>\n",
       "      <td>1000</td>\n",
       "      <td>30720</td>\n",
       "      <td>3000</td>\n",
       "      <td>1950</td>\n",
       "      <td>150</td>\n",
       "      <td>1</td>\n",
       "      <td>1</td>\n",
       "    </tr>\n",
       "    <tr>\n",
       "      <th>2</th>\n",
       "      <td>1000</td>\n",
       "      <td>52</td>\n",
       "      <td>2019-01-01</td>\n",
       "      <td>Краснодар</td>\n",
       "      <td>Рафаил</td>\n",
       "      <td>Верещагин</td>\n",
       "      <td>2018-05-25</td>\n",
       "      <td>ultra</td>\n",
       "      <td>2018-07</td>\n",
       "      <td>340.0</td>\n",
       "      <td>75.0</td>\n",
       "      <td>14016.0</td>\n",
       "      <td>1000</td>\n",
       "      <td>30720</td>\n",
       "      <td>3000</td>\n",
       "      <td>1950</td>\n",
       "      <td>150</td>\n",
       "      <td>1</td>\n",
       "      <td>1</td>\n",
       "    </tr>\n",
       "    <tr>\n",
       "      <th>3</th>\n",
       "      <td>1000</td>\n",
       "      <td>52</td>\n",
       "      <td>2019-01-01</td>\n",
       "      <td>Краснодар</td>\n",
       "      <td>Рафаил</td>\n",
       "      <td>Верещагин</td>\n",
       "      <td>2018-05-25</td>\n",
       "      <td>ultra</td>\n",
       "      <td>2018-08</td>\n",
       "      <td>384.0</td>\n",
       "      <td>81.0</td>\n",
       "      <td>14070.0</td>\n",
       "      <td>1000</td>\n",
       "      <td>30720</td>\n",
       "      <td>3000</td>\n",
       "      <td>1950</td>\n",
       "      <td>150</td>\n",
       "      <td>1</td>\n",
       "      <td>1</td>\n",
       "    </tr>\n",
       "    <tr>\n",
       "      <th>4</th>\n",
       "      <td>1000</td>\n",
       "      <td>52</td>\n",
       "      <td>2019-01-01</td>\n",
       "      <td>Краснодар</td>\n",
       "      <td>Рафаил</td>\n",
       "      <td>Верещагин</td>\n",
       "      <td>2018-05-25</td>\n",
       "      <td>ultra</td>\n",
       "      <td>2018-09</td>\n",
       "      <td>466.0</td>\n",
       "      <td>57.0</td>\n",
       "      <td>14581.0</td>\n",
       "      <td>1000</td>\n",
       "      <td>30720</td>\n",
       "      <td>3000</td>\n",
       "      <td>1950</td>\n",
       "      <td>150</td>\n",
       "      <td>1</td>\n",
       "      <td>1</td>\n",
       "    </tr>\n",
       "  </tbody>\n",
       "</table>\n",
       "</div>"
      ],
      "text/plain": [
       "   user_id  age  churn_date       city first_name  last_name    reg_date  \\\n",
       "0     1000   52  2019-01-01  Краснодар     Рафаил  Верещагин  2018-05-25   \n",
       "1     1000   52  2019-01-01  Краснодар     Рафаил  Верещагин  2018-05-25   \n",
       "2     1000   52  2019-01-01  Краснодар     Рафаил  Верещагин  2018-05-25   \n",
       "3     1000   52  2019-01-01  Краснодар     Рафаил  Верещагин  2018-05-25   \n",
       "4     1000   52  2019-01-01  Краснодар     Рафаил  Верещагин  2018-05-25   \n",
       "\n",
       "  tariff year_month  duration  count_mesg  mb_used  messages_included  \\\n",
       "0  ultra    2018-05     159.0        22.0   2256.0               1000   \n",
       "1  ultra    2018-06     172.0        60.0  22059.0               1000   \n",
       "2  ultra    2018-07     340.0        75.0  14016.0               1000   \n",
       "3  ultra    2018-08     384.0        81.0  14070.0               1000   \n",
       "4  ultra    2018-09     466.0        57.0  14581.0               1000   \n",
       "\n",
       "   mg_per_month_included  minutes_included  rub_monthly_fee  rub_per_gb  \\\n",
       "0                  30720              3000             1950         150   \n",
       "1                  30720              3000             1950         150   \n",
       "2                  30720              3000             1950         150   \n",
       "3                  30720              3000             1950         150   \n",
       "4                  30720              3000             1950         150   \n",
       "\n",
       "   rub_per_message  rub_per_minute  \n",
       "0                1               1  \n",
       "1                1               1  \n",
       "2                1               1  \n",
       "3                1               1  \n",
       "4                1               1  "
      ]
     },
     "execution_count": 52,
     "metadata": {},
     "output_type": "execute_result"
    }
   ],
   "source": [
    "# Соединим таблицы в итоговую\n",
    "df = df_users.merge(df_calls_pr_gr, on='user_id', how='left')\n",
    "df = df.merge(df_msg_pr_gr, on=['user_id','year_month'], how='left')\n",
    "df = df.merge(df_int_pr_gr, on=['user_id','year_month'], how='left')\n",
    "df = df.merge(df_tar, on='tariff', how='inner')\n",
    "\n",
    "\n",
    "df.info()\n",
    "df.head()"
   ]
  },
  {
   "cell_type": "code",
   "execution_count": 53,
   "metadata": {},
   "outputs": [
    {
     "name": "stdout",
     "output_type": "stream",
     "text": [
      "user_id                    0\n",
      "age                        0\n",
      "churn_date                 0\n",
      "city                       0\n",
      "first_name                 0\n",
      "last_name                  0\n",
      "reg_date                   0\n",
      "tariff                     0\n",
      "year_month                 8\n",
      "duration                   8\n",
      "count_mesg               503\n",
      "mb_used                   21\n",
      "messages_included          0\n",
      "mg_per_month_included      0\n",
      "minutes_included           0\n",
      "rub_monthly_fee            0\n",
      "rub_per_gb                 0\n",
      "rub_per_message            0\n",
      "rub_per_minute             0\n",
      "dtype: int64\n"
     ]
    }
   ],
   "source": [
    "print(df.isnull().sum())"
   ]
  },
  {
   "cell_type": "code",
   "execution_count": 54,
   "metadata": {},
   "outputs": [
    {
     "name": "stdout",
     "output_type": "stream",
     "text": [
      "      user_id  age  churn_date              city first_name last_name  \\\n",
      "151      1091   36  2019-01-01  Набережные Челны       Вера   Суслова   \n",
      "197      1106   67  2019-01-01            Калуга      Исаак    Костин   \n",
      "228      1128   51  2018-12-23          Волжский     Ксения    Агаева   \n",
      "380      1231   63  2019-01-01         Чебоксары     Касьян   Авдюков   \n",
      "550      1328   44  2019-01-01          Мурманск      Рауль  Аркадьев   \n",
      "925      1473   18  2019-01-01        Красноярск    Николай   Лебедев   \n",
      "2586     1371   50  2018-12-30              Омск     Ириней  Трофимов   \n",
      "3131     1489   35  2019-01-01   Санкт-Петербург      Павел  Гончаров   \n",
      "\n",
      "        reg_date tariff year_month  duration  count_mesg  mb_used  \\\n",
      "151   2018-05-08  ultra        NaN       NaN         NaN      NaN   \n",
      "197   2018-04-26  ultra        NaN       NaN         NaN      NaN   \n",
      "228   2018-12-15  ultra        NaN       NaN         NaN      NaN   \n",
      "380   2018-05-23  ultra        NaN       NaN         NaN      NaN   \n",
      "550   2018-10-16  ultra        NaN       NaN         NaN      NaN   \n",
      "925   2018-08-05  ultra        NaN       NaN         NaN      NaN   \n",
      "2586  2018-12-25  smart        NaN       NaN         NaN      NaN   \n",
      "3131  2018-08-15  smart        NaN       NaN         NaN      NaN   \n",
      "\n",
      "      messages_included  mg_per_month_included  minutes_included  \\\n",
      "151                1000                  30720              3000   \n",
      "197                1000                  30720              3000   \n",
      "228                1000                  30720              3000   \n",
      "380                1000                  30720              3000   \n",
      "550                1000                  30720              3000   \n",
      "925                1000                  30720              3000   \n",
      "2586                 50                  15360               500   \n",
      "3131                 50                  15360               500   \n",
      "\n",
      "      rub_monthly_fee  rub_per_gb  rub_per_message  rub_per_minute  \n",
      "151              1950         150                1               1  \n",
      "197              1950         150                1               1  \n",
      "228              1950         150                1               1  \n",
      "380              1950         150                1               1  \n",
      "550              1950         150                1               1  \n",
      "925              1950         150                1               1  \n",
      "2586              550         200                3               3  \n",
      "3131              550         200                3               3  \n"
     ]
    }
   ],
   "source": [
    "filtered_df = df[df['year_month'].isnull()]\n",
    "print(filtered_df.head(8))"
   ]
  },
  {
   "cell_type": "code",
   "execution_count": 55,
   "metadata": {},
   "outputs": [
    {
     "name": "stdout",
     "output_type": "stream",
     "text": [
      "user_id                  0\n",
      "age                      0\n",
      "churn_date               0\n",
      "city                     0\n",
      "first_name               0\n",
      "last_name                0\n",
      "reg_date                 0\n",
      "tariff                   0\n",
      "year_month               0\n",
      "duration                 0\n",
      "count_mesg               0\n",
      "mb_used                  0\n",
      "messages_included        0\n",
      "mg_per_month_included    0\n",
      "minutes_included         0\n",
      "rub_monthly_fee          0\n",
      "rub_per_gb               0\n",
      "rub_per_message          0\n",
      "rub_per_minute           0\n",
      "dtype: int64\n"
     ]
    }
   ],
   "source": [
    "df['year_month'] = df['year_month'].fillna(df['reg_date'].apply(lambda x: str(x)[:7]))\n",
    "df['duration'] = df['duration'].fillna(0)\n",
    "df['count_mesg'] = df['count_mesg'].fillna(0)\n",
    "df['mb_used'] = df['mb_used'].fillna(0)\n",
    "\n",
    "print(df.isnull().sum())"
   ]
  },
  {
   "cell_type": "markdown",
   "metadata": {},
   "source": [
    "Понятно. Это те кто купил тариф и совсем им не пользовался, может даже забыл симку в телефон вставить их меньше одного процента и их можно смело удалять. Что касается других пропуской то тут все понятно множество людей не пользуется смс особенно в 2018 году ну а пожилие люди могут не пользоваться интернетом хотя это и сложно но и цифра небольшая. Всего 21 месяц кто-то из 500 человек не пользовался интернетом в учетом этих восьми человек. \n",
    "Что делать вообщем ясно!"
   ]
  },
  {
   "cell_type": "code",
   "execution_count": 56,
   "metadata": {},
   "outputs": [],
   "source": [
    "# Продолжаем готовить \n",
    "# Опять приведем столбцы к типу и удалим то что уже не нужно\n",
    "# Соединим имя хотя я не знаю зачем оно мне может быть была бы функция которая определяла пол по именни,\n",
    "# но это вроде не про это исследование\n",
    "\n",
    "df['full_name'] = df['first_name'] + ' ' + df['last_name']\n",
    "df['count_mesg'] = df['count_mesg'].fillna(0)\n",
    "df['mb_used'] = df['mb_used'].fillna(0)\n",
    "\n",
    "df['duration'] = df['duration'].astype('int')\n",
    "df['count_mesg'] = df['count_mesg'].astype('int')\n",
    "df['mb_used'] = df['mb_used'].astype('int')\n",
    "\n",
    "df.drop('first_name', axis=1, inplace=True)\n",
    "df.drop('last_name', axis=1, inplace=True)\n",
    "\n",
    "df['month'] = pd.DatetimeIndex(df['year_month']).month\n",
    "df['gb_used'] = np.ceil(df['mb_used']/1024).astype('int')"
   ]
  },
  {
   "cell_type": "code",
   "execution_count": 57,
   "metadata": {
    "scrolled": true
   },
   "outputs": [
    {
     "data": {
      "text/html": [
       "<div>\n",
       "<style scoped>\n",
       "    .dataframe tbody tr th:only-of-type {\n",
       "        vertical-align: middle;\n",
       "    }\n",
       "\n",
       "    .dataframe tbody tr th {\n",
       "        vertical-align: top;\n",
       "    }\n",
       "\n",
       "    .dataframe thead th {\n",
       "        text-align: right;\n",
       "    }\n",
       "</style>\n",
       "<table border=\"1\" class=\"dataframe\">\n",
       "  <thead>\n",
       "    <tr style=\"text-align: right;\">\n",
       "      <th></th>\n",
       "      <th>user_id</th>\n",
       "      <th>age</th>\n",
       "      <th>churn_date</th>\n",
       "      <th>city</th>\n",
       "      <th>reg_date</th>\n",
       "      <th>tariff</th>\n",
       "      <th>year_month</th>\n",
       "      <th>duration</th>\n",
       "      <th>count_mesg</th>\n",
       "      <th>mb_used</th>\n",
       "      <th>messages_included</th>\n",
       "      <th>mg_per_month_included</th>\n",
       "      <th>minutes_included</th>\n",
       "      <th>rub_monthly_fee</th>\n",
       "      <th>rub_per_gb</th>\n",
       "      <th>rub_per_message</th>\n",
       "      <th>rub_per_minute</th>\n",
       "      <th>full_name</th>\n",
       "      <th>month</th>\n",
       "      <th>gb_used</th>\n",
       "    </tr>\n",
       "  </thead>\n",
       "  <tbody>\n",
       "    <tr>\n",
       "      <th>0</th>\n",
       "      <td>1000</td>\n",
       "      <td>52</td>\n",
       "      <td>2019-01-01</td>\n",
       "      <td>Краснодар</td>\n",
       "      <td>2018-05-25</td>\n",
       "      <td>ultra</td>\n",
       "      <td>2018-05</td>\n",
       "      <td>159</td>\n",
       "      <td>22</td>\n",
       "      <td>2256</td>\n",
       "      <td>1000</td>\n",
       "      <td>30720</td>\n",
       "      <td>3000</td>\n",
       "      <td>1950</td>\n",
       "      <td>150</td>\n",
       "      <td>1</td>\n",
       "      <td>1</td>\n",
       "      <td>Рафаил Верещагин</td>\n",
       "      <td>5</td>\n",
       "      <td>3</td>\n",
       "    </tr>\n",
       "    <tr>\n",
       "      <th>1</th>\n",
       "      <td>1000</td>\n",
       "      <td>52</td>\n",
       "      <td>2019-01-01</td>\n",
       "      <td>Краснодар</td>\n",
       "      <td>2018-05-25</td>\n",
       "      <td>ultra</td>\n",
       "      <td>2018-06</td>\n",
       "      <td>172</td>\n",
       "      <td>60</td>\n",
       "      <td>22059</td>\n",
       "      <td>1000</td>\n",
       "      <td>30720</td>\n",
       "      <td>3000</td>\n",
       "      <td>1950</td>\n",
       "      <td>150</td>\n",
       "      <td>1</td>\n",
       "      <td>1</td>\n",
       "      <td>Рафаил Верещагин</td>\n",
       "      <td>6</td>\n",
       "      <td>22</td>\n",
       "    </tr>\n",
       "    <tr>\n",
       "      <th>2</th>\n",
       "      <td>1000</td>\n",
       "      <td>52</td>\n",
       "      <td>2019-01-01</td>\n",
       "      <td>Краснодар</td>\n",
       "      <td>2018-05-25</td>\n",
       "      <td>ultra</td>\n",
       "      <td>2018-07</td>\n",
       "      <td>340</td>\n",
       "      <td>75</td>\n",
       "      <td>14016</td>\n",
       "      <td>1000</td>\n",
       "      <td>30720</td>\n",
       "      <td>3000</td>\n",
       "      <td>1950</td>\n",
       "      <td>150</td>\n",
       "      <td>1</td>\n",
       "      <td>1</td>\n",
       "      <td>Рафаил Верещагин</td>\n",
       "      <td>7</td>\n",
       "      <td>14</td>\n",
       "    </tr>\n",
       "    <tr>\n",
       "      <th>3</th>\n",
       "      <td>1000</td>\n",
       "      <td>52</td>\n",
       "      <td>2019-01-01</td>\n",
       "      <td>Краснодар</td>\n",
       "      <td>2018-05-25</td>\n",
       "      <td>ultra</td>\n",
       "      <td>2018-08</td>\n",
       "      <td>384</td>\n",
       "      <td>81</td>\n",
       "      <td>14070</td>\n",
       "      <td>1000</td>\n",
       "      <td>30720</td>\n",
       "      <td>3000</td>\n",
       "      <td>1950</td>\n",
       "      <td>150</td>\n",
       "      <td>1</td>\n",
       "      <td>1</td>\n",
       "      <td>Рафаил Верещагин</td>\n",
       "      <td>8</td>\n",
       "      <td>14</td>\n",
       "    </tr>\n",
       "    <tr>\n",
       "      <th>4</th>\n",
       "      <td>1000</td>\n",
       "      <td>52</td>\n",
       "      <td>2019-01-01</td>\n",
       "      <td>Краснодар</td>\n",
       "      <td>2018-05-25</td>\n",
       "      <td>ultra</td>\n",
       "      <td>2018-09</td>\n",
       "      <td>466</td>\n",
       "      <td>57</td>\n",
       "      <td>14581</td>\n",
       "      <td>1000</td>\n",
       "      <td>30720</td>\n",
       "      <td>3000</td>\n",
       "      <td>1950</td>\n",
       "      <td>150</td>\n",
       "      <td>1</td>\n",
       "      <td>1</td>\n",
       "      <td>Рафаил Верещагин</td>\n",
       "      <td>9</td>\n",
       "      <td>15</td>\n",
       "    </tr>\n",
       "  </tbody>\n",
       "</table>\n",
       "</div>"
      ],
      "text/plain": [
       "   user_id  age  churn_date       city    reg_date tariff year_month  \\\n",
       "0     1000   52  2019-01-01  Краснодар  2018-05-25  ultra    2018-05   \n",
       "1     1000   52  2019-01-01  Краснодар  2018-05-25  ultra    2018-06   \n",
       "2     1000   52  2019-01-01  Краснодар  2018-05-25  ultra    2018-07   \n",
       "3     1000   52  2019-01-01  Краснодар  2018-05-25  ultra    2018-08   \n",
       "4     1000   52  2019-01-01  Краснодар  2018-05-25  ultra    2018-09   \n",
       "\n",
       "   duration  count_mesg  mb_used  messages_included  mg_per_month_included  \\\n",
       "0       159          22     2256               1000                  30720   \n",
       "1       172          60    22059               1000                  30720   \n",
       "2       340          75    14016               1000                  30720   \n",
       "3       384          81    14070               1000                  30720   \n",
       "4       466          57    14581               1000                  30720   \n",
       "\n",
       "   minutes_included  rub_monthly_fee  rub_per_gb  rub_per_message  \\\n",
       "0              3000             1950         150                1   \n",
       "1              3000             1950         150                1   \n",
       "2              3000             1950         150                1   \n",
       "3              3000             1950         150                1   \n",
       "4              3000             1950         150                1   \n",
       "\n",
       "   rub_per_minute         full_name  month  gb_used  \n",
       "0               1  Рафаил Верещагин      5        3  \n",
       "1               1  Рафаил Верещагин      6       22  \n",
       "2               1  Рафаил Верещагин      7       14  \n",
       "3               1  Рафаил Верещагин      8       14  \n",
       "4               1  Рафаил Верещагин      9       15  "
      ]
     },
     "execution_count": 57,
     "metadata": {},
     "output_type": "execute_result"
    }
   ],
   "source": [
    "df.head()"
   ]
  },
  {
   "cell_type": "markdown",
   "metadata": {},
   "source": [
    "### Теперь можно найти перерасходы"
   ]
  },
  {
   "cell_type": "markdown",
   "metadata": {},
   "source": [
    "Конечно высчитаем сколько человек заплатил с перерасходом в месяц.\n",
    "    * столбец upr_limit_duration, upr_limit_msg, upr_limit_gb, \n",
    "    * создадим столбик full_pay_mnt, где посчитаем сколько он заплатил с учетом перерасхода"
   ]
  },
  {
   "cell_type": "code",
   "execution_count": 58,
   "metadata": {},
   "outputs": [],
   "source": [
    "# Вычислим перерасход для траффика интернета\n",
    "def know_upr_limit_mb(x):\n",
    "    \n",
    "    upr_limit = x['mg_per_month_included'] - x['mb_used']\n",
    "    \n",
    "    if upr_limit < 0:\n",
    "        upr_limit = upr_limit * (-1)\n",
    "        upr_limit = upr_limit / 1024\n",
    "        upr_limit = np.ceil(upr_limit)\n",
    "    else:\n",
    "        upr_limit = 0\n",
    "    \n",
    "    return int(upr_limit)\n",
    "\n",
    "\n",
    "# Вычислим перерасход для сообщений\n",
    "def know_upr_limit_msg(x):\n",
    "    \n",
    "    upr_limit = x['messages_included'] - x['count_mesg']\n",
    "    \n",
    "    if upr_limit < 0:\n",
    "        upr_limit = upr_limit * (-1)\n",
    "    else:\n",
    "        upr_limit = 0\n",
    "    \n",
    "    return int(upr_limit)\n",
    "\n",
    "# Вычислим перерасход для звонков\n",
    "def know_upr_limit_duration(x):\n",
    "    \n",
    "    upr_limit = x['minutes_included'] - x['duration']\n",
    "    \n",
    "    if upr_limit < 0:\n",
    "        upr_limit = upr_limit * (-1)\n",
    "    else:\n",
    "        upr_limit = 0\n",
    "\n",
    "    return int(upr_limit)\n"
   ]
  },
  {
   "cell_type": "code",
   "execution_count": 59,
   "metadata": {},
   "outputs": [],
   "source": [
    "df['upr_limit_gb'] = df.apply(know_upr_limit_mb, axis=1)\n",
    "df['upr_limit_msg'] = df.apply(know_upr_limit_msg, axis=1)\n",
    "df['upr_limit_duration'] = df.apply(know_upr_limit_duration, axis=1)"
   ]
  },
  {
   "cell_type": "code",
   "execution_count": 60,
   "metadata": {},
   "outputs": [],
   "source": [
    "# тут получится длинно но надо будет все сложить в столбик. Сколько человек заплатил всего в месяц.\n",
    "df['full_pay_mnt'] = (df['upr_limit_gb'] * df['rub_per_gb']) + (df['upr_limit_msg'] * df['rub_per_message']) + (df['upr_limit_duration'] * df['rub_per_minute']) + df['rub_monthly_fee']"
   ]
  },
  {
   "cell_type": "code",
   "execution_count": 61,
   "metadata": {},
   "outputs": [
    {
     "name": "stdout",
     "output_type": "stream",
     "text": [
      "<class 'pandas.core.frame.DataFrame'>\n",
      "Int64Index: 3176 entries, 0 to 3175\n",
      "Data columns (total 24 columns):\n",
      "user_id                  3176 non-null int64\n",
      "age                      3176 non-null int64\n",
      "churn_date               3176 non-null object\n",
      "city                     3176 non-null object\n",
      "reg_date                 3176 non-null object\n",
      "tariff                   3176 non-null object\n",
      "year_month               3176 non-null object\n",
      "duration                 3176 non-null int64\n",
      "count_mesg               3176 non-null int64\n",
      "mb_used                  3176 non-null int64\n",
      "messages_included        3176 non-null int64\n",
      "mg_per_month_included    3176 non-null int64\n",
      "minutes_included         3176 non-null int64\n",
      "rub_monthly_fee          3176 non-null int64\n",
      "rub_per_gb               3176 non-null int64\n",
      "rub_per_message          3176 non-null int64\n",
      "rub_per_minute           3176 non-null int64\n",
      "full_name                3176 non-null object\n",
      "month                    3176 non-null int64\n",
      "gb_used                  3176 non-null int64\n",
      "upr_limit_gb             3176 non-null int64\n",
      "upr_limit_msg            3176 non-null int64\n",
      "upr_limit_duration       3176 non-null int64\n",
      "full_pay_mnt             3176 non-null int64\n",
      "dtypes: int64(18), object(6)\n",
      "memory usage: 620.3+ KB\n"
     ]
    },
    {
     "data": {
      "text/html": [
       "<div>\n",
       "<style scoped>\n",
       "    .dataframe tbody tr th:only-of-type {\n",
       "        vertical-align: middle;\n",
       "    }\n",
       "\n",
       "    .dataframe tbody tr th {\n",
       "        vertical-align: top;\n",
       "    }\n",
       "\n",
       "    .dataframe thead th {\n",
       "        text-align: right;\n",
       "    }\n",
       "</style>\n",
       "<table border=\"1\" class=\"dataframe\">\n",
       "  <thead>\n",
       "    <tr style=\"text-align: right;\">\n",
       "      <th></th>\n",
       "      <th>user_id</th>\n",
       "      <th>age</th>\n",
       "      <th>churn_date</th>\n",
       "      <th>city</th>\n",
       "      <th>reg_date</th>\n",
       "      <th>tariff</th>\n",
       "      <th>year_month</th>\n",
       "      <th>duration</th>\n",
       "      <th>count_mesg</th>\n",
       "      <th>mb_used</th>\n",
       "      <th>...</th>\n",
       "      <th>rub_per_gb</th>\n",
       "      <th>rub_per_message</th>\n",
       "      <th>rub_per_minute</th>\n",
       "      <th>full_name</th>\n",
       "      <th>month</th>\n",
       "      <th>gb_used</th>\n",
       "      <th>upr_limit_gb</th>\n",
       "      <th>upr_limit_msg</th>\n",
       "      <th>upr_limit_duration</th>\n",
       "      <th>full_pay_mnt</th>\n",
       "    </tr>\n",
       "  </thead>\n",
       "  <tbody>\n",
       "    <tr>\n",
       "      <th>0</th>\n",
       "      <td>1000</td>\n",
       "      <td>52</td>\n",
       "      <td>2019-01-01</td>\n",
       "      <td>Краснодар</td>\n",
       "      <td>2018-05-25</td>\n",
       "      <td>ultra</td>\n",
       "      <td>2018-05</td>\n",
       "      <td>159</td>\n",
       "      <td>22</td>\n",
       "      <td>2256</td>\n",
       "      <td>...</td>\n",
       "      <td>150</td>\n",
       "      <td>1</td>\n",
       "      <td>1</td>\n",
       "      <td>Рафаил Верещагин</td>\n",
       "      <td>5</td>\n",
       "      <td>3</td>\n",
       "      <td>0</td>\n",
       "      <td>0</td>\n",
       "      <td>0</td>\n",
       "      <td>1950</td>\n",
       "    </tr>\n",
       "    <tr>\n",
       "      <th>1</th>\n",
       "      <td>1000</td>\n",
       "      <td>52</td>\n",
       "      <td>2019-01-01</td>\n",
       "      <td>Краснодар</td>\n",
       "      <td>2018-05-25</td>\n",
       "      <td>ultra</td>\n",
       "      <td>2018-06</td>\n",
       "      <td>172</td>\n",
       "      <td>60</td>\n",
       "      <td>22059</td>\n",
       "      <td>...</td>\n",
       "      <td>150</td>\n",
       "      <td>1</td>\n",
       "      <td>1</td>\n",
       "      <td>Рафаил Верещагин</td>\n",
       "      <td>6</td>\n",
       "      <td>22</td>\n",
       "      <td>0</td>\n",
       "      <td>0</td>\n",
       "      <td>0</td>\n",
       "      <td>1950</td>\n",
       "    </tr>\n",
       "    <tr>\n",
       "      <th>2</th>\n",
       "      <td>1000</td>\n",
       "      <td>52</td>\n",
       "      <td>2019-01-01</td>\n",
       "      <td>Краснодар</td>\n",
       "      <td>2018-05-25</td>\n",
       "      <td>ultra</td>\n",
       "      <td>2018-07</td>\n",
       "      <td>340</td>\n",
       "      <td>75</td>\n",
       "      <td>14016</td>\n",
       "      <td>...</td>\n",
       "      <td>150</td>\n",
       "      <td>1</td>\n",
       "      <td>1</td>\n",
       "      <td>Рафаил Верещагин</td>\n",
       "      <td>7</td>\n",
       "      <td>14</td>\n",
       "      <td>0</td>\n",
       "      <td>0</td>\n",
       "      <td>0</td>\n",
       "      <td>1950</td>\n",
       "    </tr>\n",
       "    <tr>\n",
       "      <th>3</th>\n",
       "      <td>1000</td>\n",
       "      <td>52</td>\n",
       "      <td>2019-01-01</td>\n",
       "      <td>Краснодар</td>\n",
       "      <td>2018-05-25</td>\n",
       "      <td>ultra</td>\n",
       "      <td>2018-08</td>\n",
       "      <td>384</td>\n",
       "      <td>81</td>\n",
       "      <td>14070</td>\n",
       "      <td>...</td>\n",
       "      <td>150</td>\n",
       "      <td>1</td>\n",
       "      <td>1</td>\n",
       "      <td>Рафаил Верещагин</td>\n",
       "      <td>8</td>\n",
       "      <td>14</td>\n",
       "      <td>0</td>\n",
       "      <td>0</td>\n",
       "      <td>0</td>\n",
       "      <td>1950</td>\n",
       "    </tr>\n",
       "    <tr>\n",
       "      <th>4</th>\n",
       "      <td>1000</td>\n",
       "      <td>52</td>\n",
       "      <td>2019-01-01</td>\n",
       "      <td>Краснодар</td>\n",
       "      <td>2018-05-25</td>\n",
       "      <td>ultra</td>\n",
       "      <td>2018-09</td>\n",
       "      <td>466</td>\n",
       "      <td>57</td>\n",
       "      <td>14581</td>\n",
       "      <td>...</td>\n",
       "      <td>150</td>\n",
       "      <td>1</td>\n",
       "      <td>1</td>\n",
       "      <td>Рафаил Верещагин</td>\n",
       "      <td>9</td>\n",
       "      <td>15</td>\n",
       "      <td>0</td>\n",
       "      <td>0</td>\n",
       "      <td>0</td>\n",
       "      <td>1950</td>\n",
       "    </tr>\n",
       "  </tbody>\n",
       "</table>\n",
       "<p>5 rows × 24 columns</p>\n",
       "</div>"
      ],
      "text/plain": [
       "   user_id  age  churn_date       city    reg_date tariff year_month  \\\n",
       "0     1000   52  2019-01-01  Краснодар  2018-05-25  ultra    2018-05   \n",
       "1     1000   52  2019-01-01  Краснодар  2018-05-25  ultra    2018-06   \n",
       "2     1000   52  2019-01-01  Краснодар  2018-05-25  ultra    2018-07   \n",
       "3     1000   52  2019-01-01  Краснодар  2018-05-25  ultra    2018-08   \n",
       "4     1000   52  2019-01-01  Краснодар  2018-05-25  ultra    2018-09   \n",
       "\n",
       "   duration  count_mesg  mb_used  ...  rub_per_gb  rub_per_message  \\\n",
       "0       159          22     2256  ...         150                1   \n",
       "1       172          60    22059  ...         150                1   \n",
       "2       340          75    14016  ...         150                1   \n",
       "3       384          81    14070  ...         150                1   \n",
       "4       466          57    14581  ...         150                1   \n",
       "\n",
       "   rub_per_minute         full_name  month  gb_used  upr_limit_gb  \\\n",
       "0               1  Рафаил Верещагин      5        3             0   \n",
       "1               1  Рафаил Верещагин      6       22             0   \n",
       "2               1  Рафаил Верещагин      7       14             0   \n",
       "3               1  Рафаил Верещагин      8       14             0   \n",
       "4               1  Рафаил Верещагин      9       15             0   \n",
       "\n",
       "  upr_limit_msg  upr_limit_duration  full_pay_mnt  \n",
       "0             0                   0          1950  \n",
       "1             0                   0          1950  \n",
       "2             0                   0          1950  \n",
       "3             0                   0          1950  \n",
       "4             0                   0          1950  \n",
       "\n",
       "[5 rows x 24 columns]"
      ]
     },
     "execution_count": 61,
     "metadata": {},
     "output_type": "execute_result"
    }
   ],
   "source": [
    "df.info()\n",
    "df.head()"
   ]
  },
  {
   "cell_type": "code",
   "execution_count": 62,
   "metadata": {},
   "outputs": [],
   "source": [
    "# последний штрих. удалю всё, что мне не надо и что касается тарифа. Мы и так знаем эти данные\n",
    "df.drop('messages_included', axis=1, inplace=True)\n",
    "df.drop('mg_per_month_included', axis=1, inplace=True)\n",
    "df.drop('minutes_included', axis=1, inplace=True)\n",
    "df.drop('rub_monthly_fee', axis=1, inplace=True)\n",
    "df.drop('rub_per_gb', axis=1, inplace=True)\n",
    "df.drop('rub_per_message', axis=1, inplace=True)\n",
    "df.drop('rub_per_minute', axis=1, inplace=True)\n",
    "df.drop('reg_date', axis=1, inplace=True)"
   ]
  },
  {
   "cell_type": "code",
   "execution_count": 63,
   "metadata": {},
   "outputs": [
    {
     "data": {
      "text/html": [
       "<div>\n",
       "<style scoped>\n",
       "    .dataframe tbody tr th:only-of-type {\n",
       "        vertical-align: middle;\n",
       "    }\n",
       "\n",
       "    .dataframe tbody tr th {\n",
       "        vertical-align: top;\n",
       "    }\n",
       "\n",
       "    .dataframe thead th {\n",
       "        text-align: right;\n",
       "    }\n",
       "</style>\n",
       "<table border=\"1\" class=\"dataframe\">\n",
       "  <thead>\n",
       "    <tr style=\"text-align: right;\">\n",
       "      <th></th>\n",
       "      <th>user_id</th>\n",
       "      <th>age</th>\n",
       "      <th>churn_date</th>\n",
       "      <th>city</th>\n",
       "      <th>tariff</th>\n",
       "      <th>year_month</th>\n",
       "      <th>duration</th>\n",
       "      <th>count_mesg</th>\n",
       "      <th>mb_used</th>\n",
       "      <th>full_name</th>\n",
       "      <th>month</th>\n",
       "      <th>gb_used</th>\n",
       "      <th>upr_limit_gb</th>\n",
       "      <th>upr_limit_msg</th>\n",
       "      <th>upr_limit_duration</th>\n",
       "      <th>full_pay_mnt</th>\n",
       "    </tr>\n",
       "  </thead>\n",
       "  <tbody>\n",
       "    <tr>\n",
       "      <th>0</th>\n",
       "      <td>1000</td>\n",
       "      <td>52</td>\n",
       "      <td>2019-01-01</td>\n",
       "      <td>Краснодар</td>\n",
       "      <td>ultra</td>\n",
       "      <td>2018-05</td>\n",
       "      <td>159</td>\n",
       "      <td>22</td>\n",
       "      <td>2256</td>\n",
       "      <td>Рафаил Верещагин</td>\n",
       "      <td>5</td>\n",
       "      <td>3</td>\n",
       "      <td>0</td>\n",
       "      <td>0</td>\n",
       "      <td>0</td>\n",
       "      <td>1950</td>\n",
       "    </tr>\n",
       "    <tr>\n",
       "      <th>1</th>\n",
       "      <td>1000</td>\n",
       "      <td>52</td>\n",
       "      <td>2019-01-01</td>\n",
       "      <td>Краснодар</td>\n",
       "      <td>ultra</td>\n",
       "      <td>2018-06</td>\n",
       "      <td>172</td>\n",
       "      <td>60</td>\n",
       "      <td>22059</td>\n",
       "      <td>Рафаил Верещагин</td>\n",
       "      <td>6</td>\n",
       "      <td>22</td>\n",
       "      <td>0</td>\n",
       "      <td>0</td>\n",
       "      <td>0</td>\n",
       "      <td>1950</td>\n",
       "    </tr>\n",
       "    <tr>\n",
       "      <th>2</th>\n",
       "      <td>1000</td>\n",
       "      <td>52</td>\n",
       "      <td>2019-01-01</td>\n",
       "      <td>Краснодар</td>\n",
       "      <td>ultra</td>\n",
       "      <td>2018-07</td>\n",
       "      <td>340</td>\n",
       "      <td>75</td>\n",
       "      <td>14016</td>\n",
       "      <td>Рафаил Верещагин</td>\n",
       "      <td>7</td>\n",
       "      <td>14</td>\n",
       "      <td>0</td>\n",
       "      <td>0</td>\n",
       "      <td>0</td>\n",
       "      <td>1950</td>\n",
       "    </tr>\n",
       "    <tr>\n",
       "      <th>3</th>\n",
       "      <td>1000</td>\n",
       "      <td>52</td>\n",
       "      <td>2019-01-01</td>\n",
       "      <td>Краснодар</td>\n",
       "      <td>ultra</td>\n",
       "      <td>2018-08</td>\n",
       "      <td>384</td>\n",
       "      <td>81</td>\n",
       "      <td>14070</td>\n",
       "      <td>Рафаил Верещагин</td>\n",
       "      <td>8</td>\n",
       "      <td>14</td>\n",
       "      <td>0</td>\n",
       "      <td>0</td>\n",
       "      <td>0</td>\n",
       "      <td>1950</td>\n",
       "    </tr>\n",
       "    <tr>\n",
       "      <th>4</th>\n",
       "      <td>1000</td>\n",
       "      <td>52</td>\n",
       "      <td>2019-01-01</td>\n",
       "      <td>Краснодар</td>\n",
       "      <td>ultra</td>\n",
       "      <td>2018-09</td>\n",
       "      <td>466</td>\n",
       "      <td>57</td>\n",
       "      <td>14581</td>\n",
       "      <td>Рафаил Верещагин</td>\n",
       "      <td>9</td>\n",
       "      <td>15</td>\n",
       "      <td>0</td>\n",
       "      <td>0</td>\n",
       "      <td>0</td>\n",
       "      <td>1950</td>\n",
       "    </tr>\n",
       "  </tbody>\n",
       "</table>\n",
       "</div>"
      ],
      "text/plain": [
       "   user_id  age  churn_date       city tariff year_month  duration  \\\n",
       "0     1000   52  2019-01-01  Краснодар  ultra    2018-05       159   \n",
       "1     1000   52  2019-01-01  Краснодар  ultra    2018-06       172   \n",
       "2     1000   52  2019-01-01  Краснодар  ultra    2018-07       340   \n",
       "3     1000   52  2019-01-01  Краснодар  ultra    2018-08       384   \n",
       "4     1000   52  2019-01-01  Краснодар  ultra    2018-09       466   \n",
       "\n",
       "   count_mesg  mb_used         full_name  month  gb_used  upr_limit_gb  \\\n",
       "0          22     2256  Рафаил Верещагин      5        3             0   \n",
       "1          60    22059  Рафаил Верещагин      6       22             0   \n",
       "2          75    14016  Рафаил Верещагин      7       14             0   \n",
       "3          81    14070  Рафаил Верещагин      8       14             0   \n",
       "4          57    14581  Рафаил Верещагин      9       15             0   \n",
       "\n",
       "   upr_limit_msg  upr_limit_duration  full_pay_mnt  \n",
       "0              0                   0          1950  \n",
       "1              0                   0          1950  \n",
       "2              0                   0          1950  \n",
       "3              0                   0          1950  \n",
       "4              0                   0          1950  "
      ]
     },
     "execution_count": 63,
     "metadata": {},
     "output_type": "execute_result"
    }
   ],
   "source": [
    "df.head()"
   ]
  },
  {
   "cell_type": "markdown",
   "metadata": {},
   "source": [
    "## Вывод по предобработки данных"
   ]
  },
  {
   "cell_type": "markdown",
   "metadata": {},
   "source": [
    "Из поставленного задания было ясно, что разные массивы нужно привести к одному по которому мы сможем ответить на большинство вопросов которые ставятся в этом задание. \n",
    "Итоговая таблица была приготовлена с месячными данными по каждому пользователю. Обработки на выбросы была сделана на этапе построчных записей с использованием визуальной схемы \"ящика с усам\" по которому хорошо видно выбросы.\n",
    "В заключительной части были посчитаны числовые итоговые показатели и добавлены в таблицу."
   ]
  },
  {
   "cell_type": "markdown",
   "metadata": {},
   "source": [
    "# Анализ данных клиентов"
   ]
  },
  {
   "cell_type": "markdown",
   "metadata": {},
   "source": [
    "Вопросы: Опишите поведение клиентов оператора, исходя из выборки. Сколько минут разговора, сколько сообщений и какой объём интернет-трафика требуется пользователям каждого тарифа в месяц? Посчитайте среднее количество, дисперсию и стандартное отклонение. Постройте гистограммы. Опишите распределения."
   ]
  },
  {
   "cell_type": "markdown",
   "metadata": {},
   "source": [
    "Для описания заданых вопросов, итоговый датафрейм поделим на тарифы. Напишим функции которые смогут высчитать , среднее, дисперсию и стандартное отклонение. Далее эти цифры понадобятся нам для проверки стандартного распределения.\n",
    "Постоим графики из основных числовых показателей."
   ]
  },
  {
   "cell_type": "code",
   "execution_count": 64,
   "metadata": {},
   "outputs": [],
   "source": [
    "# Для дальнейшего анализа разделим массив данных на два тарифа\n",
    "df_ultra = df.query('tariff == \"ultra\"')\n",
    "df_smart = df.query('tariff == \"smart\"')"
   ]
  },
  {
   "cell_type": "code",
   "execution_count": 65,
   "metadata": {},
   "outputs": [],
   "source": [
    "# нам надо построить функции среднее значение, диссперсию и стандартное отклонение\n",
    "# для третьего параметра укажим, что если 1 - среднее значение, 2 - диссперсия, 3 - стандартное отклонение.\n",
    "\n",
    "def df_fun_exp(df, name_column, num_func):\n",
    "    \n",
    "    prp_decimal = float(0.0)\n",
    "    \n",
    "    if num_func == 1:\n",
    "        prp_decimal = df[name_column].mean()\n",
    "    elif num_func == 2:\n",
    "        prp_decimal = np.var(df[name_column])\n",
    "    elif num_func == 3:\n",
    "        prp_decimal = np.std(df[name_column])\n",
    "        \n",
    "    return prp_decimal\n",
    "\n",
    "# tariff: 1 - ultra, 2 - smart, package_type: 1 - 'минуты разговора', 2 - \"интерент траффик\", 3 - \"сообщения\"\n",
    "# что если 1 - среднее значение, 2 - диссперсия, 3 - стандартное отклонение.\n",
    "def print_exp(df,  tariff, package_type, num_func):\n",
    "\n",
    "    count_func = 0\n",
    "    name_func = ''\n",
    "    \n",
    "    if num_func == 1:\n",
    "        name_func = 'среднее значение'\n",
    "    elif num_func == 2:\n",
    "        name_func = 'дисперсия'\n",
    "    elif num_func == 3:\n",
    "        name_func = 'стандартное отклонение'    \n",
    "    \n",
    "    if package_type == 1:\n",
    "        count_func = df_fun_exp(df, 'duration', num_func)\n",
    "        package_type = 'минуты разговора'\n",
    "    elif package_type == 2:\n",
    "        count_func = df_fun_exp(df, 'gb_used', num_func)\n",
    "        package_type = 'интерент траффик'\n",
    "    elif package_type == 3:\n",
    "        count_func = df_fun_exp(df, 'count_mesg', num_func)\n",
    "        package_type = 'сообщения'\n",
    "    \n",
    "    print('Для тарифа \"{0}\" {1} из траффика пакета \"{2}\" ровняется: {3}'.format\n",
    "                                                      (tariff,name_func,package_type,count_func))\n",
    "    "
   ]
  },
  {
   "cell_type": "code",
   "execution_count": 66,
   "metadata": {},
   "outputs": [
    {
     "name": "stdout",
     "output_type": "stream",
     "text": [
      "Для тарифа \"ultra\" среднее значение из траффика пакета \"минуты разговора\" ровняется: 514.803777544596\n",
      "Для тарифа \"smart\" среднее значение из траффика пакета \"минуты разговора\" ровняется: 397.03463787674315\n",
      "\n",
      "Для тарифа \"ultra\" среднее значение из траффика пакета \"интерент траффик\" ровняется: 18.535152151101784\n",
      "Для тарифа \"smart\" среднее значение из траффика пакета \"интерент траффик\" ровняется: 16.172739541160595\n",
      "\n",
      "Для тарифа \"ultra\" среднее значение из траффика пакета \"сообщения\" ровняется: 48.45225603357817\n",
      "Для тарифа \"smart\" среднее значение из траффика пакета \"сообщения\" ровняется: 33.3621232568601\n",
      "\n",
      "***Все данные приведены для анализа данных по месяцам\n",
      "***Интернет траффик считается в гигабайтах\n"
     ]
    }
   ],
   "source": [
    "# Среднее значение\n",
    "print_exp(df_ultra, 'ultra', 1, 1)\n",
    "print_exp(df_smart, 'smart', 1, 1)\n",
    "print()\n",
    "\n",
    "print_exp(df_ultra, 'ultra', 2, 1)\n",
    "print_exp(df_smart, 'smart', 2, 1)\n",
    "print()\n",
    "\n",
    "print_exp(df_ultra, 'ultra', 3, 1)\n",
    "print_exp(df_smart, 'smart', 3, 1)\n",
    "print()\n",
    "\n",
    "print('***Все данные приведены для анализа данных по месяцам')\n",
    "print('***Интернет траффик считается в гигабайтах')"
   ]
  },
  {
   "cell_type": "markdown",
   "metadata": {},
   "source": [
    "**_Из показаний средней видно, что пользователи с тарифом смарт более бережливы так как их цифра для минут разговора  больше похожа на число за которое они заплатили, в то время как пользователи тарифа ультра не выговаривают и 70% минут которые им положены по трафику. Похожая ситуация прослеживается и с другими показателями_**"
   ]
  },
  {
   "cell_type": "code",
   "execution_count": 67,
   "metadata": {},
   "outputs": [
    {
     "name": "stdout",
     "output_type": "stream",
     "text": [
      "Для тарифа \"ultra\" дисперсия из траффика пакета \"минуты разговора\" ровняется: 84765.43998573015\n",
      "Для тарифа \"smart\" дисперсия из траффика пакета \"минуты разговора\" ровняется: 32261.710451139672\n",
      "\n",
      "Для тарифа \"ultra\" дисперсия из траффика пакета \"интерент траффик\" ровняется: 90.63911060119422\n",
      "Для тарифа \"smart\" дисперсия из траффика пакета \"интерент траффик\" ровняется: 32.65842016023137\n",
      "\n",
      "Для тарифа \"ultra\" дисперсия из траффика пакета \"сообщения\" ровняется: 2170.648559968025\n",
      "Для тарифа \"smart\" дисперсия из траффика пакета \"сообщения\" ровняется: 799.1297754288024\n",
      "\n",
      "***Все данные приведены для анализа данных по месяцам\n",
      "***Интернет траффик считается в гигабайтах\n"
     ]
    }
   ],
   "source": [
    "# Диссперсия\n",
    "print_exp(df_ultra, 'ultra', 1, 2)\n",
    "print_exp(df_smart, 'smart', 1, 2)\n",
    "print()\n",
    "\n",
    "print_exp(df_ultra, 'ultra', 2, 2)\n",
    "print_exp(df_smart, 'smart', 2, 2)\n",
    "print()\n",
    "\n",
    "print_exp(df_ultra, 'ultra', 3, 2)\n",
    "print_exp(df_smart, 'smart', 3, 2)\n",
    "print()\n",
    "\n",
    "print('***Все данные приведены для анализа данных по месяцам')\n",
    "print('***Интернет траффик считается в гигабайтах')"
   ]
  },
  {
   "cell_type": "markdown",
   "metadata": {},
   "source": [
    "**_Из того, что дисперсия отличается в разы то можно сказать, что среди людей с тарифом ультра есть и те кто выговаривает тратит из тарифа совсем мало и те кто использует тариф по полной, и это понятно так как эти люди заплатили иммено за это за свободу гибкости своего трафика. У тарифа смарт ситуация совсем другая люди тратят примено одно и тоже количество трафика так как ужаты в рамки небольшого пакета._**"
   ]
  },
  {
   "cell_type": "markdown",
   "metadata": {},
   "source": [
    "<font color='blue'>Комментарий от наставника: Да, спасибо за крутые и интересные выводы по тарифам из описательных статистик -- для аналитика важно накапывать инсайты из данных)</font> "
   ]
  },
  {
   "cell_type": "code",
   "execution_count": 68,
   "metadata": {},
   "outputs": [
    {
     "name": "stdout",
     "output_type": "stream",
     "text": [
      "Для тарифа \"ultra\" стандартное отклонение из траффика пакета \"минуты разговора\" ровняется: 291.14504973591795\n",
      "Для тарифа \"smart\" стандартное отклонение из траффика пакета \"минуты разговора\" ровняется: 179.6154515935076\n",
      "\n",
      "Для тарифа \"ultra\" стандартное отклонение из траффика пакета \"интерент траффик\" ровняется: 9.520457478566575\n",
      "Для тарифа \"smart\" стандартное отклонение из траффика пакета \"интерент траффик\" ровняется: 5.714754601925735\n",
      "\n",
      "Для тарифа \"ultra\" стандартное отклонение из траффика пакета \"сообщения\" ровняется: 46.590219574155526\n",
      "Для тарифа \"smart\" стандартное отклонение из траффика пакета \"сообщения\" ровняется: 28.268883519318592\n",
      "\n",
      "***Все данные приведены для анализа данных по месяцам.\n",
      "***Интернет траффик считается в гигабайтах\n"
     ]
    }
   ],
   "source": [
    "# Стандартное отклонение \n",
    "print_exp(df_ultra, 'ultra', 1, 3)\n",
    "print_exp(df_smart, 'smart', 1, 3)\n",
    "print()\n",
    "\n",
    "print_exp(df_ultra, 'ultra', 2, 3)\n",
    "print_exp(df_smart, 'smart', 2, 3)\n",
    "print()\n",
    "\n",
    "print_exp(df_ultra, 'ultra', 3, 3)\n",
    "print_exp(df_smart, 'smart', 3, 3)\n",
    "print()\n",
    "\n",
    "print('***Все данные приведены для анализа данных по месяцам.')\n",
    "print('***Интернет траффик считается в гигабайтах')"
   ]
  },
  {
   "cell_type": "markdown",
   "metadata": {},
   "source": [
    "**_Отклонения от среденего значения для людей из разных тарифов составляет примерно 1.5 раза, и опять же все в пользу тарифа с наибольшим количеством трафика, что не удивительно_**"
   ]
  },
  {
   "cell_type": "code",
   "execution_count": 69,
   "metadata": {},
   "outputs": [
    {
     "data": {
      "text/plain": [
       "array([[<matplotlib.axes._subplots.AxesSubplot object at 0x7fd2e71490b8>,\n",
       "        <matplotlib.axes._subplots.AxesSubplot object at 0x7fd2e71327f0>],\n",
       "       [<matplotlib.axes._subplots.AxesSubplot object at 0x7fd2e7079668>,\n",
       "        <matplotlib.axes._subplots.AxesSubplot object at 0x7fd2e7b1ada0>]],\n",
       "      dtype=object)"
      ]
     },
     "execution_count": 69,
     "metadata": {},
     "output_type": "execute_result"
    },
    {
     "data": {
      "image/png": "[encoded data removed]",
      "text/plain": [
       "<Figure size 1080x1080 with 4 Axes>"
      ]
     },
     "metadata": {
      "needs_background": "light"
     },
     "output_type": "display_data"
    }
   ],
   "source": [
    "df_ultra[['duration','count_mesg','gb_used','age']].hist(color='blue', alpha=0.5, bins=50, figsize = (15,15))"
   ]
  },
  {
   "cell_type": "code",
   "execution_count": 70,
   "metadata": {},
   "outputs": [
    {
     "data": {
      "text/plain": [
       "array([[<matplotlib.axes._subplots.AxesSubplot object at 0x7fd2e56b5860>,\n",
       "        <matplotlib.axes._subplots.AxesSubplot object at 0x7fd2e56cf128>],\n",
       "       [<matplotlib.axes._subplots.AxesSubplot object at 0x7fd2e7efbb70>,\n",
       "        <matplotlib.axes._subplots.AxesSubplot object at 0x7fd2e7f8bcc0>]],\n",
       "      dtype=object)"
      ]
     },
     "execution_count": 70,
     "metadata": {},
     "output_type": "execute_result"
    },
    {
     "data": {
      "image/png": "[encoded data removed]",
      "text/plain": [
       "<Figure size 1080x1080 with 4 Axes>"
      ]
     },
     "metadata": {
      "needs_background": "light"
     },
     "output_type": "display_data"
    }
   ],
   "source": [
    "df_smart[['duration','count_mesg','gb_used','age']].hist(color='blue', alpha=0.5, bins=50, figsize = (15,15));"
   ]
  },
  {
   "cell_type": "markdown",
   "metadata": {},
   "source": [
    "## Нормальное распределение"
   ]
  },
  {
   "cell_type": "markdown",
   "metadata": {},
   "source": [
    "Исходя из гистограмм для проверки математического ожидания нормального распределения буду проверять только на данных траффика звонков и \"интернет-пакета\" для двух выборок разделенных по тарифам.\n",
    "\n",
    "Для этого напишем функцию которая будет принимать на вход ожидания и возвращать результат проверки."
   ]
  },
  {
   "cell_type": "code",
   "execution_count": 71,
   "metadata": {},
   "outputs": [],
   "source": [
    "# математическим ожиданием c стандартным отклонением.\n",
    "def normal_distr(betweenIn, betweenOut, expect):\n",
    "\n",
    "    distr = st.norm(betweenIn, betweenOut) \n",
    "\n",
    "    result = distr.cdf(expect) # считаем вероятность получить значение x \n",
    "    return result"
   ]
  },
  {
   "cell_type": "code",
   "execution_count": 72,
   "metadata": {},
   "outputs": [],
   "source": [
    "# какова вероятность попасть между значениями\n",
    "def varible_between(deviation1, deviation2, betweenIn, betweenOut):\n",
    "\n",
    "    distr = st.norm(deviation1, deviation2) \n",
    "\n",
    "    x1 = betweenIn\n",
    "    x2 = betweenOut\n",
    "\n",
    "    result = distr.cdf(x2) - distr.cdf(x1)\n",
    "    return result"
   ]
  },
  {
   "cell_type": "code",
   "execution_count": 73,
   "metadata": {},
   "outputs": [
    {
     "name": "stdout",
     "output_type": "stream",
     "text": [
      "count    953.000000\n",
      "mean      18.535152\n",
      "std        9.525456\n",
      "min        0.000000\n",
      "25%       11.000000\n",
      "50%       18.000000\n",
      "75%       25.000000\n",
      "max       44.000000\n",
      "Name: gb_used, dtype: float64\n"
     ]
    },
    {
     "data": {
      "text/plain": [
       "array([[<matplotlib.axes._subplots.AxesSubplot object at 0x7fd2e56caa90>]],\n",
       "      dtype=object)"
      ]
     },
     "execution_count": 73,
     "metadata": {},
     "output_type": "execute_result"
    },
    {
     "data": {
      "image/png": "[encoded data removed]",
      "text/plain": [
       "<Figure size 504x504 with 1 Axes>"
      ]
     },
     "metadata": {
      "needs_background": "light"
     },
     "output_type": "display_data"
    }
   ],
   "source": [
    "# для тарифа \"ultra\" посмотрим распределения\n",
    "print(df_ultra['gb_used'].describe())\n",
    "df_ultra[['gb_used']].hist(color='blue', alpha=0.5, bins=50, figsize = (7,7))"
   ]
  },
  {
   "cell_type": "code",
   "execution_count": 74,
   "metadata": {},
   "outputs": [
    {
     "name": "stdout",
     "output_type": "stream",
     "text": [
      "Вероятность стандартного распределения для тарифа ultra по данным интернет траффика составляет:  0.5\n"
     ]
    }
   ],
   "source": [
    "# Вероятность стандартного распределения \n",
    "result = normal_distr(18, 9, 18)\n",
    "print('Вероятность стандартного распределения для тарифа ultra по данным интернет траффика составляет: ',result)"
   ]
  },
  {
   "cell_type": "code",
   "execution_count": 75,
   "metadata": {},
   "outputs": [
    {
     "name": "stdout",
     "output_type": "stream",
     "text": [
      "count     953.000000\n",
      "mean      514.803778\n",
      "std       291.297922\n",
      "min         0.000000\n",
      "25%       289.000000\n",
      "50%       496.000000\n",
      "75%       715.000000\n",
      "max      1545.000000\n",
      "Name: duration, dtype: float64\n"
     ]
    },
    {
     "data": {
      "text/plain": [
       "array([[<matplotlib.axes._subplots.AxesSubplot object at 0x7fd2e52cd588>]],\n",
       "      dtype=object)"
      ]
     },
     "execution_count": 75,
     "metadata": {},
     "output_type": "execute_result"
    },
    {
     "data": {
      "image/png": "[encoded data removed]",
      "text/plain": [
       "<Figure size 504x504 with 1 Axes>"
      ]
     },
     "metadata": {
      "needs_background": "light"
     },
     "output_type": "display_data"
    }
   ],
   "source": [
    "# для тарифа \"ultra\" посмотрим распределения\n",
    "print(df_ultra['duration'].describe())\n",
    "df_ultra[['duration']].hist(color='blue', alpha=0.5, bins=50, figsize = (7,7))"
   ]
  },
  {
   "cell_type": "code",
   "execution_count": 76,
   "metadata": {},
   "outputs": [
    {
     "name": "stdout",
     "output_type": "stream",
     "text": [
      "Вероятность стандартного распределения для тарифа ultra по данным \"минуты разговора\" составляет:  0.2524925375469229\n"
     ]
    }
   ],
   "source": [
    "# Вероятность стандартного распределения \n",
    "result = normal_distr(500, 150, 400)\n",
    "print('Вероятность стандартного распределения для тарифа ultra по данным \"минуты разговора\" составляет: ',result)"
   ]
  },
  {
   "cell_type": "code",
   "execution_count": 77,
   "metadata": {},
   "outputs": [
    {
     "name": "stdout",
     "output_type": "stream",
     "text": [
      "count    2223.00000\n",
      "mean       16.17274\n",
      "std         5.71604\n",
      "min         0.00000\n",
      "25%        13.00000\n",
      "50%        16.00000\n",
      "75%        20.00000\n",
      "max        38.00000\n",
      "Name: gb_used, dtype: float64\n"
     ]
    },
    {
     "data": {
      "text/plain": [
       "array([[<matplotlib.axes._subplots.AxesSubplot object at 0x7fd2e5102c88>]],\n",
       "      dtype=object)"
      ]
     },
     "execution_count": 77,
     "metadata": {},
     "output_type": "execute_result"
    },
    {
     "data": {
      "image/png": "[encoded data removed]",
      "text/plain": [
       "<Figure size 504x504 with 1 Axes>"
      ]
     },
     "metadata": {
      "needs_background": "light"
     },
     "output_type": "display_data"
    }
   ],
   "source": [
    "# для тарифа \"smart\" посмотрим распределения\n",
    "print(df_smart['gb_used'].describe())\n",
    "df_smart[['gb_used']].hist(color='blue', alpha=0.5, bins=50, figsize = (7,7))"
   ]
  },
  {
   "cell_type": "code",
   "execution_count": 78,
   "metadata": {},
   "outputs": [
    {
     "name": "stdout",
     "output_type": "stream",
     "text": [
      "Вероятность стандартного распределения для тарифа smart по данным \"интерент-траффика\" составляет:  0.42074029056089696\n"
     ]
    }
   ],
   "source": [
    "# Вероятность стандартного распределения \n",
    "result = normal_distr(16, 5, 15)\n",
    "print('Вероятность стандартного распределения для тарифа smart по данным \"интерент-траффика\" составляет: ',result)"
   ]
  },
  {
   "cell_type": "code",
   "execution_count": 79,
   "metadata": {},
   "outputs": [
    {
     "name": "stdout",
     "output_type": "stream",
     "text": [
      "count    2223.000000\n",
      "mean      397.034638\n",
      "std       179.655865\n",
      "min         0.000000\n",
      "25%       266.000000\n",
      "50%       401.000000\n",
      "75%       520.000000\n",
      "max      1318.000000\n",
      "Name: duration, dtype: float64\n"
     ]
    },
    {
     "data": {
      "text/plain": [
       "array([[<matplotlib.axes._subplots.AxesSubplot object at 0x7fd2e50b9630>]],\n",
       "      dtype=object)"
      ]
     },
     "execution_count": 79,
     "metadata": {},
     "output_type": "execute_result"
    },
    {
     "data": {
      "image/png": "[encoded data removed]",
      "text/plain": [
       "<Figure size 504x504 with 1 Axes>"
      ]
     },
     "metadata": {
      "needs_background": "light"
     },
     "output_type": "display_data"
    }
   ],
   "source": [
    "# для тарифа \"smart\" посмотрим распределения\n",
    "print(df_smart['duration'].describe())\n",
    "df_smart[['duration']].hist(color='blue', alpha=0.5, bins=50, figsize = (7,7))"
   ]
  },
  {
   "cell_type": "code",
   "execution_count": 80,
   "metadata": {
    "scrolled": true
   },
   "outputs": [
    {
     "name": "stdout",
     "output_type": "stream",
     "text": [
      "Вероятность стандартного распределения для тарифа smart по данным \"минуты разговора\" составляет:  0.43381616738909634\n"
     ]
    }
   ],
   "source": [
    "# Вероятность стандартного распределения \n",
    "result = normal_distr(550, 120, 380)\n",
    "print('Вероятность стандартного распределения для тарифа smart по данным \"минуты разговора\" составляет: ',result)"
   ]
  },
  {
   "cell_type": "markdown",
   "metadata": {},
   "source": [
    "# Проверка гипотез"
   ]
  },
  {
   "cell_type": "markdown",
   "metadata": {},
   "source": [
    "Есть два вопроса на которые нам предстоит ответить:\n",
    "    * средняя выручка пользователей тарифов «Ультра» и «Смарт» различаются;\n",
    "    * средняя выручка пользователей из Москвы отличается от выручки пользователей из других регионов;\n",
    "    \n",
    "Здесь мы будем применять методы сравнения двух генеральных совокупностей. Зависимых парных я пока не могу придумать какой то правильный вопрос. \n",
    "\n",
    "А, что касается проверки средних то тут все понятно и для реализации напишим функцию в котороую надо будет отдавать два столбика датафрейма для проверики их среднего сопоставления. Перед этим придется их сгрупировать по пользователю.\n",
    "\n",
    "\n",
    "\n",
    "\n",
    "Для уровня значимости, я буду опираться только на построенные граффики и чутье) если мне будет нравится нормальное распределение отрисованное на граффике то я бы установил ее в нормальных общепринятых пределах т.е. -.05 если график будет напоминать нормальное распределение только в пике тогда я сокращу от .01 до .03 (Если я правильно понял тему)"
   ]
  },
  {
   "cell_type": "code",
   "execution_count": 81,
   "metadata": {},
   "outputs": [],
   "source": [
    "# Преобразование колонки в массив значений\n",
    "def prepare_array(column_dt):\n",
    "    \n",
    "    array_return = []\n",
    "    \n",
    "    for i in column_dt:\n",
    "        array_return.append(i)\n",
    "\n",
    "    return array_return   \n",
    "\n",
    "# проверка гипотезы о равенстве средней для двух генеральных совокупностей\n",
    "def diff_mean_other_group(column_dt1, column_dt2, alpha):\n",
    "\n",
    "    array_1 = prepare_array(column_dt1)\n",
    "    array_2 = prepare_array(column_dt2)\n",
    "\n",
    "    alpha_set = alpha   # критический уровень статистической значимости\n",
    "                        # если p-value окажется меньше него - отвергнем гипотезу\n",
    "\n",
    "    results = st.ttest_ind(\n",
    "        array_1, \n",
    "        array_2)\n",
    "\n",
    "    print('p-значение:', results.pvalue)\n",
    "\n",
    "    if (results.pvalue < alpha_set):\n",
    "        print(\"Отвергаем нулевую гипотезу\")\n",
    "    else:\n",
    "        print(\"Не получилось отвергнуть нулевую гипотезу\")"
   ]
  },
  {
   "cell_type": "markdown",
   "metadata": {},
   "source": [
    "### Cредняя выручка пользователей тарифов «Ультра» и «Смарт» различаются ?"
   ]
  },
  {
   "cell_type": "code",
   "execution_count": 82,
   "metadata": {},
   "outputs": [],
   "source": [
    "df_user_pay = df.groupby(['user_id', 'tariff', 'city'])\n",
    "df_user_pay = df_user_pay.agg(sum).reset_index()\n",
    "df_user_pay.index.names = ['id']"
   ]
  },
  {
   "cell_type": "markdown",
   "metadata": {},
   "source": [
    "<font color='green'>группируем датасет в для каждогопользователя в разрезе тарифа и города(он нам потом тоже понадобится) </font>"
   ]
  },
  {
   "cell_type": "code",
   "execution_count": 83,
   "metadata": {},
   "outputs": [],
   "source": [
    "df_ultra_pay = df_user_pay.query('tariff == \"ultra\"')\n",
    "df_smart_pay = df_user_pay.query('tariff == \"smart\"')"
   ]
  },
  {
   "cell_type": "markdown",
   "metadata": {},
   "source": [
    "<font color='green'>Делим массив на два тарифа</font>"
   ]
  },
  {
   "cell_type": "code",
   "execution_count": 84,
   "metadata": {},
   "outputs": [
    {
     "name": "stdout",
     "output_type": "stream",
     "text": [
      "Количество пользователей тарифа \"ultra\" : 149\n",
      "Количество пользователей тарифа \"smart\" : 351\n"
     ]
    }
   ],
   "source": [
    "print('Количество пользователей тарифа \"ultra\" :', len(df_ultra_pay))\n",
    "print('Количество пользователей тарифа \"smart\" :', len(df_smart_pay))"
   ]
  },
  {
   "cell_type": "markdown",
   "metadata": {},
   "source": [
    "<font color='green'>Сравниваем количество строк в массиве так как для чистоты эксперимента нам надо два равных по количеству строк массива.</font>"
   ]
  },
  {
   "cell_type": "code",
   "execution_count": 85,
   "metadata": {},
   "outputs": [
    {
     "data": {
      "text/plain": [
       "149"
      ]
     },
     "execution_count": 85,
     "metadata": {},
     "output_type": "execute_result"
    }
   ],
   "source": [
    "#  сравним по максимуму\n",
    "df_smart_pay_pr = df_smart_pay.head(len(df_ultra_pay))\n",
    "len(df_smart_pay_pr)"
   ]
  },
  {
   "cell_type": "markdown",
   "metadata": {},
   "source": [
    "<font color='green'>приравниваем два массива к наименьшему</font>"
   ]
  },
  {
   "cell_type": "code",
   "execution_count": 86,
   "metadata": {},
   "outputs": [
    {
     "data": {
      "text/plain": [
       "array([[<matplotlib.axes._subplots.AxesSubplot object at 0x7fd2e4f35390>]],\n",
       "      dtype=object)"
      ]
     },
     "execution_count": 86,
     "metadata": {},
     "output_type": "execute_result"
    },
    {
     "data": {
      "image/png": "[encoded data removed]",
      "text/plain": [
       "<Figure size 216x216 with 1 Axes>"
      ]
     },
     "metadata": {
      "needs_background": "light"
     },
     "output_type": "display_data"
    },
    {
     "data": {
      "image/png": "[encoded data removed]",
      "text/plain": [
       "<Figure size 216x216 with 1 Axes>"
      ]
     },
     "metadata": {
      "needs_background": "light"
     },
     "output_type": "display_data"
    }
   ],
   "source": [
    "df_smart_pay_pr[['full_pay_mnt']].hist(color='blue', alpha=0.5, bins=50, figsize = (3,3))\n",
    "df_ultra_pay[['full_pay_mnt']].hist(color='blue', alpha=0.5, bins=50, figsize = (3,3))"
   ]
  },
  {
   "cell_type": "markdown",
   "metadata": {},
   "source": [
    "<font color='green'>Этими графиками я хочу посмотреть какой же уровень статистической значимости мне стоит выбрать?? и судя по тому как они выглядят, тут конечно и десятки будет мало, но возьму по стандарту .05 (не хуже не лучне не будет)</font>"
   ]
  },
  {
   "cell_type": "code",
   "execution_count": 87,
   "metadata": {
    "scrolled": true
   },
   "outputs": [
    {
     "name": "stdout",
     "output_type": "stream",
     "text": [
      "p-значение: 2.0911624113223706e-12\n",
      "Отвергаем нулевую гипотезу\n"
     ]
    }
   ],
   "source": [
    "ultra_pay = df_ultra_pay['full_pay_mnt']\n",
    "smart_pay = df_smart_pay_pr['full_pay_mnt']\n",
    "\n",
    "alpha = .05\n",
    "\n",
    "diff_mean_other_group(ultra_pay,smart_pay,alpha)"
   ]
  },
  {
   "cell_type": "markdown",
   "metadata": {},
   "source": [
    "<font color='green'>То чего и стоило ожидать. Мы с увереностью можем сказать, что средняя этих двух категорий очень чильно различается, даже не смотря на переплату перерасхода трафика в тарифе smart</font>"
   ]
  },
  {
   "cell_type": "markdown",
   "metadata": {},
   "source": [
    "### Альтернативная гипотеза"
   ]
  },
  {
   "cell_type": "markdown",
   "metadata": {},
   "source": [
    "Сформмирую одну альтернативную гипотезу. Мы узнали, что у людей из тарифа смарт всегда есть перерасхрод и они переплачивают за дополнительные услуги особенно это касается интернета так вот мы постораемся узнать на сколько выгодно людям из тарифа  смарт платить стоитмость тарифа ультра"
   ]
  },
  {
   "cell_type": "markdown",
   "metadata": {},
   "source": [
    "<font color='green'> тут мне хочется проверить на сколько часто люди из все совокупности тарифа smart перелачивали сверх своего тарифа в 550 руб. я ставлю низкую планку в переплту в 50 рублей. и ожидаю увидеть число 600 руб в месяц (тариф + переплата).</font>"
   ]
  },
  {
   "cell_type": "markdown",
   "metadata": {},
   "source": [
    "##### нуливая гипотеза: Люди с тарифом smart всегда переплачивают"
   ]
  },
  {
   "cell_type": "code",
   "execution_count": 88,
   "metadata": {},
   "outputs": [
    {
     "name": "stdout",
     "output_type": "stream",
     "text": [
      "p-значение: 1.9274808166624657e-247\n",
      "Отвергаем нулевую гипотезу\n"
     ]
    }
   ],
   "source": [
    "array_pat_smart = []\n",
    "    \n",
    "for i in df_smart['full_pay_mnt']:\n",
    "    array_pat_smart.append(i)\n",
    "\n",
    "interested_value = 600\n",
    "\n",
    "alpha = .05 # критический уровень статистической значимости\n",
    "\n",
    "results = st.ttest_1samp(\n",
    "    array_pat_smart, \n",
    "    interested_value)\n",
    "\n",
    "print('p-значение:', results.pvalue)\n",
    "\n",
    "if (results.pvalue < alpha):\n",
    "    print(\"Отвергаем нулевую гипотезу\")\n",
    "else:\n",
    "    print(\"Не получилось отвергнуть нулевую гипотезу\")"
   ]
  },
  {
   "cell_type": "markdown",
   "metadata": {},
   "source": [
    "<font color='green'>Так как мы видим, что число не входит в нулевой порог мы с увереностью можем сказать, что люди в большей своей части не переплачивают сверх тарифа</font>"
   ]
  },
  {
   "cell_type": "markdown",
   "metadata": {},
   "source": [
    "### Cредняя выручка пользователей из Москвы отличается от выручки пользователей из других регионов"
   ]
  },
  {
   "cell_type": "code",
   "execution_count": 89,
   "metadata": {},
   "outputs": [],
   "source": [
    "# Для дальнейшего анализа разделим массив данных на два тарифа\n",
    "df_moscow = df_user_pay.query('city == \"Москва\"')\n",
    "df_nonMoscow = df_user_pay.query('city != \"Москва\"')"
   ]
  },
  {
   "cell_type": "code",
   "execution_count": 90,
   "metadata": {},
   "outputs": [
    {
     "name": "stdout",
     "output_type": "stream",
     "text": [
      "Для Москвы количество пользователей состовляет:  99\n",
      "Для остальных регионов количество пользователей состовляет:  401\n"
     ]
    }
   ],
   "source": [
    "# так как нам надо сравнивать одинаковое количество в массиве посмотрим сколько получилось данных\n",
    "print('Для Москвы количество пользователей состовляет: ', len(df_moscow))\n",
    "print('Для остальных регионов количество пользователей состовляет: ', len(df_nonMoscow))"
   ]
  },
  {
   "cell_type": "code",
   "execution_count": 91,
   "metadata": {},
   "outputs": [
    {
     "data": {
      "text/plain": [
       "99"
      ]
     },
     "execution_count": 91,
     "metadata": {},
     "output_type": "execute_result"
    }
   ],
   "source": [
    "#  сравним по максимуму\n",
    "df_nonMoscow_pr = df_nonMoscow.head(len(df_moscow))\n",
    "len(df_nonMoscow_pr)"
   ]
  },
  {
   "cell_type": "code",
   "execution_count": 92,
   "metadata": {},
   "outputs": [
    {
     "data": {
      "text/plain": [
       "array([[<matplotlib.axes._subplots.AxesSubplot object at 0x7fd2e4dbd6d8>]],\n",
       "      dtype=object)"
      ]
     },
     "execution_count": 92,
     "metadata": {},
     "output_type": "execute_result"
    },
    {
     "data": {
      "image/png": "[encoded data removed]",
      "text/plain": [
       "<Figure size 216x216 with 1 Axes>"
      ]
     },
     "metadata": {
      "needs_background": "light"
     },
     "output_type": "display_data"
    },
    {
     "data": {
      "image/png": "[encoded data removed]",
      "text/plain": [
       "<Figure size 216x216 with 1 Axes>"
      ]
     },
     "metadata": {
      "needs_background": "light"
     },
     "output_type": "display_data"
    }
   ],
   "source": [
    "df_nonMoscow_pr[['full_pay_mnt']].hist(color='blue', alpha=0.5, bins=50, figsize = (3,3))\n",
    "df_moscow[['full_pay_mnt']].hist(color='blue', alpha=0.5, bins=50, figsize = (3,3))"
   ]
  },
  {
   "cell_type": "code",
   "execution_count": 93,
   "metadata": {},
   "outputs": [
    {
     "name": "stdout",
     "output_type": "stream",
     "text": [
      "p-значение: 0.8816339944850318\n",
      "Не получилось отвергнуть нулевую гипотезу\n"
     ]
    }
   ],
   "source": [
    "ultra_pay = df_moscow['full_pay_mnt']\n",
    "smart_pay = df_nonMoscow_pr['full_pay_mnt']\n",
    "\n",
    "alpha = .05\n",
    "\n",
    "diff_mean_other_group(ultra_pay,smart_pay,alpha)"
   ]
  },
  {
   "cell_type": "markdown",
   "metadata": {},
   "source": [
    "<font color='green'>Здесь мы так же используем выборку по двум генеральным совокупностям. Отвечаем на вопрос отличается средняя для стоимость оплаты в месяц для проживающих в Москве и других городах и тут мы можем констатировать, что среденяя оплата тарифа примерно одинаковы.</font>"
   ]
  },
  {
   "cell_type": "markdown",
   "metadata": {},
   "source": [
    "# Общий вывод"
   ]
  },
  {
   "cell_type": "markdown",
   "metadata": {},
   "source": [
    "С смаого начала помимо заданых вопросов заданием мне было интересно смотреть на эти данные моим житейским взглядом, стоит ли переплачивать за тариф или нет и что может человека сподвигруть на покупку того или иного тарифа. На второй вопрос мы этим исследованием вряд ли ответим но вот первый становится давольно понятен.\n",
    "    * _Люди которые платят за тариф ультра чеще всего не приследуют выгоду оптовой покупки трафика в виде мегабайт, минут и смс. Они покупают \"гибкость\" и \"свободу\" и готовы за это платить минута стоимости разговора в год у тарифа ультра больше хотя при покупке оптовогво пакета разрезе месяца она стоит меньше._\n",
    "    * _Тариф смарт преобретают люди бережливые которые его и \"выговаривают\" иногда переходя за лимит, но никогда не тратят сопостовимые суммы тарифа ультра.\n",
    "    * Выдвигалось две гипотезы, различается ли средняя выручка для людей из тарифа ультра и тарифа смарт и различатся ли стредняя плата в месяц для людей из Москвы и других регионов. Если первая гипотеза показала, что да действительно средняя выручко для двух этих совокупностей очень сильно отличается то для второй гипотезы разница в средних на общий массив не была критичной и мы можем сказать, что средняя плата в месяц в Москве и регионах похожа.\n",
    "    * Для альтернативной гипотезы, я задался вопросом переплачивают ли люди из тарифа смарт хотя бы 50 руб в месяц сверх тарифа и она показала, что в основном массиве данных переплата не такое частое явление. "
   ]
  }
 ],
 "metadata": {
  "kernelspec": {
   "display_name": "Python 3",
   "language": "python",
   "name": "python3"
  },
  "language_info": {
   "codemirror_mode": {
    "name": "ipython",
    "version": 3
   },
   "file_extension": ".py",
   "mimetype": "text/x-python",
   "name": "python",
   "nbconvert_exporter": "python",
   "pygments_lexer": "ipython3",
   "version": "3.7.6"
  }
 },
 "nbformat": 4,
 "nbformat_minor": 4
}
